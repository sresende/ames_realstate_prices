{
 "cells": [
  {
   "cell_type": "markdown",
   "metadata": {},
   "source": [
    "<img src=\"http://imgur.com/1ZcRyrc.png\" style=\"float: left; margin: 20px; height: 55px\">\n",
    "\n",
    "# Project 2: Ames Housing Data and Kaggle Challenge"
   ]
  },
  {
   "cell_type": "markdown",
   "metadata": {},
   "source": [
    "--- \n",
    "# Part 1\n",
    "\n",
    "---"
   ]
  },
  {
   "cell_type": "markdown",
   "metadata": {},
   "source": [
    "### I. Data Cleaning and EDA \n",
    "\n",
    "\n",
    "•\tAre missing values imputed appropriately? \\\n",
    "•\tAre distributions examined and described? \\\n",
    "•\tAre outliers identified and addressed? \\\n",
    "•\tAre appropriate summary statistics provided? \\\n",
    "•\tAre steps taken during data cleaning and EDA framed appropriately? \\\n",
    "•\tDoes the student address whether or not they are likely to be able to answer their problem statement with the provided data given what they've discovered during EDA?\n"
   ]
  },
  {
   "cell_type": "markdown",
   "metadata": {},
   "source": [
    "*All libraries used should be added here*"
   ]
  },
  {
   "cell_type": "code",
   "execution_count": 1,
   "metadata": {},
   "outputs": [],
   "source": [
    "# Importing Libraries\n",
    "import pandas as pd\n",
    "import numpy as np\n",
    "import matplotlib.pyplot as plt\n",
    "import seaborn as sns"
   ]
  },
  {
   "cell_type": "code",
   "execution_count": 5,
   "metadata": {
    "tags": []
   },
   "outputs": [
    {
     "data": {
      "text/html": [
       "<div>\n",
       "<style scoped>\n",
       "    .dataframe tbody tr th:only-of-type {\n",
       "        vertical-align: middle;\n",
       "    }\n",
       "\n",
       "    .dataframe tbody tr th {\n",
       "        vertical-align: top;\n",
       "    }\n",
       "\n",
       "    .dataframe thead th {\n",
       "        text-align: right;\n",
       "    }\n",
       "</style>\n",
       "<table border=\"1\" class=\"dataframe\">\n",
       "  <thead>\n",
       "    <tr style=\"text-align: right;\">\n",
       "      <th></th>\n",
       "      <th>Id</th>\n",
       "      <th>PID</th>\n",
       "      <th>MS SubClass</th>\n",
       "      <th>MS Zoning</th>\n",
       "      <th>Lot Frontage</th>\n",
       "      <th>Lot Area</th>\n",
       "      <th>Street</th>\n",
       "      <th>Alley</th>\n",
       "      <th>Lot Shape</th>\n",
       "      <th>Land Contour</th>\n",
       "      <th>...</th>\n",
       "      <th>Screen Porch</th>\n",
       "      <th>Pool Area</th>\n",
       "      <th>Pool QC</th>\n",
       "      <th>Fence</th>\n",
       "      <th>Misc Feature</th>\n",
       "      <th>Misc Val</th>\n",
       "      <th>Mo Sold</th>\n",
       "      <th>Yr Sold</th>\n",
       "      <th>Sale Type</th>\n",
       "      <th>SalePrice</th>\n",
       "    </tr>\n",
       "  </thead>\n",
       "  <tbody>\n",
       "    <tr>\n",
       "      <th>0</th>\n",
       "      <td>109</td>\n",
       "      <td>533352170</td>\n",
       "      <td>60</td>\n",
       "      <td>RL</td>\n",
       "      <td>NaN</td>\n",
       "      <td>13517</td>\n",
       "      <td>Pave</td>\n",
       "      <td>NaN</td>\n",
       "      <td>IR1</td>\n",
       "      <td>Lvl</td>\n",
       "      <td>...</td>\n",
       "      <td>0</td>\n",
       "      <td>0</td>\n",
       "      <td>NaN</td>\n",
       "      <td>NaN</td>\n",
       "      <td>NaN</td>\n",
       "      <td>0</td>\n",
       "      <td>3</td>\n",
       "      <td>2010</td>\n",
       "      <td>WD</td>\n",
       "      <td>130500</td>\n",
       "    </tr>\n",
       "    <tr>\n",
       "      <th>1</th>\n",
       "      <td>544</td>\n",
       "      <td>531379050</td>\n",
       "      <td>60</td>\n",
       "      <td>RL</td>\n",
       "      <td>43.0</td>\n",
       "      <td>11492</td>\n",
       "      <td>Pave</td>\n",
       "      <td>NaN</td>\n",
       "      <td>IR1</td>\n",
       "      <td>Lvl</td>\n",
       "      <td>...</td>\n",
       "      <td>0</td>\n",
       "      <td>0</td>\n",
       "      <td>NaN</td>\n",
       "      <td>NaN</td>\n",
       "      <td>NaN</td>\n",
       "      <td>0</td>\n",
       "      <td>4</td>\n",
       "      <td>2009</td>\n",
       "      <td>WD</td>\n",
       "      <td>220000</td>\n",
       "    </tr>\n",
       "    <tr>\n",
       "      <th>2</th>\n",
       "      <td>153</td>\n",
       "      <td>535304180</td>\n",
       "      <td>20</td>\n",
       "      <td>RL</td>\n",
       "      <td>68.0</td>\n",
       "      <td>7922</td>\n",
       "      <td>Pave</td>\n",
       "      <td>NaN</td>\n",
       "      <td>Reg</td>\n",
       "      <td>Lvl</td>\n",
       "      <td>...</td>\n",
       "      <td>0</td>\n",
       "      <td>0</td>\n",
       "      <td>NaN</td>\n",
       "      <td>NaN</td>\n",
       "      <td>NaN</td>\n",
       "      <td>0</td>\n",
       "      <td>1</td>\n",
       "      <td>2010</td>\n",
       "      <td>WD</td>\n",
       "      <td>109000</td>\n",
       "    </tr>\n",
       "    <tr>\n",
       "      <th>3</th>\n",
       "      <td>318</td>\n",
       "      <td>916386060</td>\n",
       "      <td>60</td>\n",
       "      <td>RL</td>\n",
       "      <td>73.0</td>\n",
       "      <td>9802</td>\n",
       "      <td>Pave</td>\n",
       "      <td>NaN</td>\n",
       "      <td>Reg</td>\n",
       "      <td>Lvl</td>\n",
       "      <td>...</td>\n",
       "      <td>0</td>\n",
       "      <td>0</td>\n",
       "      <td>NaN</td>\n",
       "      <td>NaN</td>\n",
       "      <td>NaN</td>\n",
       "      <td>0</td>\n",
       "      <td>4</td>\n",
       "      <td>2010</td>\n",
       "      <td>WD</td>\n",
       "      <td>174000</td>\n",
       "    </tr>\n",
       "    <tr>\n",
       "      <th>4</th>\n",
       "      <td>255</td>\n",
       "      <td>906425045</td>\n",
       "      <td>50</td>\n",
       "      <td>RL</td>\n",
       "      <td>82.0</td>\n",
       "      <td>14235</td>\n",
       "      <td>Pave</td>\n",
       "      <td>NaN</td>\n",
       "      <td>IR1</td>\n",
       "      <td>Lvl</td>\n",
       "      <td>...</td>\n",
       "      <td>0</td>\n",
       "      <td>0</td>\n",
       "      <td>NaN</td>\n",
       "      <td>NaN</td>\n",
       "      <td>NaN</td>\n",
       "      <td>0</td>\n",
       "      <td>3</td>\n",
       "      <td>2010</td>\n",
       "      <td>WD</td>\n",
       "      <td>138500</td>\n",
       "    </tr>\n",
       "  </tbody>\n",
       "</table>\n",
       "<p>5 rows × 81 columns</p>\n",
       "</div>"
      ],
      "text/plain": [
       "    Id        PID  MS SubClass MS Zoning  Lot Frontage  Lot Area Street Alley  \\\n",
       "0  109  533352170           60        RL           NaN     13517   Pave   NaN   \n",
       "1  544  531379050           60        RL          43.0     11492   Pave   NaN   \n",
       "2  153  535304180           20        RL          68.0      7922   Pave   NaN   \n",
       "3  318  916386060           60        RL          73.0      9802   Pave   NaN   \n",
       "4  255  906425045           50        RL          82.0     14235   Pave   NaN   \n",
       "\n",
       "  Lot Shape Land Contour  ... Screen Porch Pool Area Pool QC Fence  \\\n",
       "0       IR1          Lvl  ...            0         0     NaN   NaN   \n",
       "1       IR1          Lvl  ...            0         0     NaN   NaN   \n",
       "2       Reg          Lvl  ...            0         0     NaN   NaN   \n",
       "3       Reg          Lvl  ...            0         0     NaN   NaN   \n",
       "4       IR1          Lvl  ...            0         0     NaN   NaN   \n",
       "\n",
       "  Misc Feature Misc Val Mo Sold Yr Sold  Sale Type  SalePrice  \n",
       "0          NaN        0       3    2010        WD      130500  \n",
       "1          NaN        0       4    2009        WD      220000  \n",
       "2          NaN        0       1    2010        WD      109000  \n",
       "3          NaN        0       4    2010        WD      174000  \n",
       "4          NaN        0       3    2010        WD      138500  \n",
       "\n",
       "[5 rows x 81 columns]"
      ]
     },
     "execution_count": 5,
     "metadata": {},
     "output_type": "execute_result"
    }
   ],
   "source": [
    "# Loading and Displaying data\n",
    "pd.set_option('display.max_rows', None)\n",
    "ames = pd.read_csv('../data/train.csv')\n",
    "ames.head()"
   ]
  },
  {
   "cell_type": "code",
   "execution_count": 6,
   "metadata": {},
   "outputs": [
    {
     "data": {
      "text/plain": [
       "Index(['id', 'pid', 'ms_subclass', 'ms_zoning', 'lot_frontage', 'lot_area',\n",
       "       'street', 'alley', 'lot_shape', 'land_contour', 'utilities',\n",
       "       'lot_config', 'land_slope', 'neighborhood', 'condition_1',\n",
       "       'condition_2', 'bldg_type', 'house_style', 'overall_qual',\n",
       "       'overall_cond', 'year_built', 'year_remod/add', 'roof_style',\n",
       "       'roof_matl', 'exterior_1st', 'exterior_2nd', 'mas_vnr_type',\n",
       "       'mas_vnr_area', 'exter_qual', 'exter_cond', 'foundation', 'bsmt_qual',\n",
       "       'bsmt_cond', 'bsmt_exposure', 'bsmtfin_type_1', 'bsmtfin_sf_1',\n",
       "       'bsmtfin_type_2', 'bsmtfin_sf_2', 'bsmt_unf_sf', 'total_bsmt_sf',\n",
       "       'heating', 'heating_qc', 'central_air', 'electrical', '1st_flr_sf',\n",
       "       '2nd_flr_sf', 'low_qual_fin_sf', 'gr_liv_area', 'bsmt_full_bath',\n",
       "       'bsmt_half_bath', 'full_bath', 'half_bath', 'bedroom_abvgr',\n",
       "       'kitchen_abvgr', 'kitchen_qual', 'totrms_abvgrd', 'functional',\n",
       "       'fireplaces', 'fireplace_qu', 'garage_type', 'garage_yr_blt',\n",
       "       'garage_finish', 'garage_cars', 'garage_area', 'garage_qual',\n",
       "       'garage_cond', 'paved_drive', 'wood_deck_sf', 'open_porch_sf',\n",
       "       'enclosed_porch', '3ssn_porch', 'screen_porch', 'pool_area', 'pool_qc',\n",
       "       'fence', 'misc_feature', 'misc_val', 'mo_sold', 'yr_sold', 'sale_type',\n",
       "       'saleprice'],\n",
       "      dtype='object')"
      ]
     },
     "execution_count": 6,
     "metadata": {},
     "output_type": "execute_result"
    }
   ],
   "source": [
    "ames.columns = ames.columns.str.replace('Ms ', '', regex = False).str.replace(' ', '_')\n",
    "ames.columns = ames.columns.str.lower()\n",
    "ames.columns"
   ]
  },
  {
   "cell_type": "code",
   "execution_count": 7,
   "metadata": {
    "scrolled": true,
    "tags": []
   },
   "outputs": [
    {
     "data": {
      "text/plain": [
       "id                    0\n",
       "pid                   0\n",
       "ms_subclass           0\n",
       "ms_zoning             0\n",
       "lot_frontage        330\n",
       "lot_area              0\n",
       "street                0\n",
       "alley              1911\n",
       "lot_shape             0\n",
       "land_contour          0\n",
       "utilities             0\n",
       "lot_config            0\n",
       "land_slope            0\n",
       "neighborhood          0\n",
       "condition_1           0\n",
       "condition_2           0\n",
       "bldg_type             0\n",
       "house_style           0\n",
       "overall_qual          0\n",
       "overall_cond          0\n",
       "year_built            0\n",
       "year_remod/add        0\n",
       "roof_style            0\n",
       "roof_matl             0\n",
       "exterior_1st          0\n",
       "exterior_2nd          0\n",
       "mas_vnr_type         22\n",
       "mas_vnr_area         22\n",
       "exter_qual            0\n",
       "exter_cond            0\n",
       "foundation            0\n",
       "bsmt_qual            55\n",
       "bsmt_cond            55\n",
       "bsmt_exposure        58\n",
       "bsmtfin_type_1       55\n",
       "bsmtfin_sf_1          1\n",
       "bsmtfin_type_2       56\n",
       "bsmtfin_sf_2          1\n",
       "bsmt_unf_sf           1\n",
       "total_bsmt_sf         1\n",
       "heating               0\n",
       "heating_qc            0\n",
       "central_air           0\n",
       "electrical            0\n",
       "1st_flr_sf            0\n",
       "2nd_flr_sf            0\n",
       "low_qual_fin_sf       0\n",
       "gr_liv_area           0\n",
       "bsmt_full_bath        2\n",
       "bsmt_half_bath        2\n",
       "full_bath             0\n",
       "half_bath             0\n",
       "bedroom_abvgr         0\n",
       "kitchen_abvgr         0\n",
       "kitchen_qual          0\n",
       "totrms_abvgrd         0\n",
       "functional            0\n",
       "fireplaces            0\n",
       "fireplace_qu       1000\n",
       "garage_type         113\n",
       "garage_yr_blt       114\n",
       "garage_finish       114\n",
       "garage_cars           1\n",
       "garage_area           1\n",
       "garage_qual         114\n",
       "garage_cond         114\n",
       "paved_drive           0\n",
       "wood_deck_sf          0\n",
       "open_porch_sf         0\n",
       "enclosed_porch        0\n",
       "3ssn_porch            0\n",
       "screen_porch          0\n",
       "pool_area             0\n",
       "pool_qc            2042\n",
       "fence              1651\n",
       "misc_feature       1986\n",
       "misc_val              0\n",
       "mo_sold               0\n",
       "yr_sold               0\n",
       "sale_type             0\n",
       "saleprice             0\n",
       "dtype: int64"
      ]
     },
     "execution_count": 7,
     "metadata": {},
     "output_type": "execute_result"
    }
   ],
   "source": [
    "ames.isnull().sum()"
   ]
  },
  {
   "cell_type": "code",
   "execution_count": null,
   "metadata": {},
   "outputs": [],
   "source": [
    "list_of_columns_to_survey = df.columns\n",
    "\n",
    "for col_name in list_of_columns_to_survey:\n",
    "    \n",
    "    if ames[col_name].\n",
    "    print('------  VALUE COUNTS ------------------')\n",
    "    print(df[col_name].value_counts())\n",
    "    \n",
    "    \n",
    "    "
   ]
  },
  {
   "cell_type": "code",
   "execution_count": 8,
   "metadata": {},
   "outputs": [
    {
     "ename": "SyntaxError",
     "evalue": "invalid syntax (3150731922.py, line 2)",
     "output_type": "error",
     "traceback": [
      "\u001b[0;36m  Input \u001b[0;32mIn [8]\u001b[0;36m\u001b[0m\n\u001b[0;31m    features = ['neighborhood','mas_vnr_area','gr_liv_area',a'total_bsmt_sf',\u001b[0m\n\u001b[0m                                                             ^\u001b[0m\n\u001b[0;31mSyntaxError\u001b[0m\u001b[0;31m:\u001b[0m invalid syntax\n"
     ]
    }
   ],
   "source": [
    "# Selecting Signal and Noise\n",
    "features = ['neighborhood','mas_vnr_area','gr_liv_area',a'total_bsmt_sf',\n",
    "            'lot_area','ms_zoning','bldg_type','bedroom_abvgr','full_bath' ,  \n",
    "            'year_built', 'mo_sold', 'yr_sold', 'saleprice']\n",
    "\n",
    "### ''' \n",
    "# 'mas_vnr_type','kitchen_abvgr','utilities','heating', 'electrical',\n",
    "# 'ms_subclass', 'lot_frontage', 'street',\n",
    "# 'alley', 'lot_shape', 'land_contour',  'lot_config',\n",
    "# 'land_slope', 'condition_1', 'condition_2', ,\n",
    "# 'house_style', 'overall_qual', 'overall_cond', \n",
    "# 'year_remod/add', 'roof_style', 'roof_matl', \n",
    "# 'exterior_1st','exterior_2nd', , \n",
    "# 'exter_qual','exter_cond', 'foundation', 'bsmt_qual', \n",
    "# 'bsmt_cond', 'bsmt_exposure','bsmtfin_type_1', \n",
    "# 'bsmtfin_sf_1', 'bsmtfin_type_2', 'bsmtfin_sf_2',\n",
    "# 'bsmt_unf_sf', 'total_bsmt_sf', \n",
    "# 'heating_qc', 'central_air',\n",
    "# '1st_flr_sf', '2nd_flr_sf', 'low_qual_fin_sf',\n",
    "# , 'bsmt_full_bath', 'bsmt_half_bath', 'half_bath', , \n",
    "# 'kitchen_qual','totrms_abvgrd', 'functional', 'fireplaces', 'fireplace_qu',\n",
    "# 'garage_type', 'garage_yr_blt', 'garage_finish', 'garage_cars','garage_area', \n",
    "# 'garage_qual', 'garage_cond', 'paved_drive','wood_deck_sf', \n",
    "# 'open_porch_sf', 'enclosed_porch', '3ssn_porch',\n",
    "# 'screen_porch', 'pool_area', 'fence', 'misc_val', 'sale_type'\n",
    "\n",
    "df = ames[features]\n",
    "df.head(20)"
   ]
  },
  {
   "cell_type": "code",
   "execution_count": null,
   "metadata": {},
   "outputs": [],
   "source": [
    "df.info()"
   ]
  },
  {
   "cell_type": "code",
   "execution_count": null,
   "metadata": {},
   "outputs": [],
   "source": [
    "df.shape"
   ]
  },
  {
   "cell_type": "code",
   "execution_count": null,
   "metadata": {},
   "outputs": [],
   "source": [
    "# Size\n",
    "df.isnull().sum()"
   ]
  },
  {
   "cell_type": "code",
   "execution_count": null,
   "metadata": {},
   "outputs": [],
   "source": [
    "df.dropna(inplace=True)\n",
    "df.isnull().sum()"
   ]
  },
  {
   "cell_type": "code",
   "execution_count": null,
   "metadata": {},
   "outputs": [],
   "source": [
    "df.shape"
   ]
  },
  {
   "cell_type": "code",
   "execution_count": null,
   "metadata": {},
   "outputs": [],
   "source": [
    "# useful for EDA\n",
    "df = df.copy() # replace your_df with the name of your dataframe.\n",
    "list_of_columns_to_survey = df.columns\n",
    "# This code block will print the value counts for each column in the dataframe\n",
    "for col_name in list_of_columns_to_survey:\n",
    "    print('------  VALUE COUNTS ------------------')\n",
    "    print(f'Column name: {col_name}')\n",
    "    print(df[col_name].value_counts())\n",
    "    print('----------------------------------------')"
   ]
  },
  {
   "cell_type": "code",
   "execution_count": null,
   "metadata": {},
   "outputs": [],
   "source": [
    "# Checking for correlations and Plotting it\n",
    "corr = df.corr()\n",
    "mask = np.zeros_like(corr)\n",
    "mask[np.triu_indices_from(mask)]= True\n",
    "sns.heatmap(corr, mask=mask, cmap=\"Blues\", annot=True  );"
   ]
  },
  {
   "cell_type": "code",
   "execution_count": null,
   "metadata": {},
   "outputs": [],
   "source": [
    "# Using Pairplot to overviewing better\n",
    "df_pairs = df[features]\n",
    "sns.pairplot(df_pairs,  corner=True);"
   ]
  },
  {
   "cell_type": "code",
   "execution_count": null,
   "metadata": {},
   "outputs": [],
   "source": [
    "df.sort_values(by='saleprice', ascending=True)"
   ]
  },
  {
   "cell_type": "code",
   "execution_count": null,
   "metadata": {},
   "outputs": [],
   "source": [
    "# 3.Check for obvious issues with observations\n",
    "#Checking columns types invalid values '*'\n",
    "# Checking types\n",
    "#Checking NaN values after applied a map function"
   ]
  },
  {
   "cell_type": "markdown",
   "metadata": {},
   "source": [
    "### Data Dictionary\n",
    "\n",
    "Now that we've fixed our data, and given it appropriate names, let's create a [data dictionary](http://library.ucmerced.edu/node/10249). \n",
    "\n",
    "A data dictionary provides a quick overview of features/variables/columns, alongside data types and descriptions. The more descriptive you can be, the more useful this document is.\n",
    "\n",
    "Example of a Fictional Data Dictionary Entry: \n",
    "\n",
    "|Feature|Type|Dataset|Description|\n",
    "|---|---|---|---|\n",
    "|**county_pop**|*integer*|2010 census|The population of the county (units in thousands, where 2.5 represents 2500 people).| \n",
    "|**per_poverty**|*float*|2010 census|The percent of the county over the age of 18 living below the 200% of official US poverty rate (units percent to two decimal places 98.10 means 98.1%)|\n",
    "\n",
    "[Here's a quick link to a short guide for formatting markdown in Jupyter notebooks](https://jupyter-notebook.readthedocs.io/en/stable/examples/Notebook/Working%20With%20Markdown%20Cells.html).\n",
    "\n",
    "Provided is the skeleton for formatting a markdown table, with columns headers that will help you create a data dictionary to quickly summarize your data, as well as some examples. **This would be a great thing to copy and paste into your custom README for this project.**\n",
    "\n",
    "*Note*: if you are unsure of what a feature is, check the source of the data! This can be found in the README."
   ]
  },
  {
   "cell_type": "markdown",
   "metadata": {},
   "source": [
    "\n",
    "\n",
    "|Feature|Type|Dataset|Description|\n",
    "|---|---|---|---|\n",
    "|nr_ttakers_grd12|                int64|SAT|Number os enrolled Students |\n",
    "|nr_GE21_12|              int64|ACT|Number of Students adimmited by ACT|\n",
    "|County|                object|SAT|CA Conties |\n",
    "|nr_sa|               int64|SAT| Number os Student adimitted by SAT|\n",
    "\n",
    "\n"
   ]
  },
  {
   "cell_type": "markdown",
   "metadata": {},
   "source": [
    "## Exploratory Data Analysis\n",
    "\n",
    "Complete the following steps to explore your data. You are welcome to do more EDA than the steps outlined here as you feel necessary:\n",
    "1. Summary Statistics.\n",
    "2. Use a **dictionary comprehension** to apply the standard deviation function you create in part 1 to each numeric column in the dataframe.  **No loops**.\n",
    "    - Assign the output to variable `sd` as a dictionary where: \n",
    "        - Each column name is now a key \n",
    "        - That standard deviation of the column is the value \n",
    "        - *Example Output :* `{'ACT_Math': 120, 'ACT_Reading': 120, ...}`\n",
    "3. Investigate trends in the data.\n",
    "    - Using sorting and/or masking (along with the `.head()` method to avoid printing our entire dataframe), consider questions relevant to your problem statement. Some examples are provided below (but feel free to change these questions for your specific problem):\n",
    "        - Which states have the highest and lowest participation rates for the 2017, 2019, or 2019 SAT and ACT?\n",
    "        - Which states have the highest and lowest mean total/composite scores for the 2017, 2019, or 2019 SAT and ACT?\n",
    "        - Do any states with 100% participation on a given test have a rate change year-to-year?\n",
    "        - Do any states show have >50% participation on *both* tests each year?\n",
    "        - Which colleges have the highest median SAT and ACT scores for admittance?\n",
    "        - Which California school districts have the highest and lowest mean test scores?\n",
    "    - **You should comment on your findings at each step in a markdown cell below your code block**. Make sure you include at least one example of sorting your dataframe by a column, and one example of using boolean filtering (i.e., masking) to select a subset of the dataframe."
   ]
  },
  {
   "cell_type": "code",
   "execution_count": null,
   "metadata": {},
   "outputs": [],
   "source": [
    "#Code:\n",
    "\n",
    "df_act_final_plot.dropna(inplace=True)\n",
    "df_act_final_plot.tail(20)\n"
   ]
  },
  {
   "cell_type": "code",
   "execution_count": null,
   "metadata": {},
   "outputs": [],
   "source": [
    "#summariz statistics\n",
    "df_act_final_plot.describe()"
   ]
  },
  {
   "cell_type": "markdown",
   "metadata": {},
   "source": [
    "Use a **dictionary comprehension** to apply the standard deviation function you create in part 1 to each numeric column in the dataframe.  **No loops**.\n",
    "    - Assign the output to variable `sd` as a dictionary where: \n",
    "        - Each column name is now a key \n",
    "        - That standard deviation of the column is the value \n",
    "        - *Example Output :* `{'ACT_Math': 120, 'ACT_Reading': 120, ...}`"
   ]
  },
  {
   "cell_type": "code",
   "execution_count": null,
   "metadata": {},
   "outputs": [],
   "source": [
    "std_dv_dict = { f'{col_name} : {sd_dv(df_act_final_plot[col_name])}' for col_name in df_act_final_plot[['nr_ttakers_grd12','nr_GE21_12','nr_sat']]}\n",
    "print(std_dv_dict)"
   ]
  },
  {
   "cell_type": "markdown",
   "metadata": {},
   "source": [
    "**To-Do:** *Edit this cell with your findings on trends in the data (step 3 above).*"
   ]
  },
  {
   "cell_type": "markdown",
   "metadata": {},
   "source": [
    "## Visualize the Data\n",
    "\n",
    "There's not a magic bullet recommendation for the right number of plots to understand a given dataset, but visualizing your data is *always* a good idea. Not only does it allow you to quickly convey your findings (even if you have a non-technical audience), it will often reveal trends in your data that escaped you when you were looking only at numbers. It is important to not only create visualizations, but to **interpret your visualizations** as well.\n",
    "\n",
    "**Every plot should**:\n",
    "- Have a title\n",
    "- Have axis labels\n",
    "- Have appropriate tick labels\n",
    "- Text is legible in a plot\n",
    "- Plots demonstrate meaningful and valid relationships\n",
    "- Have an interpretation to aid understanding\n",
    "\n",
    "Here is an example of what your plots should look like following the above guidelines. Note that while the content of this example is unrelated, the principles of visualization hold:\n",
    "\n",
    "![](https://snag.gy/hCBR1U.jpg)\n",
    "*Interpretation: The above image shows that as we increase our spending on advertising, our sales numbers also tend to increase. There is a positive correlation between advertising spending and sales.*\n",
    "\n",
    "---\n",
    "\n",
    "Here are some prompts to get you started with visualizations. Feel free to add additional visualizations as you see fit:\n",
    "1. Use Seaborn's heatmap with pandas `.corr()` to visualize correlations between all numeric features.\n",
    "    - Heatmaps are generally not appropriate for presentations, and should often be excluded from reports as they can be visually overwhelming. **However**, they can be extremely useful in identify relationships of potential interest (as well as identifying potential collinearity before modeling).\n",
    "    - Please take time to format your output, adding a title. Look through some of the additional arguments and options. (Axis labels aren't really necessary, as long as the title is informative).\n",
    "2. Visualize distributions using histograms. If you have a lot, consider writing a custom function and use subplots.\n",
    "    - *OPTIONAL*: Summarize the underlying distributions of your features (in words & statistics)\n",
    "         - Be thorough in your verbal description of these distributions.\n",
    "         - Be sure to back up these summaries with statistics.\n",
    "         - We generally assume that data we sample from a population will be normally distributed. Do we observe this trend? Explain your answers for each distribution and how you think this will affect estimates made from these data.\n",
    "3. Plot and interpret boxplots. \n",
    "    - Boxplots demonstrate central tendency and spread in variables. In a certain sense, these are somewhat redundant with histograms, but you may be better able to identify clear outliers or differences in IQR, etc.\n",
    "    - Multiple values can be plotted to a single boxplot as long as they are of the same relative scale (meaning they have similar min/max values).\n",
    "    - Each boxplot should:\n",
    "        - Only include variables of a similar scale\n",
    "        - Have clear labels for each variable\n",
    "        - Have appropriate titles and labels\n",
    "4. Plot and interpret scatter plots to view relationships between features. Feel free to write a custom function, and subplot if you'd like. Functions save both time and space.\n",
    "    - Your plots should have:\n",
    "        - Two clearly labeled axes\n",
    "        - A proper title\n",
    "        - Colors and symbols that are clear and unmistakable\n",
    "5. Additional plots of your choosing.\n",
    "    - Are there any additional trends or relationships you haven't explored? Was there something interesting you saw that you'd like to dive further into? It's likely that there are a few more plots you might want to generate to support your narrative and recommendations that you are building toward. **As always, make sure you're interpreting your plots as you go**."
   ]
  },
  {
   "cell_type": "code",
   "execution_count": null,
   "metadata": {},
   "outputs": [],
   "source": [
    "# Chart: SAT Students Acepted in California \n",
    "# Size\n",
    "plt.figure(figsize = (15, 5))\n",
    "\n",
    "# Bar Chart\n",
    "plt.bar(df_final_plot['county'].sort_values(), df_final_plot['nr_bchmrk'],  alpha = 0.5)\n",
    "\n",
    "# Create a descriptive title\n",
    "plt.title(\"SAT Students Accepted in California\",\n",
    "         size = 20)\n",
    "\n",
    "# Rotate x-ticks\n",
    "plt.xticks(rotation = 75)\n",
    "\n",
    "# add axis labels\n",
    "plt.xlabel(\"CA Counties\", size = 15);\n",
    "plt.ylabel(\"Number of Admissions\", size = 15); # Semicolon suppresses text output"
   ]
  },
  {
   "cell_type": "markdown",
   "metadata": {},
   "source": []
  },
  {
   "cell_type": "code",
   "execution_count": null,
   "metadata": {},
   "outputs": [],
   "source": [
    "# Chart: ACT Students Acepted in California\n",
    "# # Size\n",
    "from turtle import color\n",
    "plt.figure(figsize = (15, 5))\n",
    "\n",
    "# Bar Chart\n",
    "plt.bar(df_act_final_plot['County'].sort_values(), df_act_final_plot['nr_GE21_12'], color='red',  alpha = 0.5)\n",
    "\n",
    "# Create a descriptive title\n",
    "plt.title(\"ACT Students Accepted in California\",\n",
    "         size = 20)\n",
    "# Rotate x-ticks\n",
    "plt.xticks(rotation = 75)\n",
    "\n",
    "# add axis labels\n",
    "plt.xlabel(\"CA Counties\", size = 15);\n",
    "plt.ylabel(\"Number of Admissions\", size = 15); # Semicolon suppresses text output"
   ]
  },
  {
   "cell_type": "markdown",
   "metadata": {},
   "source": [
    "If we look at the two charts separately, they seem to behavior very similar to each other. \n",
    "But when we overlay them we can see some interesting insights.\n"
   ]
  },
  {
   "cell_type": "code",
   "execution_count": null,
   "metadata": {},
   "outputs": [],
   "source": [
    "#Chart: Merged SAT x ACT Students in California\n",
    "# Size\n",
    "from cProfile import label\n",
    "from turtle import color\n",
    "\n",
    "\n",
    "plt.figure(figsize = (15, 5))\n",
    "\n",
    "# Bar Chart\n",
    "\n",
    "plt.bar(df_final_plot['county'].sort_values(), df_final_plot['nr_bchmrk'],  alpha = 0.5, label='ACT')\n",
    "plt.bar(df_act_final_plot['County'].sort_values(), df_act_final_plot['nr_GE21_12'], color='red',  alpha = 0.5, label = 'SAT')\n",
    "\n",
    "\n",
    "# Create a descriptive title\n",
    "plt.title(\"SAT x ACT Students in California\",\n",
    "         size = 20)\n",
    "\n",
    "# Rotate x-ticks\n",
    "plt.xticks(rotation = 75)\n",
    "\n",
    "# add axis labels\n",
    "plt.xlabel(\" CA Counties\", size = 15)\n",
    "plt.legend();\n",
    "plt.ylabel(\"Number of Admissions\", size = 15); # Semicolon suppresses text output"
   ]
  },
  {
   "cell_type": "markdown",
   "metadata": {},
   "source": []
  },
  {
   "cell_type": "markdown",
   "metadata": {},
   "source": [
    "California students are mostly admitted to institutions through the SAT test\n",
    "\n",
    "The biggest counties which has the largest number of students admissions has bias towards the SAT test\n",
    "\n",
    "Most populous counties have the highest number of student admissions are biased towards the SAT test. \n",
    "We can also realised that Los Angeles, despite being one of the most populous states, has approximately the same number of ACT admissions as other smaller counties"
   ]
  },
  {
   "cell_type": "markdown",
   "metadata": {},
   "source": [
    "## Conclusions and Recommendations"
   ]
  },
  {
   "cell_type": "markdown",
   "metadata": {},
   "source": [
    "Based on your exploration of the data, what are you key takeaways and recommendations? Make sure to answer your question of interest or address your problem statement here."
   ]
  },
  {
   "cell_type": "markdown",
   "metadata": {},
   "source": [
    "After analyzing the data we were able to observe that California students are mostly admitted to institutions through the SAT test. (i.e. they reached the established score to pass)\n",
    "\n",
    "Another conclusion that we can consider is that states with a higher number of admissions, the discrepancy between the two tests is more accentuated\n",
    "\n",
    "So if you are not sure which test to choose, choose SAT test and try to apply in any County with more number of admissions."
   ]
  }
 ],
 "metadata": {
  "anaconda-cloud": {},
  "kernelspec": {
   "display_name": "Python 3 (ipykernel)",
   "language": "python",
   "name": "python3"
  },
  "language_info": {
   "codemirror_mode": {
    "name": "ipython",
    "version": 3
   },
   "file_extension": ".py",
   "mimetype": "text/x-python",
   "name": "python",
   "nbconvert_exporter": "python",
   "pygments_lexer": "ipython3",
   "version": "3.9.12"
  },
  "vscode": {
   "interpreter": {
    "hash": "34f45a2ba0fbc03e28e7f7a41cd378a2ce17a9c291c97b9041ffb2d877b082e9"
   }
  }
 },
 "nbformat": 4,
 "nbformat_minor": 4
}
