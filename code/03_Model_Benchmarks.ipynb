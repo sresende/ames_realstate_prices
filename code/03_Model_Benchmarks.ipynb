{
 "cells": [
  {
   "cell_type": "markdown",
   "metadata": {},
   "source": [
    "<img src=\"http://imgur.com/1ZcRyrc.png\" style=\"float: left; margin: 20px; height: 55px\">\n",
    "\n",
    "# Project 2: Ames Housing Data and Kaggle Challenge"
   ]
  },
  {
   "cell_type": "markdown",
   "metadata": {},
   "source": [
    "--- \n",
    "# Part 1\n",
    "\n",
    "---"
   ]
  },
  {
   "cell_type": "markdown",
   "metadata": {},
   "source": [
    "### Defining  Target and Features Model\n"
   ]
  },
  {
   "cell_type": "code",
   "execution_count": 85,
   "metadata": {},
   "outputs": [],
   "source": [
    "# Importing Libraries\n",
    "import pandas as pd\n",
    "import numpy as np\n",
    "import matplotlib.pyplot as plt\n",
    "import seaborn as sns\n",
    "\n",
    "from sklearn.model_selection import train_test_split, cross_val_score, GridSearchCV\n",
    "from sklearn.linear_model import LinearRegression\n",
    "\n",
    "from sklearn import metrics\n",
    "from sklearn.metrics import r2_score\n",
    "\n",
    "from sklearn.preprocessing import PolynomialFeatures\n",
    "from sklearn.preprocessing import StandardScaler#, PolynomialFeatures\n",
    "from sklearn.linear_model import RidgeCV, Ridge\n",
    "from sklearn.linear_model import Lasso, LassoCV, ElasticNet, ElasticNetCV\n",
    " \n",
    "from sklearn.neighbors import KNeighborsClassifier\n",
    "from sklearn.pipeline import Pipeline"
   ]
  },
  {
   "cell_type": "code",
   "execution_count": 86,
   "metadata": {},
   "outputs": [],
   "source": [
    "# Loading Data and Deleting Index from Train dataset\n",
    "pd.set_option('display.max_rows', None)\n",
    "\n",
    "train_ = pd.read_csv('../data/train_cleaned.csv')\n",
    "test_ = pd.read_csv('../data/test_cleaned.csv')\n",
    "\n",
    "train_.drop(columns = 'Unnamed: 0', inplace = True)\n",
    "test_.drop(columns = 'Unnamed: 0', inplace = True)"
   ]
  },
  {
   "cell_type": "code",
   "execution_count": 87,
   "metadata": {},
   "outputs": [
    {
     "data": {
      "text/plain": [
       "True"
      ]
     },
     "execution_count": 87,
     "metadata": {},
     "output_type": "execute_result"
    }
   ],
   "source": [
    "len(test_.columns) == len(train_.columns)-1"
   ]
  },
  {
   "cell_type": "code",
   "execution_count": 88,
   "metadata": {},
   "outputs": [],
   "source": [
    "\n",
    "#```['id', 'ms_subclass', 'ms_zoning', 'lot_area', 'lot_shape',\n",
    "# 'land_contour', 'utilities', 'lot_config', 'land_slope', 'neighborhood',\n",
    "# 'condition_1', 'condition_2', 'bldg_type', 'house_style',\n",
    "# 'overall_qual', 'overall_cond', 'roof_style', 'roof_matl',\n",
    "# 'exterior_1st', 'exterior_2nd', 'mas_vnr_type', 'mas_vnr_area',\n",
    "# 'exter_qual', 'exter_cond', 'foundation', 'bsmt_cond', 'bsmt_exposure',\n",
    "# 'bsmtfin_type_1', 'bsmtfin_type_2', 'heating', 'central_air',\n",
    "#  'kitchen_abvgr', 'kitchen_qual', 'totrms_abvgrd',\n",
    "# 'functional', 'fireplaces', 'garage_finish', 'garage_cars',\n",
    "# 'garage_area', 'garage_qual', 'garage_cond', 'paved_drive',\n",
    "# 'wood_deck_sf', 'saleprice', 'total_bldg_sqft', 'bldg_age',\n",
    "# 'total_baths', 'total_porch'],`\n",
    "\n",
    "\n",
    "col_select_train = ['id','saleprice','lot_area','overall_qual','bedroom_abvgr', 'bldg_age',\n",
    "                    'totrms_abvgrd', 'bldg_age',#, 'mas_vnr_area', \n",
    "                    'total_baths', 'garage_area', 'garage_cars', \n",
    "                    'total_bldg_sqft', 'overall_qual', 'bldg_type',\n",
    "                    'neighborhood','ms_zoning','ms_subclass']\n",
    "\n",
    "col_select_test= ['id', 'lot_area','overall_qual','bedroom_abvgr', 'bldg_age',\n",
    "                     'totrms_abvgrd','bldg_age',# 'mas_vnr_area',\n",
    "                    'total_baths', 'garage_area', 'garage_cars', \n",
    "                    'total_bldg_sqft', 'overall_qual','bldg_type',\n",
    "                    'neighborhood','ms_zoning','ms_subclass']\n",
    "\n",
    "\n",
    "train = train_[col_select_train].copy()\n",
    "test = test_[col_select_test].copy()\n"
   ]
  },
  {
   "cell_type": "code",
   "execution_count": 89,
   "metadata": {},
   "outputs": [
    {
     "name": "stdout",
     "output_type": "stream",
     "text": [
      "<class 'pandas.core.frame.DataFrame'>\n",
      "RangeIndex: 1719 entries, 0 to 1718\n",
      "Data columns (total 17 columns):\n",
      " #   Column           Non-Null Count  Dtype  \n",
      "---  ------           --------------  -----  \n",
      " 0   id               1719 non-null   int64  \n",
      " 1   saleprice        1719 non-null   float64\n",
      " 2   lot_area         1719 non-null   float64\n",
      " 3   overall_qual     1719 non-null   int64  \n",
      " 4   bedroom_abvgr    1719 non-null   int64  \n",
      " 5   bldg_age         1719 non-null   int64  \n",
      " 6   totrms_abvgrd    1719 non-null   int64  \n",
      " 7   bldg_age         1719 non-null   int64  \n",
      " 8   total_baths      1719 non-null   int64  \n",
      " 9   garage_area      1719 non-null   float64\n",
      " 10  garage_cars      1719 non-null   int64  \n",
      " 11  total_bldg_sqft  1719 non-null   float64\n",
      " 12  overall_qual     1719 non-null   int64  \n",
      " 13  bldg_type        1719 non-null   object \n",
      " 14  neighborhood     1719 non-null   object \n",
      " 15  ms_zoning        1719 non-null   object \n",
      " 16  ms_subclass      1719 non-null   int64  \n",
      "dtypes: float64(4), int64(10), object(3)\n",
      "memory usage: 228.4+ KB\n"
     ]
    }
   ],
   "source": [
    "# Cheking types\n",
    "train.info()"
   ]
  },
  {
   "cell_type": "code",
   "execution_count": 90,
   "metadata": {},
   "outputs": [],
   "source": [
    "# converting Categorical 'ms_subclass' coluns in object\n",
    "train['ms_subclass']= train['ms_subclass'].astype(object)\n",
    "test['ms_subclass']= test['ms_subclass'].astype(object)"
   ]
  },
  {
   "cell_type": "code",
   "execution_count": 91,
   "metadata": {},
   "outputs": [],
   "source": [
    "# Setting category columns to Dummify\n",
    "col_dummies = ['bldg_type','neighborhood','ms_zoning', 'ms_subclass']"
   ]
  },
  {
   "cell_type": "code",
   "execution_count": 92,
   "metadata": {},
   "outputs": [
    {
     "name": "stderr",
     "output_type": "stream",
     "text": [
      "/Users/silviaresende/opt/anaconda3/lib/python3.9/site-packages/pandas/core/algorithms.py:798: FutureWarning: In a future version, the Index constructor will not infer numeric dtypes when passed object-dtype sequences (matching Series behavior)\n",
      "  uniques = Index(uniques)\n",
      "/Users/silviaresende/opt/anaconda3/lib/python3.9/site-packages/pandas/core/algorithms.py:798: FutureWarning: In a future version, the Index constructor will not infer numeric dtypes when passed object-dtype sequences (matching Series behavior)\n",
      "  uniques = Index(uniques)\n"
     ]
    }
   ],
   "source": [
    "df_train = pd.get_dummies(train, prefix_sep=\"__\", columns = col_dummies, drop_first = True);\n",
    "df_test = pd.get_dummies(test, prefix_sep=\"__\", columns = col_dummies, drop_first = True);"
   ]
  },
  {
   "cell_type": "code",
   "execution_count": 93,
   "metadata": {},
   "outputs": [
    {
     "data": {
      "text/plain": [
       "{'ms_subclass__150', 'neighborhood__Landmrk', 'saleprice'}"
      ]
     },
     "execution_count": 93,
     "metadata": {},
     "output_type": "execute_result"
    }
   ],
   "source": [
    "set_dif_train_dum = set(df_train.columns) - set(df_test.columns)\n",
    "set_dif_train_dum"
   ]
  },
  {
   "cell_type": "code",
   "execution_count": 94,
   "metadata": {},
   "outputs": [
    {
     "name": "stdout",
     "output_type": "stream",
     "text": [
      "ms_subclass__150\n",
      "neighborhood__Landmrk\n"
     ]
    }
   ],
   "source": [
    "for d in set_dif_train_dum:\n",
    "    if d != 'saleprice':\n",
    "        print(d)\n",
    "        df_train.drop(columns=d, inplace=True)"
   ]
  },
  {
   "cell_type": "code",
   "execution_count": 95,
   "metadata": {},
   "outputs": [
    {
     "data": {
      "text/plain": [
       "{'ms_zoning__I (all)'}"
      ]
     },
     "execution_count": 95,
     "metadata": {},
     "output_type": "execute_result"
    }
   ],
   "source": [
    "set_dif_test_dum = set(df_test.columns) - set(df_train.columns) \n",
    "set_dif_test_dum"
   ]
  },
  {
   "cell_type": "code",
   "execution_count": 96,
   "metadata": {},
   "outputs": [
    {
     "name": "stdout",
     "output_type": "stream",
     "text": [
      "ms_zoning__I (all)\n"
     ]
    }
   ],
   "source": [
    "for d in set_dif_test_dum:\n",
    "    if d != 'saleprice':\n",
    "        print(d)\n",
    "        df_test.drop(columns=d, inplace=True)"
   ]
  },
  {
   "cell_type": "code",
   "execution_count": 97,
   "metadata": {},
   "outputs": [
    {
     "data": {
      "text/plain": [
       "True"
      ]
     },
     "execution_count": 97,
     "metadata": {},
     "output_type": "execute_result"
    }
   ],
   "source": [
    "len(df_test.columns) == len(df_train.columns)-1"
   ]
  },
  {
   "cell_type": "markdown",
   "metadata": {},
   "source": [
    "### Fitting Model\n",
    "___"
   ]
  },
  {
   "cell_type": "code",
   "execution_count": 98,
   "metadata": {},
   "outputs": [
    {
     "name": "stdout",
     "output_type": "stream",
     "text": [
      "(1719, 58)\n",
      "(1719,)\n"
     ]
    }
   ],
   "source": [
    "X = df_train.drop(columns=['id','saleprice'] )\n",
    "y = df_train['saleprice']\n",
    "print(X.shape)\n",
    "print(y.shape)"
   ]
  },
  {
   "cell_type": "code",
   "execution_count": 99,
   "metadata": {},
   "outputs": [],
   "source": [
    "X_test = df_test.drop(columns=['id'] )"
   ]
  },
  {
   "cell_type": "markdown",
   "metadata": {},
   "source": [
    "### Setting up X e Y\n",
    "___"
   ]
  },
  {
   "cell_type": "code",
   "execution_count": 100,
   "metadata": {},
   "outputs": [
    {
     "data": {
      "text/plain": [
       "((1203, 58), (516, 58), (1203,), (516,))"
      ]
     },
     "execution_count": 100,
     "metadata": {},
     "output_type": "execute_result"
    }
   ],
   "source": [
    "X_train, X_val, y_train, y_val = train_test_split(\n",
    "        X,  \n",
    "        y,\n",
    "        test_size = 0.3,     \n",
    "        random_state = 42\n",
    " )\n",
    "\n",
    "X_train.shape, X_val.shape, y_train.shape, y_val.shape"
   ]
  },
  {
   "cell_type": "markdown",
   "metadata": {},
   "source": [
    "### Scaling Data\n",
    "___"
   ]
  },
  {
   "cell_type": "code",
   "execution_count": 101,
   "metadata": {},
   "outputs": [],
   "source": [
    "sc = StandardScaler()\n",
    "Z_train = sc.fit_transform(X_train)\n",
    "Z_val = sc.fit_transform(X_val)\n",
    "Z_test = sc.fit_transform(X_test)\n"
   ]
  },
  {
   "cell_type": "markdown",
   "metadata": {},
   "source": [
    "### Baseline Model\n",
    "___"
   ]
  },
  {
   "cell_type": "code",
   "execution_count": 102,
   "metadata": {},
   "outputs": [
    {
     "data": {
      "text/plain": [
       "-0.004519787056956215"
      ]
     },
     "execution_count": 102,
     "metadata": {},
     "output_type": "execute_result"
    }
   ],
   "source": [
    "#Setting a Baseline and getting its Score\n",
    "baseline_model = [y_train.mean()] * len(y_val)\n",
    "r2_score(y_val, baseline_model)"
   ]
  },
  {
   "cell_type": "markdown",
   "metadata": {},
   "source": [
    "Negative R2 square, so the model is very bad in predictions"
   ]
  },
  {
   "cell_type": "markdown",
   "metadata": {},
   "source": [
    "### Fitting Regression Model\n",
    "___"
   ]
  },
  {
   "cell_type": "code",
   "execution_count": 103,
   "metadata": {},
   "outputs": [
    {
     "data": {
      "text/plain": [
       "LinearRegression()"
      ]
     },
     "execution_count": 103,
     "metadata": {},
     "output_type": "execute_result"
    }
   ],
   "source": [
    "#Fitting Model\n",
    "lr = LinearRegression()\n",
    "lr.fit(Z_train, y_train)"
   ]
  },
  {
   "cell_type": "code",
   "execution_count": 104,
   "metadata": {},
   "outputs": [
    {
     "data": {
      "text/plain": [
       "-1.194491711048948e+18"
      ]
     },
     "execution_count": 104,
     "metadata": {},
     "output_type": "execute_result"
    }
   ],
   "source": [
    "#Cross Vaditadion Score\n",
    "cross_val_score(lr, Z_train, y_train, cv=5).mean()"
   ]
  },
  {
   "cell_type": "code",
   "execution_count": 105,
   "metadata": {},
   "outputs": [
    {
     "name": "stdout",
     "output_type": "stream",
     "text": [
      "MAE: 14809.870050728296\n",
      "MSE: 416872303.5136811\n",
      "RMSE: 20417.450955339187\n",
      "R2: 0.8598253241533164\n"
     ]
    }
   ],
   "source": [
    "# Calcuate residual\n",
    "lr_y_preds = lr.predict(Z_train)\n",
    "residuals = y_train - lr_y_preds\n",
    "\n",
    "# Metrics\n",
    "print(f'MAE: {metrics.mean_absolute_error(y_train, lr_y_preds)}')\n",
    "print(f'MSE: {metrics.mean_squared_error(y_train, lr_y_preds)}')\n",
    "print(f'RMSE: {metrics.mean_squared_error(y_train, lr_y_preds, squared = False)}')\n",
    "print(f'R2: {metrics.r2_score(y_train, lr_y_preds)}')\n"
   ]
  },
  {
   "cell_type": "markdown",
   "metadata": {},
   "source": [
    "**Interpretation** - 85.98% of the variance/variability of our y (pricesale), is explained by the features  in our model."
   ]
  },
  {
   "cell_type": "code",
   "execution_count": 106,
   "metadata": {},
   "outputs": [
    {
     "name": "stdout",
     "output_type": "stream",
     "text": [
      "Training R2: 0.8598253241533164\n",
      "Validatiaon R2: 0.8422733142022257\n",
      "Diference (train/validation): 0.01755200995109063\n"
     ]
    }
   ],
   "source": [
    "#Comparing scores\n",
    "print(f'Training R2: {lr.score(Z_train, y_train)}')\n",
    "print(f'Validatiaon R2: {lr.score(Z_val, y_val)}')\n",
    "print(f'Diference (train/validation): {lr.score(Z_train, y_train)-lr.score(Z_val, y_val)}')"
   ]
  },
  {
   "cell_type": "code",
   "execution_count": 107,
   "metadata": {},
   "outputs": [],
   "source": [
    "# Creating a list of coeficients\n",
    "list_coef = list(zip(X.columns, lr.coef_))"
   ]
  },
  {
   "cell_type": "code",
   "execution_count": 108,
   "metadata": {},
   "outputs": [
    {
     "data": {
      "text/plain": [
       "[('lot_area', 4816.960667893658),\n",
       " ('overall_qual', 5890046431729666.0),\n",
       " ('bedroom_abvgr', -4389.458402860728),\n",
       " ('bldg_age', -5972365055610594.0),\n",
       " ('totrms_abvgrd', 649.4541939044915),\n",
       " ('bldg_age', 5972365055600644.0),\n",
       " ('total_baths', 6755.011134293225),\n",
       " ('garage_area', 2306.957750975348),\n",
       " ('garage_cars', 3048.8909515457512),\n",
       " ('total_bldg_sqft', 20466.0),\n",
       " ('overall_qual', -5890046431715036.0),\n",
       " ('bldg_type__2fmCon', -2074.125),\n",
       " ('bldg_type__Duplex', -319585723463371.5),\n",
       " ('bldg_type__Twnhs', -7787.75),\n",
       " ('bldg_type__TwnhsE', -9029.0),\n",
       " ('neighborhood__Blueste', 602.1875),\n",
       " ('neighborhood__BrDale', 759.5),\n",
       " ('neighborhood__BrkSide', 988.0),\n",
       " ('neighborhood__ClearCr', 1121.25),\n",
       " ('neighborhood__CollgCr', -2954.0),\n",
       " ('neighborhood__Crawfor', 4918.21875),\n",
       " ('neighborhood__Edwards', -2838.125),\n",
       " ('neighborhood__Gilbert', -3063.5),\n",
       " ('neighborhood__Greens', 22.625),\n",
       " ('neighborhood__IDOTRR', -761.25),\n",
       " ('neighborhood__MeadowV', 58.25),\n",
       " ('neighborhood__Mitchel', -1912.875),\n",
       " ('neighborhood__NAmes', -2694.625),\n",
       " ('neighborhood__NPkVill', -1021.234375),\n",
       " ('neighborhood__NWAmes', -2187.0625),\n",
       " ('neighborhood__NoRidge', 2380.8125),\n",
       " ('neighborhood__NridgHt', 3718.5),\n",
       " ('neighborhood__OldTown', -1514.25),\n",
       " ('neighborhood__SWISU', -1836.375),\n",
       " ('neighborhood__Sawyer', -1576.015625),\n",
       " ('neighborhood__SawyerW', -2316.6875),\n",
       " ('neighborhood__Somerst', 1466.125),\n",
       " ('neighborhood__StoneBr', 549.75),\n",
       " ('neighborhood__Timber', -774.0),\n",
       " ('neighborhood__Veenker', 377.625),\n",
       " ('ms_zoning__FV', -154.5),\n",
       " ('ms_zoning__RH', -709.0),\n",
       " ('ms_zoning__RL', 698.5),\n",
       " ('ms_zoning__RM', -1522.5),\n",
       " ('ms_subclass__30', -865.5),\n",
       " ('ms_subclass__40', 55.125),\n",
       " ('ms_subclass__45', 11.625),\n",
       " ('ms_subclass__50', -440.5),\n",
       " ('ms_subclass__60', 3340.5),\n",
       " ('ms_subclass__70', 2394.625),\n",
       " ('ms_subclass__75', 53.125),\n",
       " ('ms_subclass__80', 821.875),\n",
       " ('ms_subclass__85', 892.59375),\n",
       " ('ms_subclass__90', 319585723458674.5),\n",
       " ('ms_subclass__120', 4456.0),\n",
       " ('ms_subclass__160', 2903.25),\n",
       " ('ms_subclass__180', 2505.625),\n",
       " ('ms_subclass__190', -183.0)]"
      ]
     },
     "execution_count": 108,
     "metadata": {},
     "output_type": "execute_result"
    }
   ],
   "source": [
    "list_coef"
   ]
  },
  {
   "cell_type": "code",
   "execution_count": 109,
   "metadata": {},
   "outputs": [
    {
     "data": {
      "text/plain": [
       "1.4092785271980884e+32"
      ]
     },
     "execution_count": 109,
     "metadata": {},
     "output_type": "execute_result"
    }
   ],
   "source": [
    "# Sum of coeficients of\n",
    "(lr.coef_**2).sum()"
   ]
  },
  {
   "cell_type": "code",
   "execution_count": 110,
   "metadata": {},
   "outputs": [
    {
     "data": {
      "image/png": "[encoded data removed]",
      "text/plain": [
       "<Figure size 720x432 with 1 Axes>"
      ]
     },
     "metadata": {
      "needs_background": "light"
     },
     "output_type": "display_data"
    }
   ],
   "source": [
    "# Normality assumption \n",
    "plt.figure(figsize = (10, 6))\n",
    "plt.hist(residuals, bins = 100);\n",
    "plt.tight_layout()\n",
    "plt.savefig('../images/histogramResiduals.png');"
   ]
  },
  {
   "cell_type": "code",
   "execution_count": 111,
   "metadata": {},
   "outputs": [
    {
     "data": {
      "image/png": "[encoded data removed]",
      "text/plain": [
       "<Figure size 720x432 with 1 Axes>"
      ]
     },
     "metadata": {
      "needs_background": "light"
     },
     "output_type": "display_data"
    }
   ],
   "source": [
    "# Normality assumption \n",
    "plt.figure(figsize = (10,6))\n",
    "plt.title(\"Scatter plot Residuals\")\n",
    "#Ploting Residuals - Scatter Plotf SLR Model \n",
    "plt.scatter(lr_y_preds, residuals,s=1);\n",
    "plt.axhline(residuals.mean(), color='grey');\n",
    "plt.tight_layout()\n",
    "plt.savefig('../images/ScatterPlotResiduals.png');"
   ]
  },
  {
   "cell_type": "code",
   "execution_count": 112,
   "metadata": {},
   "outputs": [
    {
     "data": {
      "text/plain": [
       "715     257000.0\n",
       "1352    109000.0\n",
       "879     133000.0\n",
       "1283    192000.0\n",
       "327     183000.0\n",
       "Name: saleprice, dtype: float64"
      ]
     },
     "execution_count": 112,
     "metadata": {},
     "output_type": "execute_result"
    }
   ],
   "source": [
    "y_train.head()"
   ]
  },
  {
   "cell_type": "markdown",
   "metadata": {},
   "source": [
    "### Setting up Using OLS for Kaggle Submission\n",
    "______"
   ]
  },
  {
   "cell_type": "code",
   "execution_count": 113,
   "metadata": {},
   "outputs": [],
   "source": [
    "kag_lr_preds =  lr.predict(Z_test)"
   ]
  },
  {
   "cell_type": "code",
   "execution_count": 114,
   "metadata": {},
   "outputs": [],
   "source": [
    "kag_lr_sub = {'id': df_test['id'], 'saleprice':kag_lr_preds}\n",
    "kag_lr_sub = pd.DataFrame(kag_lr_sub)\n"
   ]
  },
  {
   "cell_type": "code",
   "execution_count": 115,
   "metadata": {},
   "outputs": [],
   "source": [
    "kag_lr_sub.to_csv('../data/submission_ols.csv', index = False)"
   ]
  },
  {
   "cell_type": "markdown",
   "metadata": {},
   "source": [
    "###  Ridge Regularization\n",
    "___"
   ]
  },
  {
   "cell_type": "code",
   "execution_count": 116,
   "metadata": {},
   "outputs": [],
   "source": [
    "# Set up a list of ridge alphas to check.\n",
    "# np.logspace generates 100 values equally between 0 and 5, converts them to alphas between 10^0 and 10^5.\n",
    "alphas = np.logspace(0, 5, 100)\n",
    "\n",
    "# Cross-validate over our list of ridge alphas.\n",
    "ridge_cv = RidgeCV(alphas = alphas, cv = 5)\n",
    "\n",
    "# Fit model using best ridge alpha!\n",
    "ridge_cv.fit(Z_train, y_train);\n",
    "#"
   ]
  },
  {
   "cell_type": "code",
   "execution_count": 117,
   "metadata": {},
   "outputs": [],
   "source": [
    "\n",
    "df_ridge_coef = pd.Series(ridge_cv.coef_, X_train.columns)\n",
    "df_ridge_coef[ridge_cv.coef_!=0].sort_values(ascending=True);"
   ]
  },
  {
   "cell_type": "code",
   "execution_count": 118,
   "metadata": {},
   "outputs": [
    {
     "data": {
      "text/plain": [
       "73.90722033525779"
      ]
     },
     "execution_count": 118,
     "metadata": {},
     "output_type": "execute_result"
    }
   ],
   "source": [
    "# Here is the optimal value of alpha\n",
    "ridge_cv.alpha_"
   ]
  },
  {
   "cell_type": "code",
   "execution_count": 119,
   "metadata": {},
   "outputs": [
    {
     "name": "stdout",
     "output_type": "stream",
     "text": [
      "0.8582798688860932\n",
      "0.846044555847994\n"
     ]
    }
   ],
   "source": [
    "print(ridge_cv.score(Z_train, y_train))\n",
    "print(ridge_cv.score(Z_val, y_val))"
   ]
  },
  {
   "cell_type": "code",
   "execution_count": 120,
   "metadata": {},
   "outputs": [
    {
     "name": "stdout",
     "output_type": "stream",
     "text": [
      "MAE: 14870.599194684064\n",
      "MSE: 421468408.29033387\n",
      "RMSE: 20529.695767115834\n",
      "R2: 0.8582798688860932\n"
     ]
    }
   ],
   "source": [
    "# Metrics\n",
    "ridge_y_preds = ridge_cv.predict(Z_train)\n",
    "ridge_residuals = y_train - ridge_y_preds\n",
    "\n",
    "print(f'MAE: {metrics.mean_absolute_error(y_train, ridge_y_preds)}')\n",
    "print(f'MSE: {metrics.mean_squared_error(y_train, ridge_y_preds)}')\n",
    "print(f'RMSE: {metrics.mean_squared_error(y_train, ridge_y_preds, squared = False)}')\n",
    "print(f'R2: {metrics.r2_score(y_train, ridge_y_preds)}')"
   ]
  },
  {
   "cell_type": "code",
   "execution_count": 121,
   "metadata": {},
   "outputs": [
    {
     "data": {
      "text/plain": [
       "710450089.478296"
      ]
     },
     "execution_count": 121,
     "metadata": {},
     "output_type": "execute_result"
    }
   ],
   "source": [
    "(ridge_cv.coef_**2).sum()"
   ]
  },
  {
   "cell_type": "code",
   "execution_count": 122,
   "metadata": {},
   "outputs": [
    {
     "data": {
      "text/plain": [
       "1.4092785271980884e+32"
      ]
     },
     "execution_count": 122,
     "metadata": {},
     "output_type": "execute_result"
    }
   ],
   "source": [
    "(lr.coef_**2).sum()"
   ]
  },
  {
   "cell_type": "markdown",
   "metadata": {},
   "source": [
    "### GridSeach for RidgeCV\n",
    "___"
   ]
  },
  {
   "cell_type": "code",
   "execution_count": 123,
   "metadata": {},
   "outputs": [],
   "source": [
    "#setting parameters\n",
    "alphas = np.logspace(0, 5, 100)\n",
    "parameters = {'alpha': alphas}\n",
    "\n",
    "# define the grid search\n",
    "ridge_grid= GridSearchCV(Ridge(), parameters, cv=5, verbose = -1);\n",
    "\n",
    "#fit the grid search\n",
    "ridge_grid.fit(Z_train, y_train);\n",
    "ridge_grid.fit(Z_val, y_val);"
   ]
  },
  {
   "cell_type": "code",
   "execution_count": 124,
   "metadata": {},
   "outputs": [
    {
     "name": "stdout",
     "output_type": "stream",
     "text": [
      "== Tunned Ridge ==\n",
      "Trainning: 0.859098006840118\n",
      "Validation: 0.8451671749372274\n",
      "Dif: 0.013930831902890572\n",
      "Best Alpha Estimator: Ridge(alpha=41.32012400115337)\n"
     ]
    }
   ],
   "source": [
    "# best model\n",
    "best_ridge_model = ridge_grid.best_estimator_\n",
    "best_ridge_model.fit(Z_train, y_train);\n",
    "\n",
    "\n",
    "print(\" Tunned Ridge \".center(18, \"=\"))\n",
    "print(\"Trainning:\",ridge_grid.score(Z_train, y_train))\n",
    "print(\"Validation:\",ridge_grid.score(Z_val, y_val))\n",
    "print(\"Dif:\",ridge_grid.score(Z_train, y_train) - ridge_grid.score(Z_val, y_val))\n",
    "print(\"Best Alpha Estimator:\", ridge_grid.best_estimator_)"
   ]
  },
  {
   "cell_type": "markdown",
   "metadata": {},
   "source": [
    "________"
   ]
  },
  {
   "cell_type": "markdown",
   "metadata": {},
   "source": [
    "#### Setting Up Test Using Ridge for Kaggle Submission \n",
    "___"
   ]
  },
  {
   "cell_type": "code",
   "execution_count": 125,
   "metadata": {},
   "outputs": [
    {
     "data": {
      "text/plain": [
       "(878, 58)"
      ]
     },
     "execution_count": 125,
     "metadata": {},
     "output_type": "execute_result"
    }
   ],
   "source": [
    "X_test.shape"
   ]
  },
  {
   "cell_type": "code",
   "execution_count": 126,
   "metadata": {},
   "outputs": [],
   "source": [
    "kag_ridge_preds =  ridge_cv.predict(Z_test)"
   ]
  },
  {
   "cell_type": "code",
   "execution_count": 127,
   "metadata": {},
   "outputs": [],
   "source": [
    "kag_ridge_sub = {'id': df_test['id'], 'saleprice':kag_ridge_preds}\n",
    "kag_ridge_sub = pd.DataFrame(kag_ridge_sub)"
   ]
  },
  {
   "cell_type": "code",
   "execution_count": 128,
   "metadata": {},
   "outputs": [],
   "source": [
    "kag_ridge_sub.to_csv('../data/submission_ridge.csv', index = False)"
   ]
  },
  {
   "cell_type": "markdown",
   "metadata": {},
   "source": [
    "### Lasso Regularization\n",
    "____"
   ]
  },
  {
   "cell_type": "code",
   "execution_count": 129,
   "metadata": {},
   "outputs": [],
   "source": [
    " # Set up a list of Lasso alphas to check.\n",
    "l_alphas = np.logspace(-5, 0, 100)\n",
    "\n",
    "# Cross-validate over our list of Lasso alphas.\n",
    "lasso_cv = LassoCV(alphas=l_alphas, cv=5)\n",
    "\n"
   ]
  },
  {
   "cell_type": "code",
   "execution_count": 130,
   "metadata": {},
   "outputs": [
    {
     "name": "stderr",
     "output_type": "stream",
     "text": [
      "/Users/silviaresende/opt/anaconda3/lib/python3.9/site-packages/sklearn/linear_model/_coordinate_descent.py:633: ConvergenceWarning: Objective did not converge. You might want to increase the number of iterations. Duality gap: 825067776.9311523, tolerance: 288690723.2458612\n",
      "  model = cd_fast.enet_coordinate_descent_gram(\n",
      "/Users/silviaresende/opt/anaconda3/lib/python3.9/site-packages/sklearn/linear_model/_coordinate_descent.py:633: ConvergenceWarning: Objective did not converge. You might want to increase the number of iterations. Duality gap: 809434023.2200317, tolerance: 288690723.2458612\n",
      "  model = cd_fast.enet_coordinate_descent_gram(\n",
      "/Users/silviaresende/opt/anaconda3/lib/python3.9/site-packages/sklearn/linear_model/_coordinate_descent.py:633: ConvergenceWarning: Objective did not converge. You might want to increase the number of iterations. Duality gap: 796147146.5654297, tolerance: 288690723.2458612\n",
      "  model = cd_fast.enet_coordinate_descent_gram(\n",
      "/Users/silviaresende/opt/anaconda3/lib/python3.9/site-packages/sklearn/linear_model/_coordinate_descent.py:633: ConvergenceWarning: Objective did not converge. You might want to increase the number of iterations. Duality gap: 784817796.595581, tolerance: 288690723.2458612\n",
      "  model = cd_fast.enet_coordinate_descent_gram(\n",
      "/Users/silviaresende/opt/anaconda3/lib/python3.9/site-packages/sklearn/linear_model/_coordinate_descent.py:633: ConvergenceWarning: Objective did not converge. You might want to increase the number of iterations. Duality gap: 775127555.4643555, tolerance: 288690723.2458612\n",
      "  model = cd_fast.enet_coordinate_descent_gram(\n",
      "/Users/silviaresende/opt/anaconda3/lib/python3.9/site-packages/sklearn/linear_model/_coordinate_descent.py:633: ConvergenceWarning: Objective did not converge. You might want to increase the number of iterations. Duality gap: 766814428.0895386, tolerance: 288690723.2458612\n",
      "  model = cd_fast.enet_coordinate_descent_gram(\n",
      "/Users/silviaresende/opt/anaconda3/lib/python3.9/site-packages/sklearn/linear_model/_coordinate_descent.py:633: ConvergenceWarning: Objective did not converge. You might want to increase the number of iterations. Duality gap: 759662228.4195557, tolerance: 288690723.2458612\n",
      "  model = cd_fast.enet_coordinate_descent_gram(\n",
      "/Users/silviaresende/opt/anaconda3/lib/python3.9/site-packages/sklearn/linear_model/_coordinate_descent.py:633: ConvergenceWarning: Objective did not converge. You might want to increase the number of iterations. Duality gap: 753491971.6704102, tolerance: 288690723.2458612\n",
      "  model = cd_fast.enet_coordinate_descent_gram(\n",
      "/Users/silviaresende/opt/anaconda3/lib/python3.9/site-packages/sklearn/linear_model/_coordinate_descent.py:633: ConvergenceWarning: Objective did not converge. You might want to increase the number of iterations. Duality gap: 748155039.7991333, tolerance: 288690723.2458612\n",
      "  model = cd_fast.enet_coordinate_descent_gram(\n",
      "/Users/silviaresende/opt/anaconda3/lib/python3.9/site-packages/sklearn/linear_model/_coordinate_descent.py:633: ConvergenceWarning: Objective did not converge. You might want to increase the number of iterations. Duality gap: 743527578.8406982, tolerance: 288690723.2458612\n",
      "  model = cd_fast.enet_coordinate_descent_gram(\n",
      "/Users/silviaresende/opt/anaconda3/lib/python3.9/site-packages/sklearn/linear_model/_coordinate_descent.py:633: ConvergenceWarning: Objective did not converge. You might want to increase the number of iterations. Duality gap: 739506076.0129395, tolerance: 288690723.2458612\n",
      "  model = cd_fast.enet_coordinate_descent_gram(\n",
      "/Users/silviaresende/opt/anaconda3/lib/python3.9/site-packages/sklearn/linear_model/_coordinate_descent.py:633: ConvergenceWarning: Objective did not converge. You might want to increase the number of iterations. Duality gap: 736003667.8110352, tolerance: 288690723.2458612\n",
      "  model = cd_fast.enet_coordinate_descent_gram(\n",
      "/Users/silviaresende/opt/anaconda3/lib/python3.9/site-packages/sklearn/linear_model/_coordinate_descent.py:633: ConvergenceWarning: Objective did not converge. You might want to increase the number of iterations. Duality gap: 732947269.7454834, tolerance: 288690723.2458612\n",
      "  model = cd_fast.enet_coordinate_descent_gram(\n",
      "/Users/silviaresende/opt/anaconda3/lib/python3.9/site-packages/sklearn/linear_model/_coordinate_descent.py:633: ConvergenceWarning: Objective did not converge. You might want to increase the number of iterations. Duality gap: 730275156.1480713, tolerance: 288690723.2458612\n",
      "  model = cd_fast.enet_coordinate_descent_gram(\n",
      "/Users/silviaresende/opt/anaconda3/lib/python3.9/site-packages/sklearn/linear_model/_coordinate_descent.py:633: ConvergenceWarning: Objective did not converge. You might want to increase the number of iterations. Duality gap: 727935017.4441528, tolerance: 288690723.2458612\n",
      "  model = cd_fast.enet_coordinate_descent_gram(\n",
      "/Users/silviaresende/opt/anaconda3/lib/python3.9/site-packages/sklearn/linear_model/_coordinate_descent.py:633: ConvergenceWarning: Objective did not converge. You might want to increase the number of iterations. Duality gap: 725882405.1199951, tolerance: 288690723.2458612\n",
      "  model = cd_fast.enet_coordinate_descent_gram(\n",
      "/Users/silviaresende/opt/anaconda3/lib/python3.9/site-packages/sklearn/linear_model/_coordinate_descent.py:633: ConvergenceWarning: Objective did not converge. You might want to increase the number of iterations. Duality gap: 724079407.0932617, tolerance: 288690723.2458612\n",
      "  model = cd_fast.enet_coordinate_descent_gram(\n",
      "/Users/silviaresende/opt/anaconda3/lib/python3.9/site-packages/sklearn/linear_model/_coordinate_descent.py:633: ConvergenceWarning: Objective did not converge. You might want to increase the number of iterations. Duality gap: 722493534.5814209, tolerance: 288690723.2458612\n",
      "  model = cd_fast.enet_coordinate_descent_gram(\n",
      "/Users/silviaresende/opt/anaconda3/lib/python3.9/site-packages/sklearn/linear_model/_coordinate_descent.py:633: ConvergenceWarning: Objective did not converge. You might want to increase the number of iterations. Duality gap: 721097022.1131592, tolerance: 288690723.2458612\n",
      "  model = cd_fast.enet_coordinate_descent_gram(\n",
      "/Users/silviaresende/opt/anaconda3/lib/python3.9/site-packages/sklearn/linear_model/_coordinate_descent.py:633: ConvergenceWarning: Objective did not converge. You might want to increase the number of iterations. Duality gap: 719865931.9422607, tolerance: 288690723.2458612\n",
      "  model = cd_fast.enet_coordinate_descent_gram(\n",
      "/Users/silviaresende/opt/anaconda3/lib/python3.9/site-packages/sklearn/linear_model/_coordinate_descent.py:633: ConvergenceWarning: Objective did not converge. You might want to increase the number of iterations. Duality gap: 718779498.8528442, tolerance: 288690723.2458612\n",
      "  model = cd_fast.enet_coordinate_descent_gram(\n",
      "/Users/silviaresende/opt/anaconda3/lib/python3.9/site-packages/sklearn/linear_model/_coordinate_descent.py:633: ConvergenceWarning: Objective did not converge. You might want to increase the number of iterations. Duality gap: 717819955.2687988, tolerance: 288690723.2458612\n",
      "  model = cd_fast.enet_coordinate_descent_gram(\n",
      "/Users/silviaresende/opt/anaconda3/lib/python3.9/site-packages/sklearn/linear_model/_coordinate_descent.py:633: ConvergenceWarning: Objective did not converge. You might want to increase the number of iterations. Duality gap: 716971770.0108643, tolerance: 288690723.2458612\n",
      "  model = cd_fast.enet_coordinate_descent_gram(\n",
      "/Users/silviaresende/opt/anaconda3/lib/python3.9/site-packages/sklearn/linear_model/_coordinate_descent.py:633: ConvergenceWarning: Objective did not converge. You might want to increase the number of iterations. Duality gap: 716221434.2866211, tolerance: 288690723.2458612\n",
      "  model = cd_fast.enet_coordinate_descent_gram(\n",
      "/Users/silviaresende/opt/anaconda3/lib/python3.9/site-packages/sklearn/linear_model/_coordinate_descent.py:633: ConvergenceWarning: Objective did not converge. You might want to increase the number of iterations. Duality gap: 715557281.9130859, tolerance: 288690723.2458612\n",
      "  model = cd_fast.enet_coordinate_descent_gram(\n",
      "/Users/silviaresende/opt/anaconda3/lib/python3.9/site-packages/sklearn/linear_model/_coordinate_descent.py:633: ConvergenceWarning: Objective did not converge. You might want to increase the number of iterations. Duality gap: 714969025.3091431, tolerance: 288690723.2458612\n",
      "  model = cd_fast.enet_coordinate_descent_gram(\n",
      "/Users/silviaresende/opt/anaconda3/lib/python3.9/site-packages/sklearn/linear_model/_coordinate_descent.py:633: ConvergenceWarning: Objective did not converge. You might want to increase the number of iterations. Duality gap: 714447675.8081055, tolerance: 288690723.2458612\n",
      "  model = cd_fast.enet_coordinate_descent_gram(\n",
      "/Users/silviaresende/opt/anaconda3/lib/python3.9/site-packages/sklearn/linear_model/_coordinate_descent.py:633: ConvergenceWarning: Objective did not converge. You might want to increase the number of iterations. Duality gap: 713985485.7675781, tolerance: 288690723.2458612\n",
      "  model = cd_fast.enet_coordinate_descent_gram(\n",
      "/Users/silviaresende/opt/anaconda3/lib/python3.9/site-packages/sklearn/linear_model/_coordinate_descent.py:633: ConvergenceWarning: Objective did not converge. You might want to increase the number of iterations. Duality gap: 713575509.0341797, tolerance: 288690723.2458612\n",
      "  model = cd_fast.enet_coordinate_descent_gram(\n",
      "/Users/silviaresende/opt/anaconda3/lib/python3.9/site-packages/sklearn/linear_model/_coordinate_descent.py:633: ConvergenceWarning: Objective did not converge. You might want to increase the number of iterations. Duality gap: 713211732.5938721, tolerance: 288690723.2458612\n",
      "  model = cd_fast.enet_coordinate_descent_gram(\n",
      "/Users/silviaresende/opt/anaconda3/lib/python3.9/site-packages/sklearn/linear_model/_coordinate_descent.py:633: ConvergenceWarning: Objective did not converge. You might want to increase the number of iterations. Duality gap: 712888862.7219238, tolerance: 288690723.2458612\n",
      "  model = cd_fast.enet_coordinate_descent_gram(\n",
      "/Users/silviaresende/opt/anaconda3/lib/python3.9/site-packages/sklearn/linear_model/_coordinate_descent.py:633: ConvergenceWarning: Objective did not converge. You might want to increase the number of iterations. Duality gap: 712602131.3446045, tolerance: 288690723.2458612\n",
      "  model = cd_fast.enet_coordinate_descent_gram(\n",
      "/Users/silviaresende/opt/anaconda3/lib/python3.9/site-packages/sklearn/linear_model/_coordinate_descent.py:633: ConvergenceWarning: Objective did not converge. You might want to increase the number of iterations. Duality gap: 712347495.1866455, tolerance: 288690723.2458612\n",
      "  model = cd_fast.enet_coordinate_descent_gram(\n",
      "/Users/silviaresende/opt/anaconda3/lib/python3.9/site-packages/sklearn/linear_model/_coordinate_descent.py:633: ConvergenceWarning: Objective did not converge. You might want to increase the number of iterations. Duality gap: 712121244.0753174, tolerance: 288690723.2458612\n",
      "  model = cd_fast.enet_coordinate_descent_gram(\n",
      "/Users/silviaresende/opt/anaconda3/lib/python3.9/site-packages/sklearn/linear_model/_coordinate_descent.py:633: ConvergenceWarning: Objective did not converge. You might want to increase the number of iterations. Duality gap: 711920159.2375488, tolerance: 288690723.2458612\n",
      "  model = cd_fast.enet_coordinate_descent_gram(\n",
      "/Users/silviaresende/opt/anaconda3/lib/python3.9/site-packages/sklearn/linear_model/_coordinate_descent.py:633: ConvergenceWarning: Objective did not converge. You might want to increase the number of iterations. Duality gap: 711741559.4956055, tolerance: 288690723.2458612\n",
      "  model = cd_fast.enet_coordinate_descent_gram(\n",
      "/Users/silviaresende/opt/anaconda3/lib/python3.9/site-packages/sklearn/linear_model/_coordinate_descent.py:633: ConvergenceWarning: Objective did not converge. You might want to increase the number of iterations. Duality gap: 711582488.4476318, tolerance: 288690723.2458612\n",
      "  model = cd_fast.enet_coordinate_descent_gram(\n",
      "/Users/silviaresende/opt/anaconda3/lib/python3.9/site-packages/sklearn/linear_model/_coordinate_descent.py:633: ConvergenceWarning: Objective did not converge. You might want to increase the number of iterations. Duality gap: 711441263.9980469, tolerance: 288690723.2458612\n",
      "  model = cd_fast.enet_coordinate_descent_gram(\n",
      "/Users/silviaresende/opt/anaconda3/lib/python3.9/site-packages/sklearn/linear_model/_coordinate_descent.py:633: ConvergenceWarning: Objective did not converge. You might want to increase the number of iterations. Duality gap: 711315880.923584, tolerance: 288690723.2458612\n",
      "  model = cd_fast.enet_coordinate_descent_gram(\n",
      "/Users/silviaresende/opt/anaconda3/lib/python3.9/site-packages/sklearn/linear_model/_coordinate_descent.py:633: ConvergenceWarning: Objective did not converge. You might want to increase the number of iterations. Duality gap: 711204216.9801025, tolerance: 288690723.2458612\n",
      "  model = cd_fast.enet_coordinate_descent_gram(\n",
      "/Users/silviaresende/opt/anaconda3/lib/python3.9/site-packages/sklearn/linear_model/_coordinate_descent.py:633: ConvergenceWarning: Objective did not converge. You might want to increase the number of iterations. Duality gap: 711105200.4051514, tolerance: 288690723.2458612\n",
      "  model = cd_fast.enet_coordinate_descent_gram(\n",
      "/Users/silviaresende/opt/anaconda3/lib/python3.9/site-packages/sklearn/linear_model/_coordinate_descent.py:633: ConvergenceWarning: Objective did not converge. You might want to increase the number of iterations. Duality gap: 711016562.1420898, tolerance: 288690723.2458612\n",
      "  model = cd_fast.enet_coordinate_descent_gram(\n",
      "/Users/silviaresende/opt/anaconda3/lib/python3.9/site-packages/sklearn/linear_model/_coordinate_descent.py:633: ConvergenceWarning: Objective did not converge. You might want to increase the number of iterations. Duality gap: 710938625.7470703, tolerance: 288690723.2458612\n",
      "  model = cd_fast.enet_coordinate_descent_gram(\n",
      "/Users/silviaresende/opt/anaconda3/lib/python3.9/site-packages/sklearn/linear_model/_coordinate_descent.py:633: ConvergenceWarning: Objective did not converge. You might want to increase the number of iterations. Duality gap: 710868293.7374878, tolerance: 288690723.2458612\n",
      "  model = cd_fast.enet_coordinate_descent_gram(\n",
      "/Users/silviaresende/opt/anaconda3/lib/python3.9/site-packages/sklearn/linear_model/_coordinate_descent.py:633: ConvergenceWarning: Objective did not converge. You might want to increase the number of iterations. Duality gap: 710806028.9733887, tolerance: 288690723.2458612\n",
      "  model = cd_fast.enet_coordinate_descent_gram(\n",
      "/Users/silviaresende/opt/anaconda3/lib/python3.9/site-packages/sklearn/linear_model/_coordinate_descent.py:633: ConvergenceWarning: Objective did not converge. You might want to increase the number of iterations. Duality gap: 710750887.3195801, tolerance: 288690723.2458612\n",
      "  model = cd_fast.enet_coordinate_descent_gram(\n",
      "/Users/silviaresende/opt/anaconda3/lib/python3.9/site-packages/sklearn/linear_model/_coordinate_descent.py:633: ConvergenceWarning: Objective did not converge. You might want to increase the number of iterations. Duality gap: 710701561.1204834, tolerance: 288690723.2458612\n",
      "  model = cd_fast.enet_coordinate_descent_gram(\n",
      "/Users/silviaresende/opt/anaconda3/lib/python3.9/site-packages/sklearn/linear_model/_coordinate_descent.py:633: ConvergenceWarning: Objective did not converge. You might want to increase the number of iterations. Duality gap: 710658282.0281982, tolerance: 288690723.2458612\n",
      "  model = cd_fast.enet_coordinate_descent_gram(\n",
      "/Users/silviaresende/opt/anaconda3/lib/python3.9/site-packages/sklearn/linear_model/_coordinate_descent.py:633: ConvergenceWarning: Objective did not converge. You might want to increase the number of iterations. Duality gap: 710618643.1190186, tolerance: 288690723.2458612\n",
      "  model = cd_fast.enet_coordinate_descent_gram(\n",
      "/Users/silviaresende/opt/anaconda3/lib/python3.9/site-packages/sklearn/linear_model/_coordinate_descent.py:633: ConvergenceWarning: Objective did not converge. You might want to increase the number of iterations. Duality gap: 710583986.3184814, tolerance: 288690723.2458612\n",
      "  model = cd_fast.enet_coordinate_descent_gram(\n",
      "/Users/silviaresende/opt/anaconda3/lib/python3.9/site-packages/sklearn/linear_model/_coordinate_descent.py:633: ConvergenceWarning: Objective did not converge. You might want to increase the number of iterations. Duality gap: 710552640.4610596, tolerance: 288690723.2458612\n",
      "  model = cd_fast.enet_coordinate_descent_gram(\n",
      "/Users/silviaresende/opt/anaconda3/lib/python3.9/site-packages/sklearn/linear_model/_coordinate_descent.py:633: ConvergenceWarning: Objective did not converge. You might want to increase the number of iterations. Duality gap: 710525669.9581299, tolerance: 288690723.2458612\n",
      "  model = cd_fast.enet_coordinate_descent_gram(\n",
      "/Users/silviaresende/opt/anaconda3/lib/python3.9/site-packages/sklearn/linear_model/_coordinate_descent.py:633: ConvergenceWarning: Objective did not converge. You might want to increase the number of iterations. Duality gap: 710501234.2646484, tolerance: 288690723.2458612\n",
      "  model = cd_fast.enet_coordinate_descent_gram(\n",
      "/Users/silviaresende/opt/anaconda3/lib/python3.9/site-packages/sklearn/linear_model/_coordinate_descent.py:633: ConvergenceWarning: Objective did not converge. You might want to increase the number of iterations. Duality gap: 710479195.7952881, tolerance: 288690723.2458612\n",
      "  model = cd_fast.enet_coordinate_descent_gram(\n",
      "/Users/silviaresende/opt/anaconda3/lib/python3.9/site-packages/sklearn/linear_model/_coordinate_descent.py:633: ConvergenceWarning: Objective did not converge. You might want to increase the number of iterations. Duality gap: 710461866.482666, tolerance: 288690723.2458612\n",
      "  model = cd_fast.enet_coordinate_descent_gram(\n",
      "/Users/silviaresende/opt/anaconda3/lib/python3.9/site-packages/sklearn/linear_model/_coordinate_descent.py:633: ConvergenceWarning: Objective did not converge. You might want to increase the number of iterations. Duality gap: 710442640.8540039, tolerance: 288690723.2458612\n",
      "  model = cd_fast.enet_coordinate_descent_gram(\n",
      "/Users/silviaresende/opt/anaconda3/lib/python3.9/site-packages/sklearn/linear_model/_coordinate_descent.py:633: ConvergenceWarning: Objective did not converge. You might want to increase the number of iterations. Duality gap: 710427286.5761719, tolerance: 288690723.2458612\n",
      "  model = cd_fast.enet_coordinate_descent_gram(\n",
      "/Users/silviaresende/opt/anaconda3/lib/python3.9/site-packages/sklearn/linear_model/_coordinate_descent.py:633: ConvergenceWarning: Objective did not converge. You might want to increase the number of iterations. Duality gap: 710413796.8464355, tolerance: 288690723.2458612\n",
      "  model = cd_fast.enet_coordinate_descent_gram(\n",
      "/Users/silviaresende/opt/anaconda3/lib/python3.9/site-packages/sklearn/linear_model/_coordinate_descent.py:633: ConvergenceWarning: Objective did not converge. You might want to increase the number of iterations. Duality gap: 710404840.678833, tolerance: 288690723.2458612\n",
      "  model = cd_fast.enet_coordinate_descent_gram(\n",
      "/Users/silviaresende/opt/anaconda3/lib/python3.9/site-packages/sklearn/linear_model/_coordinate_descent.py:633: ConvergenceWarning: Objective did not converge. You might want to increase the number of iterations. Duality gap: 710390645.6157227, tolerance: 288690723.2458612\n",
      "  model = cd_fast.enet_coordinate_descent_gram(\n",
      "/Users/silviaresende/opt/anaconda3/lib/python3.9/site-packages/sklearn/linear_model/_coordinate_descent.py:633: ConvergenceWarning: Objective did not converge. You might want to increase the number of iterations. Duality gap: 710381471.230896, tolerance: 288690723.2458612\n",
      "  model = cd_fast.enet_coordinate_descent_gram(\n",
      "/Users/silviaresende/opt/anaconda3/lib/python3.9/site-packages/sklearn/linear_model/_coordinate_descent.py:633: ConvergenceWarning: Objective did not converge. You might want to increase the number of iterations. Duality gap: 710372736.4534302, tolerance: 288690723.2458612\n",
      "  model = cd_fast.enet_coordinate_descent_gram(\n",
      "/Users/silviaresende/opt/anaconda3/lib/python3.9/site-packages/sklearn/linear_model/_coordinate_descent.py:633: ConvergenceWarning: Objective did not converge. You might want to increase the number of iterations. Duality gap: 710366507.0374146, tolerance: 288690723.2458612\n",
      "  model = cd_fast.enet_coordinate_descent_gram(\n",
      "/Users/silviaresende/opt/anaconda3/lib/python3.9/site-packages/sklearn/linear_model/_coordinate_descent.py:633: ConvergenceWarning: Objective did not converge. You might want to increase the number of iterations. Duality gap: 710358408.3717041, tolerance: 288690723.2458612\n",
      "  model = cd_fast.enet_coordinate_descent_gram(\n",
      "/Users/silviaresende/opt/anaconda3/lib/python3.9/site-packages/sklearn/linear_model/_coordinate_descent.py:633: ConvergenceWarning: Objective did not converge. You might want to increase the number of iterations. Duality gap: 710351866.2314453, tolerance: 288690723.2458612\n",
      "  model = cd_fast.enet_coordinate_descent_gram(\n",
      "/Users/silviaresende/opt/anaconda3/lib/python3.9/site-packages/sklearn/linear_model/_coordinate_descent.py:633: ConvergenceWarning: Objective did not converge. You might want to increase the number of iterations. Duality gap: 710351906.3045654, tolerance: 288690723.2458612\n",
      "  model = cd_fast.enet_coordinate_descent_gram(\n",
      "/Users/silviaresende/opt/anaconda3/lib/python3.9/site-packages/sklearn/linear_model/_coordinate_descent.py:633: ConvergenceWarning: Objective did not converge. You might want to increase the number of iterations. Duality gap: 710344211.220459, tolerance: 288690723.2458612\n",
      "  model = cd_fast.enet_coordinate_descent_gram(\n",
      "/Users/silviaresende/opt/anaconda3/lib/python3.9/site-packages/sklearn/linear_model/_coordinate_descent.py:633: ConvergenceWarning: Objective did not converge. You might want to increase the number of iterations. Duality gap: 710337687.739624, tolerance: 288690723.2458612\n",
      "  model = cd_fast.enet_coordinate_descent_gram(\n",
      "/Users/silviaresende/opt/anaconda3/lib/python3.9/site-packages/sklearn/linear_model/_coordinate_descent.py:633: ConvergenceWarning: Objective did not converge. You might want to increase the number of iterations. Duality gap: 710334373.0622559, tolerance: 288690723.2458612\n",
      "  model = cd_fast.enet_coordinate_descent_gram(\n",
      "/Users/silviaresende/opt/anaconda3/lib/python3.9/site-packages/sklearn/linear_model/_coordinate_descent.py:633: ConvergenceWarning: Objective did not converge. You might want to increase the number of iterations. Duality gap: 710331165.9136353, tolerance: 288690723.2458612\n",
      "  model = cd_fast.enet_coordinate_descent_gram(\n",
      "/Users/silviaresende/opt/anaconda3/lib/python3.9/site-packages/sklearn/linear_model/_coordinate_descent.py:633: ConvergenceWarning: Objective did not converge. You might want to increase the number of iterations. Duality gap: 710326511.4938965, tolerance: 288690723.2458612\n",
      "  model = cd_fast.enet_coordinate_descent_gram(\n",
      "/Users/silviaresende/opt/anaconda3/lib/python3.9/site-packages/sklearn/linear_model/_coordinate_descent.py:633: ConvergenceWarning: Objective did not converge. You might want to increase the number of iterations. Duality gap: 710325120.9851074, tolerance: 288690723.2458612\n",
      "  model = cd_fast.enet_coordinate_descent_gram(\n",
      "/Users/silviaresende/opt/anaconda3/lib/python3.9/site-packages/sklearn/linear_model/_coordinate_descent.py:633: ConvergenceWarning: Objective did not converge. You might want to increase the number of iterations. Duality gap: 710315343.8320312, tolerance: 288690723.2458612\n",
      "  model = cd_fast.enet_coordinate_descent_gram(\n",
      "/Users/silviaresende/opt/anaconda3/lib/python3.9/site-packages/sklearn/linear_model/_coordinate_descent.py:633: ConvergenceWarning: Objective did not converge. You might want to increase the number of iterations. Duality gap: 710326110.8464966, tolerance: 288690723.2458612\n",
      "  model = cd_fast.enet_coordinate_descent_gram(\n",
      "/Users/silviaresende/opt/anaconda3/lib/python3.9/site-packages/sklearn/linear_model/_coordinate_descent.py:633: ConvergenceWarning: Objective did not converge. You might want to increase the number of iterations. Duality gap: 710308975.3026123, tolerance: 288690723.2458612\n",
      "  model = cd_fast.enet_coordinate_descent_gram(\n",
      "/Users/silviaresende/opt/anaconda3/lib/python3.9/site-packages/sklearn/linear_model/_coordinate_descent.py:633: ConvergenceWarning: Objective did not converge. You might want to increase the number of iterations. Duality gap: 710317961.5997314, tolerance: 288690723.2458612\n",
      "  model = cd_fast.enet_coordinate_descent_gram(\n",
      "/Users/silviaresende/opt/anaconda3/lib/python3.9/site-packages/sklearn/linear_model/_coordinate_descent.py:633: ConvergenceWarning: Objective did not converge. You might want to increase the number of iterations. Duality gap: 710315508.9287109, tolerance: 288690723.2458612\n",
      "  model = cd_fast.enet_coordinate_descent_gram(\n",
      "/Users/silviaresende/opt/anaconda3/lib/python3.9/site-packages/sklearn/linear_model/_coordinate_descent.py:633: ConvergenceWarning: Objective did not converge. You might want to increase the number of iterations. Duality gap: 710286178.4268799, tolerance: 288690723.2458612\n",
      "  model = cd_fast.enet_coordinate_descent_gram(\n",
      "/Users/silviaresende/opt/anaconda3/lib/python3.9/site-packages/sklearn/linear_model/_coordinate_descent.py:633: ConvergenceWarning: Objective did not converge. You might want to increase the number of iterations. Duality gap: 710329159.1125488, tolerance: 288690723.2458612\n",
      "  model = cd_fast.enet_coordinate_descent_gram(\n",
      "/Users/silviaresende/opt/anaconda3/lib/python3.9/site-packages/sklearn/linear_model/_coordinate_descent.py:633: ConvergenceWarning: Objective did not converge. You might want to increase the number of iterations. Duality gap: 710312378.6035156, tolerance: 288690723.2458612\n",
      "  model = cd_fast.enet_coordinate_descent_gram(\n",
      "/Users/silviaresende/opt/anaconda3/lib/python3.9/site-packages/sklearn/linear_model/_coordinate_descent.py:633: ConvergenceWarning: Objective did not converge. You might want to increase the number of iterations. Duality gap: 710324214.0269775, tolerance: 288690723.2458612\n",
      "  model = cd_fast.enet_coordinate_descent_gram(\n",
      "/Users/silviaresende/opt/anaconda3/lib/python3.9/site-packages/sklearn/linear_model/_coordinate_descent.py:633: ConvergenceWarning: Objective did not converge. You might want to increase the number of iterations. Duality gap: 710310151.9682617, tolerance: 288690723.2458612\n",
      "  model = cd_fast.enet_coordinate_descent_gram(\n",
      "/Users/silviaresende/opt/anaconda3/lib/python3.9/site-packages/sklearn/linear_model/_coordinate_descent.py:633: ConvergenceWarning: Objective did not converge. You might want to increase the number of iterations. Duality gap: 710304165.4140625, tolerance: 288690723.2458612\n",
      "  model = cd_fast.enet_coordinate_descent_gram(\n",
      "/Users/silviaresende/opt/anaconda3/lib/python3.9/site-packages/sklearn/linear_model/_coordinate_descent.py:633: ConvergenceWarning: Objective did not converge. You might want to increase the number of iterations. Duality gap: 710287476.7747803, tolerance: 288690723.2458612\n",
      "  model = cd_fast.enet_coordinate_descent_gram(\n",
      "/Users/silviaresende/opt/anaconda3/lib/python3.9/site-packages/sklearn/linear_model/_coordinate_descent.py:633: ConvergenceWarning: Objective did not converge. You might want to increase the number of iterations. Duality gap: 710329690.9281006, tolerance: 288690723.2458612\n",
      "  model = cd_fast.enet_coordinate_descent_gram(\n",
      "/Users/silviaresende/opt/anaconda3/lib/python3.9/site-packages/sklearn/linear_model/_coordinate_descent.py:633: ConvergenceWarning: Objective did not converge. You might want to increase the number of iterations. Duality gap: 710326660.2503052, tolerance: 288690723.2458612\n",
      "  model = cd_fast.enet_coordinate_descent_gram(\n",
      "/Users/silviaresende/opt/anaconda3/lib/python3.9/site-packages/sklearn/linear_model/_coordinate_descent.py:633: ConvergenceWarning: Objective did not converge. You might want to increase the number of iterations. Duality gap: 710366674.8392334, tolerance: 288690723.2458612\n",
      "  model = cd_fast.enet_coordinate_descent_gram(\n",
      "/Users/silviaresende/opt/anaconda3/lib/python3.9/site-packages/sklearn/linear_model/_coordinate_descent.py:633: ConvergenceWarning: Objective did not converge. You might want to increase the number of iterations. Duality gap: 710306837.6293945, tolerance: 288690723.2458612\n",
      "  model = cd_fast.enet_coordinate_descent_gram(\n",
      "/Users/silviaresende/opt/anaconda3/lib/python3.9/site-packages/sklearn/linear_model/_coordinate_descent.py:633: ConvergenceWarning: Objective did not converge. You might want to increase the number of iterations. Duality gap: 710282624.8921509, tolerance: 288690723.2458612\n",
      "  model = cd_fast.enet_coordinate_descent_gram(\n",
      "/Users/silviaresende/opt/anaconda3/lib/python3.9/site-packages/sklearn/linear_model/_coordinate_descent.py:633: ConvergenceWarning: Objective did not converge. You might want to increase the number of iterations. Duality gap: 710270918.0239868, tolerance: 288690723.2458612\n",
      "  model = cd_fast.enet_coordinate_descent_gram(\n",
      "/Users/silviaresende/opt/anaconda3/lib/python3.9/site-packages/sklearn/linear_model/_coordinate_descent.py:633: ConvergenceWarning: Objective did not converge. You might want to increase the number of iterations. Duality gap: 710347829.1442261, tolerance: 288690723.2458612\n",
      "  model = cd_fast.enet_coordinate_descent_gram(\n",
      "/Users/silviaresende/opt/anaconda3/lib/python3.9/site-packages/sklearn/linear_model/_coordinate_descent.py:633: ConvergenceWarning: Objective did not converge. You might want to increase the number of iterations. Duality gap: 710298356.5753174, tolerance: 288690723.2458612\n",
      "  model = cd_fast.enet_coordinate_descent_gram(\n",
      "/Users/silviaresende/opt/anaconda3/lib/python3.9/site-packages/sklearn/linear_model/_coordinate_descent.py:633: ConvergenceWarning: Objective did not converge. You might want to increase the number of iterations. Duality gap: 710242696.2260742, tolerance: 288690723.2458612\n",
      "  model = cd_fast.enet_coordinate_descent_gram(\n",
      "/Users/silviaresende/opt/anaconda3/lib/python3.9/site-packages/sklearn/linear_model/_coordinate_descent.py:633: ConvergenceWarning: Objective did not converge. You might want to increase the number of iterations. Duality gap: 710128902.6983643, tolerance: 288690723.2458612\n",
      "  model = cd_fast.enet_coordinate_descent_gram(\n",
      "/Users/silviaresende/opt/anaconda3/lib/python3.9/site-packages/sklearn/linear_model/_coordinate_descent.py:633: ConvergenceWarning: Objective did not converge. You might want to increase the number of iterations. Duality gap: 710233436.1571045, tolerance: 288690723.2458612\n",
      "  model = cd_fast.enet_coordinate_descent_gram(\n",
      "/Users/silviaresende/opt/anaconda3/lib/python3.9/site-packages/sklearn/linear_model/_coordinate_descent.py:633: ConvergenceWarning: Objective did not converge. You might want to increase the number of iterations. Duality gap: 710303119.7938232, tolerance: 288690723.2458612\n",
      "  model = cd_fast.enet_coordinate_descent_gram(\n",
      "/Users/silviaresende/opt/anaconda3/lib/python3.9/site-packages/sklearn/linear_model/_coordinate_descent.py:633: ConvergenceWarning: Objective did not converge. You might want to increase the number of iterations. Duality gap: 710217856.1925049, tolerance: 288690723.2458612\n",
      "  model = cd_fast.enet_coordinate_descent_gram(\n",
      "/Users/silviaresende/opt/anaconda3/lib/python3.9/site-packages/sklearn/linear_model/_coordinate_descent.py:633: ConvergenceWarning: Objective did not converge. You might want to increase the number of iterations. Duality gap: 710603450.4575195, tolerance: 288690723.2458612\n",
      "  model = cd_fast.enet_coordinate_descent_gram(\n",
      "/Users/silviaresende/opt/anaconda3/lib/python3.9/site-packages/sklearn/linear_model/_coordinate_descent.py:633: ConvergenceWarning: Objective did not converge. You might want to increase the number of iterations. Duality gap: 710401663.4927368, tolerance: 288690723.2458612\n",
      "  model = cd_fast.enet_coordinate_descent_gram(\n",
      "/Users/silviaresende/opt/anaconda3/lib/python3.9/site-packages/sklearn/linear_model/_coordinate_descent.py:633: ConvergenceWarning: Objective did not converge. You might want to increase the number of iterations. Duality gap: 710157996.9888306, tolerance: 288690723.2458612\n",
      "  model = cd_fast.enet_coordinate_descent_gram(\n",
      "/Users/silviaresende/opt/anaconda3/lib/python3.9/site-packages/sklearn/linear_model/_coordinate_descent.py:633: ConvergenceWarning: Objective did not converge. You might want to increase the number of iterations. Duality gap: 1576604312.6690674, tolerance: 287131830.99105\n",
      "  model = cd_fast.enet_coordinate_descent_gram(\n",
      "/Users/silviaresende/opt/anaconda3/lib/python3.9/site-packages/sklearn/linear_model/_coordinate_descent.py:633: ConvergenceWarning: Objective did not converge. You might want to increase the number of iterations. Duality gap: 1559340530.3603516, tolerance: 287131830.99105\n",
      "  model = cd_fast.enet_coordinate_descent_gram(\n",
      "/Users/silviaresende/opt/anaconda3/lib/python3.9/site-packages/sklearn/linear_model/_coordinate_descent.py:633: ConvergenceWarning: Objective did not converge. You might want to increase the number of iterations. Duality gap: 1546171786.5488281, tolerance: 287131830.99105\n",
      "  model = cd_fast.enet_coordinate_descent_gram(\n",
      "/Users/silviaresende/opt/anaconda3/lib/python3.9/site-packages/sklearn/linear_model/_coordinate_descent.py:633: ConvergenceWarning: Objective did not converge. You might want to increase the number of iterations. Duality gap: 1534946236.866516, tolerance: 287131830.99105\n",
      "  model = cd_fast.enet_coordinate_descent_gram(\n",
      "/Users/silviaresende/opt/anaconda3/lib/python3.9/site-packages/sklearn/linear_model/_coordinate_descent.py:633: ConvergenceWarning: Objective did not converge. You might want to increase the number of iterations. Duality gap: 1525347057.197876, tolerance: 287131830.99105\n",
      "  model = cd_fast.enet_coordinate_descent_gram(\n",
      "/Users/silviaresende/opt/anaconda3/lib/python3.9/site-packages/sklearn/linear_model/_coordinate_descent.py:633: ConvergenceWarning: Objective did not converge. You might want to increase the number of iterations. Duality gap: 1517113934.0299072, tolerance: 287131830.99105\n",
      "  model = cd_fast.enet_coordinate_descent_gram(\n",
      "/Users/silviaresende/opt/anaconda3/lib/python3.9/site-packages/sklearn/linear_model/_coordinate_descent.py:633: ConvergenceWarning: Objective did not converge. You might want to increase the number of iterations. Duality gap: 1510032117.6676025, tolerance: 287131830.99105\n",
      "  model = cd_fast.enet_coordinate_descent_gram(\n",
      "/Users/silviaresende/opt/anaconda3/lib/python3.9/site-packages/sklearn/linear_model/_coordinate_descent.py:633: ConvergenceWarning: Objective did not converge. You might want to increase the number of iterations. Duality gap: 1503923843.8815918, tolerance: 287131830.99105\n",
      "  model = cd_fast.enet_coordinate_descent_gram(\n",
      "/Users/silviaresende/opt/anaconda3/lib/python3.9/site-packages/sklearn/linear_model/_coordinate_descent.py:633: ConvergenceWarning: Objective did not converge. You might want to increase the number of iterations. Duality gap: 1498641562.3989258, tolerance: 287131830.99105\n",
      "  model = cd_fast.enet_coordinate_descent_gram(\n",
      "/Users/silviaresende/opt/anaconda3/lib/python3.9/site-packages/sklearn/linear_model/_coordinate_descent.py:633: ConvergenceWarning: Objective did not converge. You might want to increase the number of iterations. Duality gap: 1494062335.5212402, tolerance: 287131830.99105\n",
      "  model = cd_fast.enet_coordinate_descent_gram(\n",
      "/Users/silviaresende/opt/anaconda3/lib/python3.9/site-packages/sklearn/linear_model/_coordinate_descent.py:633: ConvergenceWarning: Objective did not converge. You might want to increase the number of iterations. Duality gap: 1490083440.8771973, tolerance: 287131830.99105\n",
      "  model = cd_fast.enet_coordinate_descent_gram(\n",
      "/Users/silviaresende/opt/anaconda3/lib/python3.9/site-packages/sklearn/linear_model/_coordinate_descent.py:633: ConvergenceWarning: Objective did not converge. You might want to increase the number of iterations. Duality gap: 1486618702.6958008, tolerance: 287131830.99105\n",
      "  model = cd_fast.enet_coordinate_descent_gram(\n",
      "/Users/silviaresende/opt/anaconda3/lib/python3.9/site-packages/sklearn/linear_model/_coordinate_descent.py:633: ConvergenceWarning: Objective did not converge. You might want to increase the number of iterations. Duality gap: 1483595631.2670898, tolerance: 287131830.99105\n",
      "  model = cd_fast.enet_coordinate_descent_gram(\n",
      "/Users/silviaresende/opt/anaconda3/lib/python3.9/site-packages/sklearn/linear_model/_coordinate_descent.py:633: ConvergenceWarning: Objective did not converge. You might want to increase the number of iterations. Duality gap: 1480953029.286499, tolerance: 287131830.99105\n",
      "  model = cd_fast.enet_coordinate_descent_gram(\n",
      "/Users/silviaresende/opt/anaconda3/lib/python3.9/site-packages/sklearn/linear_model/_coordinate_descent.py:633: ConvergenceWarning: Objective did not converge. You might want to increase the number of iterations. Duality gap: 1478639000.8535767, tolerance: 287131830.99105\n",
      "  model = cd_fast.enet_coordinate_descent_gram(\n",
      "/Users/silviaresende/opt/anaconda3/lib/python3.9/site-packages/sklearn/linear_model/_coordinate_descent.py:633: ConvergenceWarning: Objective did not converge. You might want to increase the number of iterations. Duality gap: 1476609551.859253, tolerance: 287131830.99105\n",
      "  model = cd_fast.enet_coordinate_descent_gram(\n",
      "/Users/silviaresende/opt/anaconda3/lib/python3.9/site-packages/sklearn/linear_model/_coordinate_descent.py:633: ConvergenceWarning: Objective did not converge. You might want to increase the number of iterations. Duality gap: 1474827119.527954, tolerance: 287131830.99105\n",
      "  model = cd_fast.enet_coordinate_descent_gram(\n",
      "/Users/silviaresende/opt/anaconda3/lib/python3.9/site-packages/sklearn/linear_model/_coordinate_descent.py:633: ConvergenceWarning: Objective did not converge. You might want to increase the number of iterations. Duality gap: 1473259438.7227783, tolerance: 287131830.99105\n",
      "  model = cd_fast.enet_coordinate_descent_gram(\n",
      "/Users/silviaresende/opt/anaconda3/lib/python3.9/site-packages/sklearn/linear_model/_coordinate_descent.py:633: ConvergenceWarning: Objective did not converge. You might want to increase the number of iterations. Duality gap: 1471879058.32312, tolerance: 287131830.99105\n",
      "  model = cd_fast.enet_coordinate_descent_gram(\n",
      "/Users/silviaresende/opt/anaconda3/lib/python3.9/site-packages/sklearn/linear_model/_coordinate_descent.py:633: ConvergenceWarning: Objective did not converge. You might want to increase the number of iterations. Duality gap: 1470662336.1209106, tolerance: 287131830.99105\n",
      "  model = cd_fast.enet_coordinate_descent_gram(\n",
      "/Users/silviaresende/opt/anaconda3/lib/python3.9/site-packages/sklearn/linear_model/_coordinate_descent.py:633: ConvergenceWarning: Objective did not converge. You might want to increase the number of iterations. Duality gap: 1469588625.1619873, tolerance: 287131830.99105\n",
      "  model = cd_fast.enet_coordinate_descent_gram(\n",
      "/Users/silviaresende/opt/anaconda3/lib/python3.9/site-packages/sklearn/linear_model/_coordinate_descent.py:633: ConvergenceWarning: Objective did not converge. You might want to increase the number of iterations. Duality gap: 1468640416.7956543, tolerance: 287131830.99105\n",
      "  model = cd_fast.enet_coordinate_descent_gram(\n",
      "/Users/silviaresende/opt/anaconda3/lib/python3.9/site-packages/sklearn/linear_model/_coordinate_descent.py:633: ConvergenceWarning: Objective did not converge. You might want to increase the number of iterations. Duality gap: 1467802296.541748, tolerance: 287131830.99105\n",
      "  model = cd_fast.enet_coordinate_descent_gram(\n",
      "/Users/silviaresende/opt/anaconda3/lib/python3.9/site-packages/sklearn/linear_model/_coordinate_descent.py:633: ConvergenceWarning: Objective did not converge. You might want to increase the number of iterations. Duality gap: 1467060832.3077393, tolerance: 287131830.99105\n",
      "  model = cd_fast.enet_coordinate_descent_gram(\n",
      "/Users/silviaresende/opt/anaconda3/lib/python3.9/site-packages/sklearn/linear_model/_coordinate_descent.py:633: ConvergenceWarning: Objective did not converge. You might want to increase the number of iterations. Duality gap: 1466404669.0777588, tolerance: 287131830.99105\n",
      "  model = cd_fast.enet_coordinate_descent_gram(\n",
      "/Users/silviaresende/opt/anaconda3/lib/python3.9/site-packages/sklearn/linear_model/_coordinate_descent.py:633: ConvergenceWarning: Objective did not converge. You might want to increase the number of iterations. Duality gap: 1465823482.939209, tolerance: 287131830.99105\n",
      "  model = cd_fast.enet_coordinate_descent_gram(\n",
      "/Users/silviaresende/opt/anaconda3/lib/python3.9/site-packages/sklearn/linear_model/_coordinate_descent.py:633: ConvergenceWarning: Objective did not converge. You might want to increase the number of iterations. Duality gap: 1465308383.8449707, tolerance: 287131830.99105\n",
      "  model = cd_fast.enet_coordinate_descent_gram(\n",
      "/Users/silviaresende/opt/anaconda3/lib/python3.9/site-packages/sklearn/linear_model/_coordinate_descent.py:633: ConvergenceWarning: Objective did not converge. You might want to increase the number of iterations. Duality gap: 1464851754.2841797, tolerance: 287131830.99105\n",
      "  model = cd_fast.enet_coordinate_descent_gram(\n",
      "/Users/silviaresende/opt/anaconda3/lib/python3.9/site-packages/sklearn/linear_model/_coordinate_descent.py:633: ConvergenceWarning: Objective did not converge. You might want to increase the number of iterations. Duality gap: 1464446690.8313599, tolerance: 287131830.99105\n",
      "  model = cd_fast.enet_coordinate_descent_gram(\n",
      "/Users/silviaresende/opt/anaconda3/lib/python3.9/site-packages/sklearn/linear_model/_coordinate_descent.py:633: ConvergenceWarning: Objective did not converge. You might want to increase the number of iterations. Duality gap: 1464087397.6211548, tolerance: 287131830.99105\n",
      "  model = cd_fast.enet_coordinate_descent_gram(\n",
      "/Users/silviaresende/opt/anaconda3/lib/python3.9/site-packages/sklearn/linear_model/_coordinate_descent.py:633: ConvergenceWarning: Objective did not converge. You might want to increase the number of iterations. Duality gap: 1463768454.519104, tolerance: 287131830.99105\n",
      "  model = cd_fast.enet_coordinate_descent_gram(\n",
      "/Users/silviaresende/opt/anaconda3/lib/python3.9/site-packages/sklearn/linear_model/_coordinate_descent.py:633: ConvergenceWarning: Objective did not converge. You might want to increase the number of iterations. Duality gap: 1463485245.5854492, tolerance: 287131830.99105\n",
      "  model = cd_fast.enet_coordinate_descent_gram(\n",
      "/Users/silviaresende/opt/anaconda3/lib/python3.9/site-packages/sklearn/linear_model/_coordinate_descent.py:633: ConvergenceWarning: Objective did not converge. You might want to increase the number of iterations. Duality gap: 1463233700.7710571, tolerance: 287131830.99105\n",
      "  model = cd_fast.enet_coordinate_descent_gram(\n",
      "/Users/silviaresende/opt/anaconda3/lib/python3.9/site-packages/sklearn/linear_model/_coordinate_descent.py:633: ConvergenceWarning: Objective did not converge. You might want to increase the number of iterations. Duality gap: 1463010244.0378418, tolerance: 287131830.99105\n",
      "  model = cd_fast.enet_coordinate_descent_gram(\n",
      "/Users/silviaresende/opt/anaconda3/lib/python3.9/site-packages/sklearn/linear_model/_coordinate_descent.py:633: ConvergenceWarning: Objective did not converge. You might want to increase the number of iterations. Duality gap: 1462811525.4050903, tolerance: 287131830.99105\n",
      "  model = cd_fast.enet_coordinate_descent_gram(\n",
      "/Users/silviaresende/opt/anaconda3/lib/python3.9/site-packages/sklearn/linear_model/_coordinate_descent.py:633: ConvergenceWarning: Objective did not converge. You might want to increase the number of iterations. Duality gap: 1462635199.3586426, tolerance: 287131830.99105\n",
      "  model = cd_fast.enet_coordinate_descent_gram(\n",
      "/Users/silviaresende/opt/anaconda3/lib/python3.9/site-packages/sklearn/linear_model/_coordinate_descent.py:633: ConvergenceWarning: Objective did not converge. You might want to increase the number of iterations. Duality gap: 1462477884.1811523, tolerance: 287131830.99105\n",
      "  model = cd_fast.enet_coordinate_descent_gram(\n",
      "/Users/silviaresende/opt/anaconda3/lib/python3.9/site-packages/sklearn/linear_model/_coordinate_descent.py:633: ConvergenceWarning: Objective did not converge. You might want to increase the number of iterations. Duality gap: 1462338323.25531, tolerance: 287131830.99105\n",
      "  model = cd_fast.enet_coordinate_descent_gram(\n",
      "/Users/silviaresende/opt/anaconda3/lib/python3.9/site-packages/sklearn/linear_model/_coordinate_descent.py:633: ConvergenceWarning: Objective did not converge. You might want to increase the number of iterations. Duality gap: 1462214677.5708008, tolerance: 287131830.99105\n",
      "  model = cd_fast.enet_coordinate_descent_gram(\n",
      "/Users/silviaresende/opt/anaconda3/lib/python3.9/site-packages/sklearn/linear_model/_coordinate_descent.py:633: ConvergenceWarning: Objective did not converge. You might want to increase the number of iterations. Duality gap: 1462104310.1430664, tolerance: 287131830.99105\n",
      "  model = cd_fast.enet_coordinate_descent_gram(\n",
      "/Users/silviaresende/opt/anaconda3/lib/python3.9/site-packages/sklearn/linear_model/_coordinate_descent.py:633: ConvergenceWarning: Objective did not converge. You might want to increase the number of iterations. Duality gap: 1462006707.9320068, tolerance: 287131830.99105\n",
      "  model = cd_fast.enet_coordinate_descent_gram(\n",
      "/Users/silviaresende/opt/anaconda3/lib/python3.9/site-packages/sklearn/linear_model/_coordinate_descent.py:633: ConvergenceWarning: Objective did not converge. You might want to increase the number of iterations. Duality gap: 1461918959.33313, tolerance: 287131830.99105\n",
      "  model = cd_fast.enet_coordinate_descent_gram(\n",
      "/Users/silviaresende/opt/anaconda3/lib/python3.9/site-packages/sklearn/linear_model/_coordinate_descent.py:633: ConvergenceWarning: Objective did not converge. You might want to increase the number of iterations. Duality gap: 1461842523.9700317, tolerance: 287131830.99105\n",
      "  model = cd_fast.enet_coordinate_descent_gram(\n",
      "/Users/silviaresende/opt/anaconda3/lib/python3.9/site-packages/sklearn/linear_model/_coordinate_descent.py:633: ConvergenceWarning: Objective did not converge. You might want to increase the number of iterations. Duality gap: 1461772606.9140625, tolerance: 287131830.99105\n",
      "  model = cd_fast.enet_coordinate_descent_gram(\n",
      "/Users/silviaresende/opt/anaconda3/lib/python3.9/site-packages/sklearn/linear_model/_coordinate_descent.py:633: ConvergenceWarning: Objective did not converge. You might want to increase the number of iterations. Duality gap: 1461711213.2264404, tolerance: 287131830.99105\n",
      "  model = cd_fast.enet_coordinate_descent_gram(\n",
      "/Users/silviaresende/opt/anaconda3/lib/python3.9/site-packages/sklearn/linear_model/_coordinate_descent.py:633: ConvergenceWarning: Objective did not converge. You might want to increase the number of iterations. Duality gap: 1461656712.8911133, tolerance: 287131830.99105\n",
      "  model = cd_fast.enet_coordinate_descent_gram(\n",
      "/Users/silviaresende/opt/anaconda3/lib/python3.9/site-packages/sklearn/linear_model/_coordinate_descent.py:633: ConvergenceWarning: Objective did not converge. You might want to increase the number of iterations. Duality gap: 1461607874.7001953, tolerance: 287131830.99105\n",
      "  model = cd_fast.enet_coordinate_descent_gram(\n",
      "/Users/silviaresende/opt/anaconda3/lib/python3.9/site-packages/sklearn/linear_model/_coordinate_descent.py:633: ConvergenceWarning: Objective did not converge. You might want to increase the number of iterations. Duality gap: 1461565190.4927979, tolerance: 287131830.99105\n",
      "  model = cd_fast.enet_coordinate_descent_gram(\n",
      "/Users/silviaresende/opt/anaconda3/lib/python3.9/site-packages/sklearn/linear_model/_coordinate_descent.py:633: ConvergenceWarning: Objective did not converge. You might want to increase the number of iterations. Duality gap: 1461526138.7841797, tolerance: 287131830.99105\n",
      "  model = cd_fast.enet_coordinate_descent_gram(\n",
      "/Users/silviaresende/opt/anaconda3/lib/python3.9/site-packages/sklearn/linear_model/_coordinate_descent.py:633: ConvergenceWarning: Objective did not converge. You might want to increase the number of iterations. Duality gap: 1461491959.4903564, tolerance: 287131830.99105\n",
      "  model = cd_fast.enet_coordinate_descent_gram(\n",
      "/Users/silviaresende/opt/anaconda3/lib/python3.9/site-packages/sklearn/linear_model/_coordinate_descent.py:633: ConvergenceWarning: Objective did not converge. You might want to increase the number of iterations. Duality gap: 1461460568.4470825, tolerance: 287131830.99105\n",
      "  model = cd_fast.enet_coordinate_descent_gram(\n",
      "/Users/silviaresende/opt/anaconda3/lib/python3.9/site-packages/sklearn/linear_model/_coordinate_descent.py:633: ConvergenceWarning: Objective did not converge. You might want to increase the number of iterations. Duality gap: 1461434187.8719482, tolerance: 287131830.99105\n",
      "  model = cd_fast.enet_coordinate_descent_gram(\n",
      "/Users/silviaresende/opt/anaconda3/lib/python3.9/site-packages/sklearn/linear_model/_coordinate_descent.py:633: ConvergenceWarning: Objective did not converge. You might want to increase the number of iterations. Duality gap: 1461409838.4346924, tolerance: 287131830.99105\n",
      "  model = cd_fast.enet_coordinate_descent_gram(\n",
      "/Users/silviaresende/opt/anaconda3/lib/python3.9/site-packages/sklearn/linear_model/_coordinate_descent.py:633: ConvergenceWarning: Objective did not converge. You might want to increase the number of iterations. Duality gap: 1461388553.7434082, tolerance: 287131830.99105\n",
      "  model = cd_fast.enet_coordinate_descent_gram(\n",
      "/Users/silviaresende/opt/anaconda3/lib/python3.9/site-packages/sklearn/linear_model/_coordinate_descent.py:633: ConvergenceWarning: Objective did not converge. You might want to increase the number of iterations. Duality gap: 1461373168.602478, tolerance: 287131830.99105\n",
      "  model = cd_fast.enet_coordinate_descent_gram(\n",
      "/Users/silviaresende/opt/anaconda3/lib/python3.9/site-packages/sklearn/linear_model/_coordinate_descent.py:633: ConvergenceWarning: Objective did not converge. You might want to increase the number of iterations. Duality gap: 1461352448.6496582, tolerance: 287131830.99105\n",
      "  model = cd_fast.enet_coordinate_descent_gram(\n",
      "/Users/silviaresende/opt/anaconda3/lib/python3.9/site-packages/sklearn/linear_model/_coordinate_descent.py:633: ConvergenceWarning: Objective did not converge. You might want to increase the number of iterations. Duality gap: 1461337213.0651855, tolerance: 287131830.99105\n",
      "  model = cd_fast.enet_coordinate_descent_gram(\n",
      "/Users/silviaresende/opt/anaconda3/lib/python3.9/site-packages/sklearn/linear_model/_coordinate_descent.py:633: ConvergenceWarning: Objective did not converge. You might want to increase the number of iterations. Duality gap: 1461323812.9227905, tolerance: 287131830.99105\n",
      "  model = cd_fast.enet_coordinate_descent_gram(\n",
      "/Users/silviaresende/opt/anaconda3/lib/python3.9/site-packages/sklearn/linear_model/_coordinate_descent.py:633: ConvergenceWarning: Objective did not converge. You might want to increase the number of iterations. Duality gap: 1461317630.2763672, tolerance: 287131830.99105\n",
      "  model = cd_fast.enet_coordinate_descent_gram(\n",
      "/Users/silviaresende/opt/anaconda3/lib/python3.9/site-packages/sklearn/linear_model/_coordinate_descent.py:633: ConvergenceWarning: Objective did not converge. You might want to increase the number of iterations. Duality gap: 1461301270.2927246, tolerance: 287131830.99105\n",
      "  model = cd_fast.enet_coordinate_descent_gram(\n",
      "/Users/silviaresende/opt/anaconda3/lib/python3.9/site-packages/sklearn/linear_model/_coordinate_descent.py:633: ConvergenceWarning: Objective did not converge. You might want to increase the number of iterations. Duality gap: 1461291501.4871826, tolerance: 287131830.99105\n",
      "  model = cd_fast.enet_coordinate_descent_gram(\n",
      "/Users/silviaresende/opt/anaconda3/lib/python3.9/site-packages/sklearn/linear_model/_coordinate_descent.py:633: ConvergenceWarning: Objective did not converge. You might want to increase the number of iterations. Duality gap: 1461282870.574585, tolerance: 287131830.99105\n",
      "  model = cd_fast.enet_coordinate_descent_gram(\n",
      "/Users/silviaresende/opt/anaconda3/lib/python3.9/site-packages/sklearn/linear_model/_coordinate_descent.py:633: ConvergenceWarning: Objective did not converge. You might want to increase the number of iterations. Duality gap: 1461278210.972046, tolerance: 287131830.99105\n",
      "  model = cd_fast.enet_coordinate_descent_gram(\n",
      "/Users/silviaresende/opt/anaconda3/lib/python3.9/site-packages/sklearn/linear_model/_coordinate_descent.py:633: ConvergenceWarning: Objective did not converge. You might want to increase the number of iterations. Duality gap: 1461268230.3666992, tolerance: 287131830.99105\n",
      "  model = cd_fast.enet_coordinate_descent_gram(\n",
      "/Users/silviaresende/opt/anaconda3/lib/python3.9/site-packages/sklearn/linear_model/_coordinate_descent.py:633: ConvergenceWarning: Objective did not converge. You might want to increase the number of iterations. Duality gap: 1461262295.7557373, tolerance: 287131830.99105\n",
      "  model = cd_fast.enet_coordinate_descent_gram(\n",
      "/Users/silviaresende/opt/anaconda3/lib/python3.9/site-packages/sklearn/linear_model/_coordinate_descent.py:633: ConvergenceWarning: Objective did not converge. You might want to increase the number of iterations. Duality gap: 1461261053.3705444, tolerance: 287131830.99105\n",
      "  model = cd_fast.enet_coordinate_descent_gram(\n",
      "/Users/silviaresende/opt/anaconda3/lib/python3.9/site-packages/sklearn/linear_model/_coordinate_descent.py:633: ConvergenceWarning: Objective did not converge. You might want to increase the number of iterations. Duality gap: 1461256352.8186035, tolerance: 287131830.99105\n",
      "  model = cd_fast.enet_coordinate_descent_gram(\n",
      "/Users/silviaresende/opt/anaconda3/lib/python3.9/site-packages/sklearn/linear_model/_coordinate_descent.py:633: ConvergenceWarning: Objective did not converge. You might want to increase the number of iterations. Duality gap: 1461249237.1046143, tolerance: 287131830.99105\n",
      "  model = cd_fast.enet_coordinate_descent_gram(\n",
      "/Users/silviaresende/opt/anaconda3/lib/python3.9/site-packages/sklearn/linear_model/_coordinate_descent.py:633: ConvergenceWarning: Objective did not converge. You might want to increase the number of iterations. Duality gap: 1461244916.3601685, tolerance: 287131830.99105\n",
      "  model = cd_fast.enet_coordinate_descent_gram(\n",
      "/Users/silviaresende/opt/anaconda3/lib/python3.9/site-packages/sklearn/linear_model/_coordinate_descent.py:633: ConvergenceWarning: Objective did not converge. You might want to increase the number of iterations. Duality gap: 1461241264.2543335, tolerance: 287131830.99105\n",
      "  model = cd_fast.enet_coordinate_descent_gram(\n",
      "/Users/silviaresende/opt/anaconda3/lib/python3.9/site-packages/sklearn/linear_model/_coordinate_descent.py:633: ConvergenceWarning: Objective did not converge. You might want to increase the number of iterations. Duality gap: 1461237124.6186523, tolerance: 287131830.99105\n",
      "  model = cd_fast.enet_coordinate_descent_gram(\n",
      "/Users/silviaresende/opt/anaconda3/lib/python3.9/site-packages/sklearn/linear_model/_coordinate_descent.py:633: ConvergenceWarning: Objective did not converge. You might want to increase the number of iterations. Duality gap: 1461235025.079834, tolerance: 287131830.99105\n",
      "  model = cd_fast.enet_coordinate_descent_gram(\n",
      "/Users/silviaresende/opt/anaconda3/lib/python3.9/site-packages/sklearn/linear_model/_coordinate_descent.py:633: ConvergenceWarning: Objective did not converge. You might want to increase the number of iterations. Duality gap: 1461225576.2095337, tolerance: 287131830.99105\n",
      "  model = cd_fast.enet_coordinate_descent_gram(\n",
      "/Users/silviaresende/opt/anaconda3/lib/python3.9/site-packages/sklearn/linear_model/_coordinate_descent.py:633: ConvergenceWarning: Objective did not converge. You might want to increase the number of iterations. Duality gap: 1461240043.4484863, tolerance: 287131830.99105\n",
      "  model = cd_fast.enet_coordinate_descent_gram(\n",
      "/Users/silviaresende/opt/anaconda3/lib/python3.9/site-packages/sklearn/linear_model/_coordinate_descent.py:633: ConvergenceWarning: Objective did not converge. You might want to increase the number of iterations. Duality gap: 1461219924.4769287, tolerance: 287131830.99105\n",
      "  model = cd_fast.enet_coordinate_descent_gram(\n",
      "/Users/silviaresende/opt/anaconda3/lib/python3.9/site-packages/sklearn/linear_model/_coordinate_descent.py:633: ConvergenceWarning: Objective did not converge. You might want to increase the number of iterations. Duality gap: 1461228624.0926514, tolerance: 287131830.99105\n",
      "  model = cd_fast.enet_coordinate_descent_gram(\n",
      "/Users/silviaresende/opt/anaconda3/lib/python3.9/site-packages/sklearn/linear_model/_coordinate_descent.py:633: ConvergenceWarning: Objective did not converge. You might want to increase the number of iterations. Duality gap: 1461228114.1497803, tolerance: 287131830.99105\n",
      "  model = cd_fast.enet_coordinate_descent_gram(\n",
      "/Users/silviaresende/opt/anaconda3/lib/python3.9/site-packages/sklearn/linear_model/_coordinate_descent.py:633: ConvergenceWarning: Objective did not converge. You might want to increase the number of iterations. Duality gap: 1461172329.2042236, tolerance: 287131830.99105\n",
      "  model = cd_fast.enet_coordinate_descent_gram(\n",
      "/Users/silviaresende/opt/anaconda3/lib/python3.9/site-packages/sklearn/linear_model/_coordinate_descent.py:633: ConvergenceWarning: Objective did not converge. You might want to increase the number of iterations. Duality gap: 1461241127.2043457, tolerance: 287131830.99105\n",
      "  model = cd_fast.enet_coordinate_descent_gram(\n",
      "/Users/silviaresende/opt/anaconda3/lib/python3.9/site-packages/sklearn/linear_model/_coordinate_descent.py:633: ConvergenceWarning: Objective did not converge. You might want to increase the number of iterations. Duality gap: 1461227686.7653809, tolerance: 287131830.99105\n",
      "  model = cd_fast.enet_coordinate_descent_gram(\n",
      "/Users/silviaresende/opt/anaconda3/lib/python3.9/site-packages/sklearn/linear_model/_coordinate_descent.py:633: ConvergenceWarning: Objective did not converge. You might want to increase the number of iterations. Duality gap: 1461235531.5039673, tolerance: 287131830.99105\n",
      "  model = cd_fast.enet_coordinate_descent_gram(\n",
      "/Users/silviaresende/opt/anaconda3/lib/python3.9/site-packages/sklearn/linear_model/_coordinate_descent.py:633: ConvergenceWarning: Objective did not converge. You might want to increase the number of iterations. Duality gap: 1461221276.1014404, tolerance: 287131830.99105\n",
      "  model = cd_fast.enet_coordinate_descent_gram(\n",
      "/Users/silviaresende/opt/anaconda3/lib/python3.9/site-packages/sklearn/linear_model/_coordinate_descent.py:633: ConvergenceWarning: Objective did not converge. You might want to increase the number of iterations. Duality gap: 1461214122.9663086, tolerance: 287131830.99105\n",
      "  model = cd_fast.enet_coordinate_descent_gram(\n",
      "/Users/silviaresende/opt/anaconda3/lib/python3.9/site-packages/sklearn/linear_model/_coordinate_descent.py:633: ConvergenceWarning: Objective did not converge. You might want to increase the number of iterations. Duality gap: 1461131066.3900757, tolerance: 287131830.99105\n",
      "  model = cd_fast.enet_coordinate_descent_gram(\n",
      "/Users/silviaresende/opt/anaconda3/lib/python3.9/site-packages/sklearn/linear_model/_coordinate_descent.py:633: ConvergenceWarning: Objective did not converge. You might want to increase the number of iterations. Duality gap: 1461256917.5480347, tolerance: 287131830.99105\n",
      "  model = cd_fast.enet_coordinate_descent_gram(\n",
      "/Users/silviaresende/opt/anaconda3/lib/python3.9/site-packages/sklearn/linear_model/_coordinate_descent.py:633: ConvergenceWarning: Objective did not converge. You might want to increase the number of iterations. Duality gap: 1461237694.4863281, tolerance: 287131830.99105\n",
      "  model = cd_fast.enet_coordinate_descent_gram(\n",
      "/Users/silviaresende/opt/anaconda3/lib/python3.9/site-packages/sklearn/linear_model/_coordinate_descent.py:633: ConvergenceWarning: Objective did not converge. You might want to increase the number of iterations. Duality gap: 1461264521.0030518, tolerance: 287131830.99105\n",
      "  model = cd_fast.enet_coordinate_descent_gram(\n",
      "/Users/silviaresende/opt/anaconda3/lib/python3.9/site-packages/sklearn/linear_model/_coordinate_descent.py:633: ConvergenceWarning: Objective did not converge. You might want to increase the number of iterations. Duality gap: 1461216262.9404297, tolerance: 287131830.99105\n",
      "  model = cd_fast.enet_coordinate_descent_gram(\n",
      "/Users/silviaresende/opt/anaconda3/lib/python3.9/site-packages/sklearn/linear_model/_coordinate_descent.py:633: ConvergenceWarning: Objective did not converge. You might want to increase the number of iterations. Duality gap: 1461165217.2353516, tolerance: 287131830.99105\n",
      "  model = cd_fast.enet_coordinate_descent_gram(\n",
      "/Users/silviaresende/opt/anaconda3/lib/python3.9/site-packages/sklearn/linear_model/_coordinate_descent.py:633: ConvergenceWarning: Objective did not converge. You might want to increase the number of iterations. Duality gap: 1461123700.5228271, tolerance: 287131830.99105\n",
      "  model = cd_fast.enet_coordinate_descent_gram(\n",
      "/Users/silviaresende/opt/anaconda3/lib/python3.9/site-packages/sklearn/linear_model/_coordinate_descent.py:633: ConvergenceWarning: Objective did not converge. You might want to increase the number of iterations. Duality gap: 1461286896.8671265, tolerance: 287131830.99105\n",
      "  model = cd_fast.enet_coordinate_descent_gram(\n",
      "/Users/silviaresende/opt/anaconda3/lib/python3.9/site-packages/sklearn/linear_model/_coordinate_descent.py:633: ConvergenceWarning: Objective did not converge. You might want to increase the number of iterations. Duality gap: 1461212074.5700684, tolerance: 287131830.99105\n",
      "  model = cd_fast.enet_coordinate_descent_gram(\n",
      "/Users/silviaresende/opt/anaconda3/lib/python3.9/site-packages/sklearn/linear_model/_coordinate_descent.py:633: ConvergenceWarning: Objective did not converge. You might want to increase the number of iterations. Duality gap: 1460946817.151245, tolerance: 287131830.99105\n",
      "  model = cd_fast.enet_coordinate_descent_gram(\n",
      "/Users/silviaresende/opt/anaconda3/lib/python3.9/site-packages/sklearn/linear_model/_coordinate_descent.py:633: ConvergenceWarning: Objective did not converge. You might want to increase the number of iterations. Duality gap: 1460879562.7373657, tolerance: 287131830.99105\n",
      "  model = cd_fast.enet_coordinate_descent_gram(\n",
      "/Users/silviaresende/opt/anaconda3/lib/python3.9/site-packages/sklearn/linear_model/_coordinate_descent.py:633: ConvergenceWarning: Objective did not converge. You might want to increase the number of iterations. Duality gap: 1461084223.1765747, tolerance: 287131830.99105\n",
      "  model = cd_fast.enet_coordinate_descent_gram(\n",
      "/Users/silviaresende/opt/anaconda3/lib/python3.9/site-packages/sklearn/linear_model/_coordinate_descent.py:633: ConvergenceWarning: Objective did not converge. You might want to increase the number of iterations. Duality gap: 1461216002.8549805, tolerance: 287131830.99105\n",
      "  model = cd_fast.enet_coordinate_descent_gram(\n",
      "/Users/silviaresende/opt/anaconda3/lib/python3.9/site-packages/sklearn/linear_model/_coordinate_descent.py:633: ConvergenceWarning: Objective did not converge. You might want to increase the number of iterations. Duality gap: 1461049170.3777466, tolerance: 287131830.99105\n",
      "  model = cd_fast.enet_coordinate_descent_gram(\n",
      "/Users/silviaresende/opt/anaconda3/lib/python3.9/site-packages/sklearn/linear_model/_coordinate_descent.py:633: ConvergenceWarning: Objective did not converge. You might want to increase the number of iterations. Duality gap: 1461752705.748169, tolerance: 287131830.99105\n",
      "  model = cd_fast.enet_coordinate_descent_gram(\n",
      "/Users/silviaresende/opt/anaconda3/lib/python3.9/site-packages/sklearn/linear_model/_coordinate_descent.py:633: ConvergenceWarning: Objective did not converge. You might want to increase the number of iterations. Duality gap: 1461503620.9083252, tolerance: 287131830.99105\n",
      "  model = cd_fast.enet_coordinate_descent_gram(\n",
      "/Users/silviaresende/opt/anaconda3/lib/python3.9/site-packages/sklearn/linear_model/_coordinate_descent.py:633: ConvergenceWarning: Objective did not converge. You might want to increase the number of iterations. Duality gap: 1461032829.140442, tolerance: 287131830.99105\n",
      "  model = cd_fast.enet_coordinate_descent_gram(\n",
      "/Users/silviaresende/opt/anaconda3/lib/python3.9/site-packages/sklearn/linear_model/_coordinate_descent.py:633: ConvergenceWarning: Objective did not converge. You might want to increase the number of iterations. Duality gap: 786915826.8939209, tolerance: 285597876.3400919\n",
      "  model = cd_fast.enet_coordinate_descent_gram(\n",
      "/Users/silviaresende/opt/anaconda3/lib/python3.9/site-packages/sklearn/linear_model/_coordinate_descent.py:633: ConvergenceWarning: Objective did not converge. You might want to increase the number of iterations. Duality gap: 770079795.4257202, tolerance: 285597876.3400919\n",
      "  model = cd_fast.enet_coordinate_descent_gram(\n",
      "/Users/silviaresende/opt/anaconda3/lib/python3.9/site-packages/sklearn/linear_model/_coordinate_descent.py:633: ConvergenceWarning: Objective did not converge. You might want to increase the number of iterations. Duality gap: 756245967.6751709, tolerance: 285597876.3400919\n",
      "  model = cd_fast.enet_coordinate_descent_gram(\n",
      "/Users/silviaresende/opt/anaconda3/lib/python3.9/site-packages/sklearn/linear_model/_coordinate_descent.py:633: ConvergenceWarning: Objective did not converge. You might want to increase the number of iterations. Duality gap: 744436291.467102, tolerance: 285597876.3400919\n",
      "  model = cd_fast.enet_coordinate_descent_gram(\n",
      "/Users/silviaresende/opt/anaconda3/lib/python3.9/site-packages/sklearn/linear_model/_coordinate_descent.py:633: ConvergenceWarning: Objective did not converge. You might want to increase the number of iterations. Duality gap: 734323605.2442627, tolerance: 285597876.3400919\n",
      "  model = cd_fast.enet_coordinate_descent_gram(\n",
      "/Users/silviaresende/opt/anaconda3/lib/python3.9/site-packages/sklearn/linear_model/_coordinate_descent.py:633: ConvergenceWarning: Objective did not converge. You might want to increase the number of iterations. Duality gap: 725638492.6665039, tolerance: 285597876.3400919\n",
      "  model = cd_fast.enet_coordinate_descent_gram(\n",
      "/Users/silviaresende/opt/anaconda3/lib/python3.9/site-packages/sklearn/linear_model/_coordinate_descent.py:633: ConvergenceWarning: Objective did not converge. You might want to increase the number of iterations. Duality gap: 718158376.0350952, tolerance: 285597876.3400919\n",
      "  model = cd_fast.enet_coordinate_descent_gram(\n",
      "/Users/silviaresende/opt/anaconda3/lib/python3.9/site-packages/sklearn/linear_model/_coordinate_descent.py:633: ConvergenceWarning: Objective did not converge. You might want to increase the number of iterations. Duality gap: 711698765.166626, tolerance: 285597876.3400919\n",
      "  model = cd_fast.enet_coordinate_descent_gram(\n",
      "/Users/silviaresende/opt/anaconda3/lib/python3.9/site-packages/sklearn/linear_model/_coordinate_descent.py:633: ConvergenceWarning: Objective did not converge. You might want to increase the number of iterations. Duality gap: 706106290.6550903, tolerance: 285597876.3400919\n",
      "  model = cd_fast.enet_coordinate_descent_gram(\n",
      "/Users/silviaresende/opt/anaconda3/lib/python3.9/site-packages/sklearn/linear_model/_coordinate_descent.py:633: ConvergenceWarning: Objective did not converge. You might want to increase the number of iterations. Duality gap: 701252953.6397705, tolerance: 285597876.3400919\n",
      "  model = cd_fast.enet_coordinate_descent_gram(\n",
      "/Users/silviaresende/opt/anaconda3/lib/python3.9/site-packages/sklearn/linear_model/_coordinate_descent.py:633: ConvergenceWarning: Objective did not converge. You might want to increase the number of iterations. Duality gap: 697031620.9382935, tolerance: 285597876.3400919\n",
      "  model = cd_fast.enet_coordinate_descent_gram(\n",
      "/Users/silviaresende/opt/anaconda3/lib/python3.9/site-packages/sklearn/linear_model/_coordinate_descent.py:633: ConvergenceWarning: Objective did not converge. You might want to increase the number of iterations. Duality gap: 693352343.1931152, tolerance: 285597876.3400919\n",
      "  model = cd_fast.enet_coordinate_descent_gram(\n",
      "/Users/silviaresende/opt/anaconda3/lib/python3.9/site-packages/sklearn/linear_model/_coordinate_descent.py:633: ConvergenceWarning: Objective did not converge. You might want to increase the number of iterations. Duality gap: 690139299.6116943, tolerance: 285597876.3400919\n",
      "  model = cd_fast.enet_coordinate_descent_gram(\n",
      "/Users/silviaresende/opt/anaconda3/lib/python3.9/site-packages/sklearn/linear_model/_coordinate_descent.py:633: ConvergenceWarning: Objective did not converge. You might want to increase the number of iterations. Duality gap: 687328367.0661621, tolerance: 285597876.3400919\n",
      "  model = cd_fast.enet_coordinate_descent_gram(\n",
      "/Users/silviaresende/opt/anaconda3/lib/python3.9/site-packages/sklearn/linear_model/_coordinate_descent.py:633: ConvergenceWarning: Objective did not converge. You might want to increase the number of iterations. Duality gap: 684865172.1607056, tolerance: 285597876.3400919\n",
      "  model = cd_fast.enet_coordinate_descent_gram(\n",
      "/Users/silviaresende/opt/anaconda3/lib/python3.9/site-packages/sklearn/linear_model/_coordinate_descent.py:633: ConvergenceWarning: Objective did not converge. You might want to increase the number of iterations. Duality gap: 682703384.7163086, tolerance: 285597876.3400919\n",
      "  model = cd_fast.enet_coordinate_descent_gram(\n",
      "/Users/silviaresende/opt/anaconda3/lib/python3.9/site-packages/sklearn/linear_model/_coordinate_descent.py:633: ConvergenceWarning: Objective did not converge. You might want to increase the number of iterations. Duality gap: 680803500.7058716, tolerance: 285597876.3400919\n",
      "  model = cd_fast.enet_coordinate_descent_gram(\n",
      "/Users/silviaresende/opt/anaconda3/lib/python3.9/site-packages/sklearn/linear_model/_coordinate_descent.py:633: ConvergenceWarning: Objective did not converge. You might want to increase the number of iterations. Duality gap: 679131676.3565674, tolerance: 285597876.3400919\n",
      "  model = cd_fast.enet_coordinate_descent_gram(\n",
      "/Users/silviaresende/opt/anaconda3/lib/python3.9/site-packages/sklearn/linear_model/_coordinate_descent.py:633: ConvergenceWarning: Objective did not converge. You might want to increase the number of iterations. Duality gap: 677658825.298645, tolerance: 285597876.3400919\n",
      "  model = cd_fast.enet_coordinate_descent_gram(\n",
      "/Users/silviaresende/opt/anaconda3/lib/python3.9/site-packages/sklearn/linear_model/_coordinate_descent.py:633: ConvergenceWarning: Objective did not converge. You might want to increase the number of iterations. Duality gap: 676359896.3314819, tolerance: 285597876.3400919\n",
      "  model = cd_fast.enet_coordinate_descent_gram(\n",
      "/Users/silviaresende/opt/anaconda3/lib/python3.9/site-packages/sklearn/linear_model/_coordinate_descent.py:633: ConvergenceWarning: Objective did not converge. You might want to increase the number of iterations. Duality gap: 675213266.0881348, tolerance: 285597876.3400919\n",
      "  model = cd_fast.enet_coordinate_descent_gram(\n",
      "/Users/silviaresende/opt/anaconda3/lib/python3.9/site-packages/sklearn/linear_model/_coordinate_descent.py:633: ConvergenceWarning: Objective did not converge. You might want to increase the number of iterations. Duality gap: 674200196.444458, tolerance: 285597876.3400919\n",
      "  model = cd_fast.enet_coordinate_descent_gram(\n",
      "/Users/silviaresende/opt/anaconda3/lib/python3.9/site-packages/sklearn/linear_model/_coordinate_descent.py:633: ConvergenceWarning: Objective did not converge. You might want to increase the number of iterations. Duality gap: 673304480.6738281, tolerance: 285597876.3400919\n",
      "  model = cd_fast.enet_coordinate_descent_gram(\n",
      "/Users/silviaresende/opt/anaconda3/lib/python3.9/site-packages/sklearn/linear_model/_coordinate_descent.py:633: ConvergenceWarning: Objective did not converge. You might want to increase the number of iterations. Duality gap: 672511828.1611328, tolerance: 285597876.3400919\n",
      "  model = cd_fast.enet_coordinate_descent_gram(\n",
      "/Users/silviaresende/opt/anaconda3/lib/python3.9/site-packages/sklearn/linear_model/_coordinate_descent.py:633: ConvergenceWarning: Objective did not converge. You might want to increase the number of iterations. Duality gap: 671810075.3410645, tolerance: 285597876.3400919\n",
      "  model = cd_fast.enet_coordinate_descent_gram(\n",
      "/Users/silviaresende/opt/anaconda3/lib/python3.9/site-packages/sklearn/linear_model/_coordinate_descent.py:633: ConvergenceWarning: Objective did not converge. You might want to increase the number of iterations. Duality gap: 671188395.8076782, tolerance: 285597876.3400919\n",
      "  model = cd_fast.enet_coordinate_descent_gram(\n",
      "/Users/silviaresende/opt/anaconda3/lib/python3.9/site-packages/sklearn/linear_model/_coordinate_descent.py:633: ConvergenceWarning: Objective did not converge. You might want to increase the number of iterations. Duality gap: 670637352.9245605, tolerance: 285597876.3400919\n",
      "  model = cd_fast.enet_coordinate_descent_gram(\n",
      "/Users/silviaresende/opt/anaconda3/lib/python3.9/site-packages/sklearn/linear_model/_coordinate_descent.py:633: ConvergenceWarning: Objective did not converge. You might want to increase the number of iterations. Duality gap: 670148643.586792, tolerance: 285597876.3400919\n",
      "  model = cd_fast.enet_coordinate_descent_gram(\n",
      "/Users/silviaresende/opt/anaconda3/lib/python3.9/site-packages/sklearn/linear_model/_coordinate_descent.py:633: ConvergenceWarning: Objective did not converge. You might want to increase the number of iterations. Duality gap: 669715221.0860596, tolerance: 285597876.3400919\n",
      "  model = cd_fast.enet_coordinate_descent_gram(\n",
      "/Users/silviaresende/opt/anaconda3/lib/python3.9/site-packages/sklearn/linear_model/_coordinate_descent.py:633: ConvergenceWarning: Objective did not converge. You might want to increase the number of iterations. Duality gap: 669330530.4042358, tolerance: 285597876.3400919\n",
      "  model = cd_fast.enet_coordinate_descent_gram(\n",
      "/Users/silviaresende/opt/anaconda3/lib/python3.9/site-packages/sklearn/linear_model/_coordinate_descent.py:633: ConvergenceWarning: Objective did not converge. You might want to increase the number of iterations. Duality gap: 668988981.8875732, tolerance: 285597876.3400919\n",
      "  model = cd_fast.enet_coordinate_descent_gram(\n",
      "/Users/silviaresende/opt/anaconda3/lib/python3.9/site-packages/sklearn/linear_model/_coordinate_descent.py:633: ConvergenceWarning: Objective did not converge. You might want to increase the number of iterations. Duality gap: 668685758.3499146, tolerance: 285597876.3400919\n",
      "  model = cd_fast.enet_coordinate_descent_gram(\n",
      "/Users/silviaresende/opt/anaconda3/lib/python3.9/site-packages/sklearn/linear_model/_coordinate_descent.py:633: ConvergenceWarning: Objective did not converge. You might want to increase the number of iterations. Duality gap: 668416373.2823486, tolerance: 285597876.3400919\n",
      "  model = cd_fast.enet_coordinate_descent_gram(\n",
      "/Users/silviaresende/opt/anaconda3/lib/python3.9/site-packages/sklearn/linear_model/_coordinate_descent.py:633: ConvergenceWarning: Objective did not converge. You might want to increase the number of iterations. Duality gap: 668177046.2929688, tolerance: 285597876.3400919\n",
      "  model = cd_fast.enet_coordinate_descent_gram(\n",
      "/Users/silviaresende/opt/anaconda3/lib/python3.9/site-packages/sklearn/linear_model/_coordinate_descent.py:633: ConvergenceWarning: Objective did not converge. You might want to increase the number of iterations. Duality gap: 667964336.829834, tolerance: 285597876.3400919\n",
      "  model = cd_fast.enet_coordinate_descent_gram(\n",
      "/Users/silviaresende/opt/anaconda3/lib/python3.9/site-packages/sklearn/linear_model/_coordinate_descent.py:633: ConvergenceWarning: Objective did not converge. You might want to increase the number of iterations. Duality gap: 667775255.4503174, tolerance: 285597876.3400919\n",
      "  model = cd_fast.enet_coordinate_descent_gram(\n",
      "/Users/silviaresende/opt/anaconda3/lib/python3.9/site-packages/sklearn/linear_model/_coordinate_descent.py:633: ConvergenceWarning: Objective did not converge. You might want to increase the number of iterations. Duality gap: 667607264.2556152, tolerance: 285597876.3400919\n",
      "  model = cd_fast.enet_coordinate_descent_gram(\n",
      "/Users/silviaresende/opt/anaconda3/lib/python3.9/site-packages/sklearn/linear_model/_coordinate_descent.py:633: ConvergenceWarning: Objective did not converge. You might want to increase the number of iterations. Duality gap: 667458044.815918, tolerance: 285597876.3400919\n",
      "  model = cd_fast.enet_coordinate_descent_gram(\n",
      "/Users/silviaresende/opt/anaconda3/lib/python3.9/site-packages/sklearn/linear_model/_coordinate_descent.py:633: ConvergenceWarning: Objective did not converge. You might want to increase the number of iterations. Duality gap: 667324957.3005371, tolerance: 285597876.3400919\n",
      "  model = cd_fast.enet_coordinate_descent_gram(\n",
      "/Users/silviaresende/opt/anaconda3/lib/python3.9/site-packages/sklearn/linear_model/_coordinate_descent.py:633: ConvergenceWarning: Objective did not converge. You might want to increase the number of iterations. Duality gap: 667206434.8723145, tolerance: 285597876.3400919\n",
      "  model = cd_fast.enet_coordinate_descent_gram(\n",
      "/Users/silviaresende/opt/anaconda3/lib/python3.9/site-packages/sklearn/linear_model/_coordinate_descent.py:633: ConvergenceWarning: Objective did not converge. You might want to increase the number of iterations. Duality gap: 667101707.2884521, tolerance: 285597876.3400919\n",
      "  model = cd_fast.enet_coordinate_descent_gram(\n",
      "/Users/silviaresende/opt/anaconda3/lib/python3.9/site-packages/sklearn/linear_model/_coordinate_descent.py:633: ConvergenceWarning: Objective did not converge. You might want to increase the number of iterations. Duality gap: 667008274.7331543, tolerance: 285597876.3400919\n",
      "  model = cd_fast.enet_coordinate_descent_gram(\n",
      "/Users/silviaresende/opt/anaconda3/lib/python3.9/site-packages/sklearn/linear_model/_coordinate_descent.py:633: ConvergenceWarning: Objective did not converge. You might want to increase the number of iterations. Duality gap: 666924913.4949951, tolerance: 285597876.3400919\n",
      "  model = cd_fast.enet_coordinate_descent_gram(\n",
      "/Users/silviaresende/opt/anaconda3/lib/python3.9/site-packages/sklearn/linear_model/_coordinate_descent.py:633: ConvergenceWarning: Objective did not converge. You might want to increase the number of iterations. Duality gap: 666851487.84729, tolerance: 285597876.3400919\n",
      "  model = cd_fast.enet_coordinate_descent_gram(\n",
      "/Users/silviaresende/opt/anaconda3/lib/python3.9/site-packages/sklearn/linear_model/_coordinate_descent.py:633: ConvergenceWarning: Objective did not converge. You might want to increase the number of iterations. Duality gap: 666785079.3728027, tolerance: 285597876.3400919\n",
      "  model = cd_fast.enet_coordinate_descent_gram(\n",
      "/Users/silviaresende/opt/anaconda3/lib/python3.9/site-packages/sklearn/linear_model/_coordinate_descent.py:633: ConvergenceWarning: Objective did not converge. You might want to increase the number of iterations. Duality gap: 666726635.5303345, tolerance: 285597876.3400919\n",
      "  model = cd_fast.enet_coordinate_descent_gram(\n",
      "/Users/silviaresende/opt/anaconda3/lib/python3.9/site-packages/sklearn/linear_model/_coordinate_descent.py:633: ConvergenceWarning: Objective did not converge. You might want to increase the number of iterations. Duality gap: 666674503.6015625, tolerance: 285597876.3400919\n",
      "  model = cd_fast.enet_coordinate_descent_gram(\n",
      "/Users/silviaresende/opt/anaconda3/lib/python3.9/site-packages/sklearn/linear_model/_coordinate_descent.py:633: ConvergenceWarning: Objective did not converge. You might want to increase the number of iterations. Duality gap: 666628097.4016113, tolerance: 285597876.3400919\n",
      "  model = cd_fast.enet_coordinate_descent_gram(\n",
      "/Users/silviaresende/opt/anaconda3/lib/python3.9/site-packages/sklearn/linear_model/_coordinate_descent.py:633: ConvergenceWarning: Objective did not converge. You might want to increase the number of iterations. Duality gap: 666586865.4906006, tolerance: 285597876.3400919\n",
      "  model = cd_fast.enet_coordinate_descent_gram(\n",
      "/Users/silviaresende/opt/anaconda3/lib/python3.9/site-packages/sklearn/linear_model/_coordinate_descent.py:633: ConvergenceWarning: Objective did not converge. You might want to increase the number of iterations. Duality gap: 666551036.248352, tolerance: 285597876.3400919\n",
      "  model = cd_fast.enet_coordinate_descent_gram(\n",
      "/Users/silviaresende/opt/anaconda3/lib/python3.9/site-packages/sklearn/linear_model/_coordinate_descent.py:633: ConvergenceWarning: Objective did not converge. You might want to increase the number of iterations. Duality gap: 666517783.9857178, tolerance: 285597876.3400919\n",
      "  model = cd_fast.enet_coordinate_descent_gram(\n",
      "/Users/silviaresende/opt/anaconda3/lib/python3.9/site-packages/sklearn/linear_model/_coordinate_descent.py:633: ConvergenceWarning: Objective did not converge. You might want to increase the number of iterations. Duality gap: 666488318.2677612, tolerance: 285597876.3400919\n",
      "  model = cd_fast.enet_coordinate_descent_gram(\n",
      "/Users/silviaresende/opt/anaconda3/lib/python3.9/site-packages/sklearn/linear_model/_coordinate_descent.py:633: ConvergenceWarning: Objective did not converge. You might want to increase the number of iterations. Duality gap: 666462458.3885498, tolerance: 285597876.3400919\n",
      "  model = cd_fast.enet_coordinate_descent_gram(\n",
      "/Users/silviaresende/opt/anaconda3/lib/python3.9/site-packages/sklearn/linear_model/_coordinate_descent.py:633: ConvergenceWarning: Objective did not converge. You might want to increase the number of iterations. Duality gap: 666439486.091919, tolerance: 285597876.3400919\n",
      "  model = cd_fast.enet_coordinate_descent_gram(\n",
      "/Users/silviaresende/opt/anaconda3/lib/python3.9/site-packages/sklearn/linear_model/_coordinate_descent.py:633: ConvergenceWarning: Objective did not converge. You might want to increase the number of iterations. Duality gap: 666418867.1434326, tolerance: 285597876.3400919\n",
      "  model = cd_fast.enet_coordinate_descent_gram(\n",
      "/Users/silviaresende/opt/anaconda3/lib/python3.9/site-packages/sklearn/linear_model/_coordinate_descent.py:633: ConvergenceWarning: Objective did not converge. You might want to increase the number of iterations. Duality gap: 666399988.1380615, tolerance: 285597876.3400919\n",
      "  model = cd_fast.enet_coordinate_descent_gram(\n",
      "/Users/silviaresende/opt/anaconda3/lib/python3.9/site-packages/sklearn/linear_model/_coordinate_descent.py:633: ConvergenceWarning: Objective did not converge. You might want to increase the number of iterations. Duality gap: 666384242.0384521, tolerance: 285597876.3400919\n",
      "  model = cd_fast.enet_coordinate_descent_gram(\n",
      "/Users/silviaresende/opt/anaconda3/lib/python3.9/site-packages/sklearn/linear_model/_coordinate_descent.py:633: ConvergenceWarning: Objective did not converge. You might want to increase the number of iterations. Duality gap: 666369861.8255005, tolerance: 285597876.3400919\n",
      "  model = cd_fast.enet_coordinate_descent_gram(\n",
      "/Users/silviaresende/opt/anaconda3/lib/python3.9/site-packages/sklearn/linear_model/_coordinate_descent.py:633: ConvergenceWarning: Objective did not converge. You might want to increase the number of iterations. Duality gap: 666360188.6682129, tolerance: 285597876.3400919\n",
      "  model = cd_fast.enet_coordinate_descent_gram(\n",
      "/Users/silviaresende/opt/anaconda3/lib/python3.9/site-packages/sklearn/linear_model/_coordinate_descent.py:633: ConvergenceWarning: Objective did not converge. You might want to increase the number of iterations. Duality gap: 666344905.2192383, tolerance: 285597876.3400919\n",
      "  model = cd_fast.enet_coordinate_descent_gram(\n",
      "/Users/silviaresende/opt/anaconda3/lib/python3.9/site-packages/sklearn/linear_model/_coordinate_descent.py:633: ConvergenceWarning: Objective did not converge. You might want to increase the number of iterations. Duality gap: 666335599.1717529, tolerance: 285597876.3400919\n",
      "  model = cd_fast.enet_coordinate_descent_gram(\n",
      "/Users/silviaresende/opt/anaconda3/lib/python3.9/site-packages/sklearn/linear_model/_coordinate_descent.py:633: ConvergenceWarning: Objective did not converge. You might want to increase the number of iterations. Duality gap: 666326630.230896, tolerance: 285597876.3400919\n",
      "  model = cd_fast.enet_coordinate_descent_gram(\n",
      "/Users/silviaresende/opt/anaconda3/lib/python3.9/site-packages/sklearn/linear_model/_coordinate_descent.py:633: ConvergenceWarning: Objective did not converge. You might want to increase the number of iterations. Duality gap: 666318311.4853516, tolerance: 285597876.3400919\n",
      "  model = cd_fast.enet_coordinate_descent_gram(\n",
      "/Users/silviaresende/opt/anaconda3/lib/python3.9/site-packages/sklearn/linear_model/_coordinate_descent.py:633: ConvergenceWarning: Objective did not converge. You might want to increase the number of iterations. Duality gap: 666309598.5482788, tolerance: 285597876.3400919\n",
      "  model = cd_fast.enet_coordinate_descent_gram(\n",
      "/Users/silviaresende/opt/anaconda3/lib/python3.9/site-packages/sklearn/linear_model/_coordinate_descent.py:633: ConvergenceWarning: Objective did not converge. You might want to increase the number of iterations. Duality gap: 666302726.43396, tolerance: 285597876.3400919\n",
      "  model = cd_fast.enet_coordinate_descent_gram(\n",
      "/Users/silviaresende/opt/anaconda3/lib/python3.9/site-packages/sklearn/linear_model/_coordinate_descent.py:633: ConvergenceWarning: Objective did not converge. You might want to increase the number of iterations. Duality gap: 666299237.4501953, tolerance: 285597876.3400919\n",
      "  model = cd_fast.enet_coordinate_descent_gram(\n",
      "/Users/silviaresende/opt/anaconda3/lib/python3.9/site-packages/sklearn/linear_model/_coordinate_descent.py:633: ConvergenceWarning: Objective did not converge. You might want to increase the number of iterations. Duality gap: 666293562.901123, tolerance: 285597876.3400919\n",
      "  model = cd_fast.enet_coordinate_descent_gram(\n",
      "/Users/silviaresende/opt/anaconda3/lib/python3.9/site-packages/sklearn/linear_model/_coordinate_descent.py:633: ConvergenceWarning: Objective did not converge. You might want to increase the number of iterations. Duality gap: 666289673.2230225, tolerance: 285597876.3400919\n",
      "  model = cd_fast.enet_coordinate_descent_gram(\n",
      "/Users/silviaresende/opt/anaconda3/lib/python3.9/site-packages/sklearn/linear_model/_coordinate_descent.py:633: ConvergenceWarning: Objective did not converge. You might want to increase the number of iterations. Duality gap: 666282593.7099609, tolerance: 285597876.3400919\n",
      "  model = cd_fast.enet_coordinate_descent_gram(\n",
      "/Users/silviaresende/opt/anaconda3/lib/python3.9/site-packages/sklearn/linear_model/_coordinate_descent.py:633: ConvergenceWarning: Objective did not converge. You might want to increase the number of iterations. Duality gap: 666271642.572876, tolerance: 285597876.3400919\n",
      "  model = cd_fast.enet_coordinate_descent_gram(\n",
      "/Users/silviaresende/opt/anaconda3/lib/python3.9/site-packages/sklearn/linear_model/_coordinate_descent.py:633: ConvergenceWarning: Objective did not converge. You might want to increase the number of iterations. Duality gap: 666280691.0466919, tolerance: 285597876.3400919\n",
      "  model = cd_fast.enet_coordinate_descent_gram(\n",
      "/Users/silviaresende/opt/anaconda3/lib/python3.9/site-packages/sklearn/linear_model/_coordinate_descent.py:633: ConvergenceWarning: Objective did not converge. You might want to increase the number of iterations. Duality gap: 666276773.7505493, tolerance: 285597876.3400919\n",
      "  model = cd_fast.enet_coordinate_descent_gram(\n",
      "/Users/silviaresende/opt/anaconda3/lib/python3.9/site-packages/sklearn/linear_model/_coordinate_descent.py:633: ConvergenceWarning: Objective did not converge. You might want to increase the number of iterations. Duality gap: 666276262.1958008, tolerance: 285597876.3400919\n",
      "  model = cd_fast.enet_coordinate_descent_gram(\n",
      "/Users/silviaresende/opt/anaconda3/lib/python3.9/site-packages/sklearn/linear_model/_coordinate_descent.py:633: ConvergenceWarning: Objective did not converge. You might want to increase the number of iterations. Duality gap: 666254855.8838501, tolerance: 285597876.3400919\n",
      "  model = cd_fast.enet_coordinate_descent_gram(\n",
      "/Users/silviaresende/opt/anaconda3/lib/python3.9/site-packages/sklearn/linear_model/_coordinate_descent.py:633: ConvergenceWarning: Objective did not converge. You might want to increase the number of iterations. Duality gap: 666272587.3375244, tolerance: 285597876.3400919\n",
      "  model = cd_fast.enet_coordinate_descent_gram(\n",
      "/Users/silviaresende/opt/anaconda3/lib/python3.9/site-packages/sklearn/linear_model/_coordinate_descent.py:633: ConvergenceWarning: Objective did not converge. You might want to increase the number of iterations. Duality gap: 666266551.2106934, tolerance: 285597876.3400919\n",
      "  model = cd_fast.enet_coordinate_descent_gram(\n",
      "/Users/silviaresende/opt/anaconda3/lib/python3.9/site-packages/sklearn/linear_model/_coordinate_descent.py:633: ConvergenceWarning: Objective did not converge. You might want to increase the number of iterations. Duality gap: 666289118.3905029, tolerance: 285597876.3400919\n",
      "  model = cd_fast.enet_coordinate_descent_gram(\n",
      "/Users/silviaresende/opt/anaconda3/lib/python3.9/site-packages/sklearn/linear_model/_coordinate_descent.py:633: ConvergenceWarning: Objective did not converge. You might want to increase the number of iterations. Duality gap: 666256327.3129883, tolerance: 285597876.3400919\n",
      "  model = cd_fast.enet_coordinate_descent_gram(\n",
      "/Users/silviaresende/opt/anaconda3/lib/python3.9/site-packages/sklearn/linear_model/_coordinate_descent.py:633: ConvergenceWarning: Objective did not converge. You might want to increase the number of iterations. Duality gap: 666255812.494751, tolerance: 285597876.3400919\n",
      "  model = cd_fast.enet_coordinate_descent_gram(\n",
      "/Users/silviaresende/opt/anaconda3/lib/python3.9/site-packages/sklearn/linear_model/_coordinate_descent.py:633: ConvergenceWarning: Objective did not converge. You might want to increase the number of iterations. Duality gap: 666251942.4719849, tolerance: 285597876.3400919\n",
      "  model = cd_fast.enet_coordinate_descent_gram(\n",
      "/Users/silviaresende/opt/anaconda3/lib/python3.9/site-packages/sklearn/linear_model/_coordinate_descent.py:633: ConvergenceWarning: Objective did not converge. You might want to increase the number of iterations. Duality gap: 666260709.7683105, tolerance: 285597876.3400919\n",
      "  model = cd_fast.enet_coordinate_descent_gram(\n",
      "/Users/silviaresende/opt/anaconda3/lib/python3.9/site-packages/sklearn/linear_model/_coordinate_descent.py:633: ConvergenceWarning: Objective did not converge. You might want to increase the number of iterations. Duality gap: 666249021.5776367, tolerance: 285597876.3400919\n",
      "  model = cd_fast.enet_coordinate_descent_gram(\n",
      "/Users/silviaresende/opt/anaconda3/lib/python3.9/site-packages/sklearn/linear_model/_coordinate_descent.py:633: ConvergenceWarning: Objective did not converge. You might want to increase the number of iterations. Duality gap: 666270189.9014893, tolerance: 285597876.3400919\n",
      "  model = cd_fast.enet_coordinate_descent_gram(\n",
      "/Users/silviaresende/opt/anaconda3/lib/python3.9/site-packages/sklearn/linear_model/_coordinate_descent.py:633: ConvergenceWarning: Objective did not converge. You might want to increase the number of iterations. Duality gap: 666259070.3858643, tolerance: 285597876.3400919\n",
      "  model = cd_fast.enet_coordinate_descent_gram(\n",
      "/Users/silviaresende/opt/anaconda3/lib/python3.9/site-packages/sklearn/linear_model/_coordinate_descent.py:633: ConvergenceWarning: Objective did not converge. You might want to increase the number of iterations. Duality gap: 666261048.138916, tolerance: 285597876.3400919\n",
      "  model = cd_fast.enet_coordinate_descent_gram(\n",
      "/Users/silviaresende/opt/anaconda3/lib/python3.9/site-packages/sklearn/linear_model/_coordinate_descent.py:633: ConvergenceWarning: Objective did not converge. You might want to increase the number of iterations. Duality gap: 666326592.0655518, tolerance: 285597876.3400919\n",
      "  model = cd_fast.enet_coordinate_descent_gram(\n",
      "/Users/silviaresende/opt/anaconda3/lib/python3.9/site-packages/sklearn/linear_model/_coordinate_descent.py:633: ConvergenceWarning: Objective did not converge. You might want to increase the number of iterations. Duality gap: 666278311.4404907, tolerance: 285597876.3400919\n",
      "  model = cd_fast.enet_coordinate_descent_gram(\n",
      "/Users/silviaresende/opt/anaconda3/lib/python3.9/site-packages/sklearn/linear_model/_coordinate_descent.py:633: ConvergenceWarning: Objective did not converge. You might want to increase the number of iterations. Duality gap: 666283024.4733887, tolerance: 285597876.3400919\n",
      "  model = cd_fast.enet_coordinate_descent_gram(\n",
      "/Users/silviaresende/opt/anaconda3/lib/python3.9/site-packages/sklearn/linear_model/_coordinate_descent.py:633: ConvergenceWarning: Objective did not converge. You might want to increase the number of iterations. Duality gap: 666271445.9806519, tolerance: 285597876.3400919\n",
      "  model = cd_fast.enet_coordinate_descent_gram(\n",
      "/Users/silviaresende/opt/anaconda3/lib/python3.9/site-packages/sklearn/linear_model/_coordinate_descent.py:633: ConvergenceWarning: Objective did not converge. You might want to increase the number of iterations. Duality gap: 666285365.7285156, tolerance: 285597876.3400919\n",
      "  model = cd_fast.enet_coordinate_descent_gram(\n",
      "/Users/silviaresende/opt/anaconda3/lib/python3.9/site-packages/sklearn/linear_model/_coordinate_descent.py:633: ConvergenceWarning: Objective did not converge. You might want to increase the number of iterations. Duality gap: 666254860.140564, tolerance: 285597876.3400919\n",
      "  model = cd_fast.enet_coordinate_descent_gram(\n",
      "/Users/silviaresende/opt/anaconda3/lib/python3.9/site-packages/sklearn/linear_model/_coordinate_descent.py:633: ConvergenceWarning: Objective did not converge. You might want to increase the number of iterations. Duality gap: 666266958.3031006, tolerance: 285597876.3400919\n",
      "  model = cd_fast.enet_coordinate_descent_gram(\n",
      "/Users/silviaresende/opt/anaconda3/lib/python3.9/site-packages/sklearn/linear_model/_coordinate_descent.py:633: ConvergenceWarning: Objective did not converge. You might want to increase the number of iterations. Duality gap: 666219175.5986328, tolerance: 285597876.3400919\n",
      "  model = cd_fast.enet_coordinate_descent_gram(\n",
      "/Users/silviaresende/opt/anaconda3/lib/python3.9/site-packages/sklearn/linear_model/_coordinate_descent.py:633: ConvergenceWarning: Objective did not converge. You might want to increase the number of iterations. Duality gap: 666212894.6195068, tolerance: 285597876.3400919\n",
      "  model = cd_fast.enet_coordinate_descent_gram(\n",
      "/Users/silviaresende/opt/anaconda3/lib/python3.9/site-packages/sklearn/linear_model/_coordinate_descent.py:633: ConvergenceWarning: Objective did not converge. You might want to increase the number of iterations. Duality gap: 666192628.9898682, tolerance: 285597876.3400919\n",
      "  model = cd_fast.enet_coordinate_descent_gram(\n",
      "/Users/silviaresende/opt/anaconda3/lib/python3.9/site-packages/sklearn/linear_model/_coordinate_descent.py:633: ConvergenceWarning: Objective did not converge. You might want to increase the number of iterations. Duality gap: 666257206.6602783, tolerance: 285597876.3400919\n",
      "  model = cd_fast.enet_coordinate_descent_gram(\n",
      "/Users/silviaresende/opt/anaconda3/lib/python3.9/site-packages/sklearn/linear_model/_coordinate_descent.py:633: ConvergenceWarning: Objective did not converge. You might want to increase the number of iterations. Duality gap: 666251020.4482422, tolerance: 285597876.3400919\n",
      "  model = cd_fast.enet_coordinate_descent_gram(\n",
      "/Users/silviaresende/opt/anaconda3/lib/python3.9/site-packages/sklearn/linear_model/_coordinate_descent.py:633: ConvergenceWarning: Objective did not converge. You might want to increase the number of iterations. Duality gap: 666269638.1732178, tolerance: 285597876.3400919\n",
      "  model = cd_fast.enet_coordinate_descent_gram(\n",
      "/Users/silviaresende/opt/anaconda3/lib/python3.9/site-packages/sklearn/linear_model/_coordinate_descent.py:633: ConvergenceWarning: Objective did not converge. You might want to increase the number of iterations. Duality gap: 666263730.4250488, tolerance: 285597876.3400919\n",
      "  model = cd_fast.enet_coordinate_descent_gram(\n",
      "/Users/silviaresende/opt/anaconda3/lib/python3.9/site-packages/sklearn/linear_model/_coordinate_descent.py:633: ConvergenceWarning: Objective did not converge. You might want to increase the number of iterations. Duality gap: 666575363.5004883, tolerance: 285597876.3400919\n",
      "  model = cd_fast.enet_coordinate_descent_gram(\n",
      "/Users/silviaresende/opt/anaconda3/lib/python3.9/site-packages/sklearn/linear_model/_coordinate_descent.py:647: ConvergenceWarning: Objective did not converge. You might want to increase the number of iterations, check the scale of the features or consider increasing regularisation. Duality gap: 4.659e+08, tolerance: 3.578e+08\n",
      "  model = cd_fast.enet_coordinate_descent(\n"
     ]
    }
   ],
   "source": [
    "# Fitting model using best ridge alpha!\n",
    "lasso_cv.fit(Z_train, y_train);"
   ]
  },
  {
   "cell_type": "code",
   "execution_count": 131,
   "metadata": {},
   "outputs": [
    {
     "data": {
      "text/plain": [
       "1.0"
      ]
     },
     "execution_count": 131,
     "metadata": {},
     "output_type": "execute_result"
    }
   ],
   "source": [
    "# Here is the optimal value of alpha\n",
    "lasso_cv.alpha_"
   ]
  },
  {
   "cell_type": "code",
   "execution_count": 132,
   "metadata": {},
   "outputs": [
    {
     "name": "stdout",
     "output_type": "stream",
     "text": [
      "MAE: 14809.770407899892\n",
      "MSE: 416870055.36558044\n",
      "RMSE: 20417.395900691656\n",
      "R2: 0.85982608010047\n"
     ]
    }
   ],
   "source": [
    "# Metrics\n",
    "lasso_y_preds = lasso_cv.predict(Z_train)\n",
    "lasso_residuals = y_train - lasso_y_preds\n",
    "\n",
    "print(f'MAE: {metrics.mean_absolute_error(y_train, lasso_y_preds)}')\n",
    "print(f'MSE: {metrics.mean_squared_error(y_train, lasso_y_preds)}')\n",
    "print(f'RMSE: {metrics.mean_squared_error(y_train, lasso_y_preds, squared = False)}')\n",
    "print(f'R2: {metrics.r2_score(y_train, lasso_y_preds)}')"
   ]
  },
  {
   "cell_type": "code",
   "execution_count": 133,
   "metadata": {},
   "outputs": [
    {
     "name": "stdout",
     "output_type": "stream",
     "text": [
      "0.85982608010047\n",
      "0.842332579124879\n"
     ]
    }
   ],
   "source": [
    "print(lasso_cv.score(Z_train, y_train))\n",
    "print(lasso_cv.score(Z_val, y_val))"
   ]
  },
  {
   "cell_type": "code",
   "execution_count": 134,
   "metadata": {},
   "outputs": [
    {
     "data": {
      "text/plain": [
       "(58, 58)"
      ]
     },
     "execution_count": 134,
     "metadata": {},
     "output_type": "execute_result"
    }
   ],
   "source": [
    "len(lasso_cv.coef_), len(X_train.columns)"
   ]
  },
  {
   "cell_type": "code",
   "execution_count": 135,
   "metadata": {},
   "outputs": [
    {
     "data": {
      "text/plain": [
       "overall_qual            -20245.829166\n",
       "bldg_age                 -9957.930754\n",
       "bldg_type__TwnhsE        -8859.293366\n",
       "bldg_type__Twnhs         -7674.745307\n",
       "bldg_type__Duplex        -4634.455725\n",
       "bedroom_abvgr            -4382.352758\n",
       "neighborhood__Gilbert    -3032.925027\n",
       "neighborhood__CollgCr    -2920.418137\n",
       "neighborhood__Edwards    -2806.783087\n",
       "neighborhood__NAmes      -2643.160719\n",
       "neighborhood__SawyerW    -2288.246663\n",
       "neighborhood__NWAmes     -2162.786906\n",
       "bldg_type__2fmCon        -2081.199129\n",
       "neighborhood__Mitchel    -1887.769051\n",
       "neighborhood__SWISU      -1821.599349\n",
       "neighborhood__Sawyer     -1543.801815\n",
       "ms_zoning__RM            -1505.524560\n",
       "neighborhood__OldTown    -1480.338591\n",
       "neighborhood__NPkVill    -1012.919709\n",
       "ms_subclass__30           -863.729109\n",
       "neighborhood__Timber      -754.735723\n",
       "neighborhood__IDOTRR      -737.753971\n",
       "ms_zoning__RH             -705.347538\n",
       "ms_subclass__50           -441.144103\n",
       "ms_subclass__190          -176.944467\n",
       "ms_zoning__FV             -132.934102\n",
       "ms_subclass__90            -66.690598\n",
       "ms_subclass__45              9.961951\n",
       "neighborhood__Greens        26.589761\n",
       "ms_subclass__75             51.776631\n",
       "ms_subclass__40             57.144021\n",
       "neighborhood__MeadowV       70.494202\n",
       "neighborhood__Veenker      388.763033\n",
       "neighborhood__StoneBr      560.552488\n",
       "neighborhood__Blueste      610.094674\n",
       "totrms_abvgrd              643.635931\n",
       "ms_zoning__RL              715.050375\n",
       "neighborhood__BrDale       768.257822\n",
       "ms_subclass__80            820.085876\n",
       "ms_subclass__85            893.651154\n",
       "neighborhood__BrkSide     1012.187886\n",
       "neighborhood__ClearCr     1127.453951\n",
       "neighborhood__Somerst     1481.134386\n",
       "garage_area               2303.733762\n",
       "neighborhood__NoRidge     2391.463878\n",
       "ms_subclass__70           2391.796970\n",
       "ms_subclass__180          2458.065627\n",
       "ms_subclass__160          2775.870309\n",
       "garage_cars               3055.812071\n",
       "ms_subclass__60           3341.015285\n",
       "neighborhood__NridgHt     3738.533893\n",
       "ms_subclass__120          4311.783466\n",
       "lot_area                  4821.337615\n",
       "neighborhood__Crawfor     4940.442749\n",
       "total_baths               6753.326027\n",
       "total_bldg_sqft          20465.894650\n",
       "overall_qual             34870.150844\n",
       "dtype: float64"
      ]
     },
     "execution_count": 135,
     "metadata": {},
     "output_type": "execute_result"
    }
   ],
   "source": [
    "df_lasso_coef = pd.Series(lasso_cv.coef_, X_train.columns)\n",
    "df_lasso_coef[df_lasso_coef!=0].sort_values(ascending=True)"
   ]
  },
  {
   "cell_type": "code",
   "execution_count": 136,
   "metadata": {},
   "outputs": [
    {
     "data": {
      "image/png": "[encoded data removed]",
      "text/plain": [
       "<Figure size 432x576 with 1 Axes>"
      ]
     },
     "metadata": {
      "needs_background": "light"
     },
     "output_type": "display_data"
    }
   ],
   "source": [
    "plt.figure(figsize=(6,8))\n",
    "df_lasso_coef[df_lasso_coef!=0].sort_values(ascending=False).head(15).plot.barh()\n",
    "\n",
    "ax = plt.gca()\n",
    "\n",
    "for tick in ax.yaxis.get_major_ticks():\n",
    "    tick.label.set_fontsize(10)\n",
    "\n",
    "# saving image\n",
    "plt.tight_layout()\n",
    "plt.savefig('../images/lassoCoeficients.png');"
   ]
  },
  {
   "cell_type": "markdown",
   "metadata": {},
   "source": [
    "### GridSearch for Lasso\n",
    "___"
   ]
  },
  {
   "cell_type": "code",
   "execution_count": 137,
   "metadata": {},
   "outputs": [],
   "source": [
    "# Create dictionary of hyperparameters.\n",
    "param_ = {'alpha': np.logspace(-5, 0, 100)}"
   ]
  },
  {
   "cell_type": "code",
   "execution_count": 138,
   "metadata": {},
   "outputs": [],
   "source": [
    "#Instantiate our GridSearchCV object.\n",
    "lasso_grid = GridSearchCV(\n",
    "    Lasso(), \n",
    "    param_ ,\n",
    "    cv = 5, \n",
    "    verbose=1)"
   ]
  },
  {
   "cell_type": "code",
   "execution_count": 139,
   "metadata": {},
   "outputs": [
    {
     "name": "stdout",
     "output_type": "stream",
     "text": [
      "Fitting 5 folds for each of 100 candidates, totalling 500 fits\n"
     ]
    },
    {
     "name": "stderr",
     "output_type": "stream",
     "text": [
      "/Users/silviaresende/opt/anaconda3/lib/python3.9/site-packages/sklearn/linear_model/_coordinate_descent.py:647: ConvergenceWarning: Objective did not converge. You might want to increase the number of iterations, check the scale of the features or consider increasing regularisation. Duality gap: 5.136e+10, tolerance: 2.791e+08\n",
      "  model = cd_fast.enet_coordinate_descent(\n",
      "/Users/silviaresende/opt/anaconda3/lib/python3.9/site-packages/sklearn/linear_model/_coordinate_descent.py:647: ConvergenceWarning: Objective did not converge. You might want to increase the number of iterations, check the scale of the features or consider increasing regularisation. Duality gap: 5.255e+10, tolerance: 2.887e+08\n",
      "  model = cd_fast.enet_coordinate_descent(\n",
      "/Users/silviaresende/opt/anaconda3/lib/python3.9/site-packages/sklearn/linear_model/_coordinate_descent.py:647: ConvergenceWarning: Objective did not converge. You might want to increase the number of iterations, check the scale of the features or consider increasing regularisation. Duality gap: 1.898e+11, tolerance: 2.871e+08\n",
      "  model = cd_fast.enet_coordinate_descent(\n",
      "/Users/silviaresende/opt/anaconda3/lib/python3.9/site-packages/sklearn/linear_model/_coordinate_descent.py:647: ConvergenceWarning: Objective did not converge. You might want to increase the number of iterations, check the scale of the features or consider increasing regularisation. Duality gap: 5.439e+10, tolerance: 2.902e+08\n",
      "  model = cd_fast.enet_coordinate_descent(\n",
      "/Users/silviaresende/opt/anaconda3/lib/python3.9/site-packages/sklearn/linear_model/_coordinate_descent.py:647: ConvergenceWarning: Objective did not converge. You might want to increase the number of iterations, check the scale of the features or consider increasing regularisation. Duality gap: 1.954e+11, tolerance: 2.856e+08\n",
      "  model = cd_fast.enet_coordinate_descent(\n",
      "/Users/silviaresende/opt/anaconda3/lib/python3.9/site-packages/sklearn/linear_model/_coordinate_descent.py:647: ConvergenceWarning: Objective did not converge. You might want to increase the number of iterations, check the scale of the features or consider increasing regularisation. Duality gap: 5.172e+10, tolerance: 2.791e+08\n",
      "  model = cd_fast.enet_coordinate_descent(\n",
      "/Users/silviaresende/opt/anaconda3/lib/python3.9/site-packages/sklearn/linear_model/_coordinate_descent.py:647: ConvergenceWarning: Objective did not converge. You might want to increase the number of iterations, check the scale of the features or consider increasing regularisation. Duality gap: 5.273e+10, tolerance: 2.887e+08\n",
      "  model = cd_fast.enet_coordinate_descent(\n",
      "/Users/silviaresende/opt/anaconda3/lib/python3.9/site-packages/sklearn/linear_model/_coordinate_descent.py:647: ConvergenceWarning: Objective did not converge. You might want to increase the number of iterations, check the scale of the features or consider increasing regularisation. Duality gap: 1.898e+11, tolerance: 2.871e+08\n",
      "  model = cd_fast.enet_coordinate_descent(\n",
      "/Users/silviaresende/opt/anaconda3/lib/python3.9/site-packages/sklearn/linear_model/_coordinate_descent.py:647: ConvergenceWarning: Objective did not converge. You might want to increase the number of iterations, check the scale of the features or consider increasing regularisation. Duality gap: 5.471e+10, tolerance: 2.902e+08\n",
      "  model = cd_fast.enet_coordinate_descent(\n",
      "/Users/silviaresende/opt/anaconda3/lib/python3.9/site-packages/sklearn/linear_model/_coordinate_descent.py:647: ConvergenceWarning: Objective did not converge. You might want to increase the number of iterations, check the scale of the features or consider increasing regularisation. Duality gap: 1.953e+11, tolerance: 2.856e+08\n",
      "  model = cd_fast.enet_coordinate_descent(\n",
      "/Users/silviaresende/opt/anaconda3/lib/python3.9/site-packages/sklearn/linear_model/_coordinate_descent.py:647: ConvergenceWarning: Objective did not converge. You might want to increase the number of iterations, check the scale of the features or consider increasing regularisation. Duality gap: 5.205e+10, tolerance: 2.791e+08\n",
      "  model = cd_fast.enet_coordinate_descent(\n",
      "/Users/silviaresende/opt/anaconda3/lib/python3.9/site-packages/sklearn/linear_model/_coordinate_descent.py:647: ConvergenceWarning: Objective did not converge. You might want to increase the number of iterations, check the scale of the features or consider increasing regularisation. Duality gap: 5.289e+10, tolerance: 2.887e+08\n",
      "  model = cd_fast.enet_coordinate_descent(\n",
      "/Users/silviaresende/opt/anaconda3/lib/python3.9/site-packages/sklearn/linear_model/_coordinate_descent.py:647: ConvergenceWarning: Objective did not converge. You might want to increase the number of iterations, check the scale of the features or consider increasing regularisation. Duality gap: 1.897e+11, tolerance: 2.871e+08\n",
      "  model = cd_fast.enet_coordinate_descent(\n",
      "/Users/silviaresende/opt/anaconda3/lib/python3.9/site-packages/sklearn/linear_model/_coordinate_descent.py:647: ConvergenceWarning: Objective did not converge. You might want to increase the number of iterations, check the scale of the features or consider increasing regularisation. Duality gap: 5.498e+10, tolerance: 2.902e+08\n",
      "  model = cd_fast.enet_coordinate_descent(\n",
      "/Users/silviaresende/opt/anaconda3/lib/python3.9/site-packages/sklearn/linear_model/_coordinate_descent.py:647: ConvergenceWarning: Objective did not converge. You might want to increase the number of iterations, check the scale of the features or consider increasing regularisation. Duality gap: 1.952e+11, tolerance: 2.856e+08\n",
      "  model = cd_fast.enet_coordinate_descent(\n",
      "/Users/silviaresende/opt/anaconda3/lib/python3.9/site-packages/sklearn/linear_model/_coordinate_descent.py:647: ConvergenceWarning: Objective did not converge. You might want to increase the number of iterations, check the scale of the features or consider increasing regularisation. Duality gap: 5.234e+10, tolerance: 2.791e+08\n",
      "  model = cd_fast.enet_coordinate_descent(\n",
      "/Users/silviaresende/opt/anaconda3/lib/python3.9/site-packages/sklearn/linear_model/_coordinate_descent.py:647: ConvergenceWarning: Objective did not converge. You might want to increase the number of iterations, check the scale of the features or consider increasing regularisation. Duality gap: 5.303e+10, tolerance: 2.887e+08\n",
      "  model = cd_fast.enet_coordinate_descent(\n",
      "/Users/silviaresende/opt/anaconda3/lib/python3.9/site-packages/sklearn/linear_model/_coordinate_descent.py:647: ConvergenceWarning: Objective did not converge. You might want to increase the number of iterations, check the scale of the features or consider increasing regularisation. Duality gap: 1.897e+11, tolerance: 2.871e+08\n",
      "  model = cd_fast.enet_coordinate_descent(\n",
      "/Users/silviaresende/opt/anaconda3/lib/python3.9/site-packages/sklearn/linear_model/_coordinate_descent.py:647: ConvergenceWarning: Objective did not converge. You might want to increase the number of iterations, check the scale of the features or consider increasing regularisation. Duality gap: 5.523e+10, tolerance: 2.902e+08\n",
      "  model = cd_fast.enet_coordinate_descent(\n",
      "/Users/silviaresende/opt/anaconda3/lib/python3.9/site-packages/sklearn/linear_model/_coordinate_descent.py:647: ConvergenceWarning: Objective did not converge. You might want to increase the number of iterations, check the scale of the features or consider increasing regularisation. Duality gap: 1.951e+11, tolerance: 2.856e+08\n",
      "  model = cd_fast.enet_coordinate_descent(\n",
      "/Users/silviaresende/opt/anaconda3/lib/python3.9/site-packages/sklearn/linear_model/_coordinate_descent.py:647: ConvergenceWarning: Objective did not converge. You might want to increase the number of iterations, check the scale of the features or consider increasing regularisation. Duality gap: 5.260e+10, tolerance: 2.791e+08\n",
      "  model = cd_fast.enet_coordinate_descent(\n",
      "/Users/silviaresende/opt/anaconda3/lib/python3.9/site-packages/sklearn/linear_model/_coordinate_descent.py:647: ConvergenceWarning: Objective did not converge. You might want to increase the number of iterations, check the scale of the features or consider increasing regularisation. Duality gap: 5.316e+10, tolerance: 2.887e+08\n",
      "  model = cd_fast.enet_coordinate_descent(\n",
      "/Users/silviaresende/opt/anaconda3/lib/python3.9/site-packages/sklearn/linear_model/_coordinate_descent.py:647: ConvergenceWarning: Objective did not converge. You might want to increase the number of iterations, check the scale of the features or consider increasing regularisation. Duality gap: 1.896e+11, tolerance: 2.871e+08\n",
      "  model = cd_fast.enet_coordinate_descent(\n",
      "/Users/silviaresende/opt/anaconda3/lib/python3.9/site-packages/sklearn/linear_model/_coordinate_descent.py:647: ConvergenceWarning: Objective did not converge. You might want to increase the number of iterations, check the scale of the features or consider increasing regularisation. Duality gap: 5.545e+10, tolerance: 2.902e+08\n",
      "  model = cd_fast.enet_coordinate_descent(\n",
      "/Users/silviaresende/opt/anaconda3/lib/python3.9/site-packages/sklearn/linear_model/_coordinate_descent.py:647: ConvergenceWarning: Objective did not converge. You might want to increase the number of iterations, check the scale of the features or consider increasing regularisation. Duality gap: 1.950e+11, tolerance: 2.856e+08\n",
      "  model = cd_fast.enet_coordinate_descent(\n",
      "/Users/silviaresende/opt/anaconda3/lib/python3.9/site-packages/sklearn/linear_model/_coordinate_descent.py:647: ConvergenceWarning: Objective did not converge. You might want to increase the number of iterations, check the scale of the features or consider increasing regularisation. Duality gap: 5.282e+10, tolerance: 2.791e+08\n",
      "  model = cd_fast.enet_coordinate_descent(\n",
      "/Users/silviaresende/opt/anaconda3/lib/python3.9/site-packages/sklearn/linear_model/_coordinate_descent.py:647: ConvergenceWarning: Objective did not converge. You might want to increase the number of iterations, check the scale of the features or consider increasing regularisation. Duality gap: 5.327e+10, tolerance: 2.887e+08\n",
      "  model = cd_fast.enet_coordinate_descent(\n",
      "/Users/silviaresende/opt/anaconda3/lib/python3.9/site-packages/sklearn/linear_model/_coordinate_descent.py:647: ConvergenceWarning: Objective did not converge. You might want to increase the number of iterations, check the scale of the features or consider increasing regularisation. Duality gap: 1.895e+11, tolerance: 2.871e+08\n",
      "  model = cd_fast.enet_coordinate_descent(\n",
      "/Users/silviaresende/opt/anaconda3/lib/python3.9/site-packages/sklearn/linear_model/_coordinate_descent.py:647: ConvergenceWarning: Objective did not converge. You might want to increase the number of iterations, check the scale of the features or consider increasing regularisation. Duality gap: 5.565e+10, tolerance: 2.902e+08\n",
      "  model = cd_fast.enet_coordinate_descent(\n",
      "/Users/silviaresende/opt/anaconda3/lib/python3.9/site-packages/sklearn/linear_model/_coordinate_descent.py:647: ConvergenceWarning: Objective did not converge. You might want to increase the number of iterations, check the scale of the features or consider increasing regularisation. Duality gap: 1.949e+11, tolerance: 2.856e+08\n",
      "  model = cd_fast.enet_coordinate_descent(\n",
      "/Users/silviaresende/opt/anaconda3/lib/python3.9/site-packages/sklearn/linear_model/_coordinate_descent.py:647: ConvergenceWarning: Objective did not converge. You might want to increase the number of iterations, check the scale of the features or consider increasing regularisation. Duality gap: 5.303e+10, tolerance: 2.791e+08\n",
      "  model = cd_fast.enet_coordinate_descent(\n",
      "/Users/silviaresende/opt/anaconda3/lib/python3.9/site-packages/sklearn/linear_model/_coordinate_descent.py:647: ConvergenceWarning: Objective did not converge. You might want to increase the number of iterations, check the scale of the features or consider increasing regularisation. Duality gap: 5.337e+10, tolerance: 2.887e+08\n",
      "  model = cd_fast.enet_coordinate_descent(\n",
      "/Users/silviaresende/opt/anaconda3/lib/python3.9/site-packages/sklearn/linear_model/_coordinate_descent.py:647: ConvergenceWarning: Objective did not converge. You might want to increase the number of iterations, check the scale of the features or consider increasing regularisation. Duality gap: 1.894e+11, tolerance: 2.871e+08\n",
      "  model = cd_fast.enet_coordinate_descent(\n",
      "/Users/silviaresende/opt/anaconda3/lib/python3.9/site-packages/sklearn/linear_model/_coordinate_descent.py:647: ConvergenceWarning: Objective did not converge. You might want to increase the number of iterations, check the scale of the features or consider increasing regularisation. Duality gap: 5.582e+10, tolerance: 2.902e+08\n",
      "  model = cd_fast.enet_coordinate_descent(\n",
      "/Users/silviaresende/opt/anaconda3/lib/python3.9/site-packages/sklearn/linear_model/_coordinate_descent.py:647: ConvergenceWarning: Objective did not converge. You might want to increase the number of iterations, check the scale of the features or consider increasing regularisation. Duality gap: 1.947e+11, tolerance: 2.856e+08\n",
      "  model = cd_fast.enet_coordinate_descent(\n",
      "/Users/silviaresende/opt/anaconda3/lib/python3.9/site-packages/sklearn/linear_model/_coordinate_descent.py:647: ConvergenceWarning: Objective did not converge. You might want to increase the number of iterations, check the scale of the features or consider increasing regularisation. Duality gap: 5.321e+10, tolerance: 2.791e+08\n",
      "  model = cd_fast.enet_coordinate_descent(\n",
      "/Users/silviaresende/opt/anaconda3/lib/python3.9/site-packages/sklearn/linear_model/_coordinate_descent.py:647: ConvergenceWarning: Objective did not converge. You might want to increase the number of iterations, check the scale of the features or consider increasing regularisation. Duality gap: 5.346e+10, tolerance: 2.887e+08\n",
      "  model = cd_fast.enet_coordinate_descent(\n",
      "/Users/silviaresende/opt/anaconda3/lib/python3.9/site-packages/sklearn/linear_model/_coordinate_descent.py:647: ConvergenceWarning: Objective did not converge. You might want to increase the number of iterations, check the scale of the features or consider increasing regularisation. Duality gap: 1.893e+11, tolerance: 2.871e+08\n",
      "  model = cd_fast.enet_coordinate_descent(\n",
      "/Users/silviaresende/opt/anaconda3/lib/python3.9/site-packages/sklearn/linear_model/_coordinate_descent.py:647: ConvergenceWarning: Objective did not converge. You might want to increase the number of iterations, check the scale of the features or consider increasing regularisation. Duality gap: 5.597e+10, tolerance: 2.902e+08\n",
      "  model = cd_fast.enet_coordinate_descent(\n",
      "/Users/silviaresende/opt/anaconda3/lib/python3.9/site-packages/sklearn/linear_model/_coordinate_descent.py:647: ConvergenceWarning: Objective did not converge. You might want to increase the number of iterations, check the scale of the features or consider increasing regularisation. Duality gap: 1.945e+11, tolerance: 2.856e+08\n",
      "  model = cd_fast.enet_coordinate_descent(\n",
      "/Users/silviaresende/opt/anaconda3/lib/python3.9/site-packages/sklearn/linear_model/_coordinate_descent.py:647: ConvergenceWarning: Objective did not converge. You might want to increase the number of iterations, check the scale of the features or consider increasing regularisation. Duality gap: 5.337e+10, tolerance: 2.791e+08\n",
      "  model = cd_fast.enet_coordinate_descent(\n",
      "/Users/silviaresende/opt/anaconda3/lib/python3.9/site-packages/sklearn/linear_model/_coordinate_descent.py:647: ConvergenceWarning: Objective did not converge. You might want to increase the number of iterations, check the scale of the features or consider increasing regularisation. Duality gap: 5.353e+10, tolerance: 2.887e+08\n",
      "  model = cd_fast.enet_coordinate_descent(\n",
      "/Users/silviaresende/opt/anaconda3/lib/python3.9/site-packages/sklearn/linear_model/_coordinate_descent.py:647: ConvergenceWarning: Objective did not converge. You might want to increase the number of iterations, check the scale of the features or consider increasing regularisation. Duality gap: 1.892e+11, tolerance: 2.871e+08\n",
      "  model = cd_fast.enet_coordinate_descent(\n",
      "/Users/silviaresende/opt/anaconda3/lib/python3.9/site-packages/sklearn/linear_model/_coordinate_descent.py:647: ConvergenceWarning: Objective did not converge. You might want to increase the number of iterations, check the scale of the features or consider increasing regularisation. Duality gap: 5.611e+10, tolerance: 2.902e+08\n",
      "  model = cd_fast.enet_coordinate_descent(\n",
      "/Users/silviaresende/opt/anaconda3/lib/python3.9/site-packages/sklearn/linear_model/_coordinate_descent.py:647: ConvergenceWarning: Objective did not converge. You might want to increase the number of iterations, check the scale of the features or consider increasing regularisation. Duality gap: 1.943e+11, tolerance: 2.856e+08\n",
      "  model = cd_fast.enet_coordinate_descent(\n",
      "/Users/silviaresende/opt/anaconda3/lib/python3.9/site-packages/sklearn/linear_model/_coordinate_descent.py:647: ConvergenceWarning: Objective did not converge. You might want to increase the number of iterations, check the scale of the features or consider increasing regularisation. Duality gap: 5.351e+10, tolerance: 2.791e+08\n",
      "  model = cd_fast.enet_coordinate_descent(\n",
      "/Users/silviaresende/opt/anaconda3/lib/python3.9/site-packages/sklearn/linear_model/_coordinate_descent.py:647: ConvergenceWarning: Objective did not converge. You might want to increase the number of iterations, check the scale of the features or consider increasing regularisation. Duality gap: 5.360e+10, tolerance: 2.887e+08\n",
      "  model = cd_fast.enet_coordinate_descent(\n",
      "/Users/silviaresende/opt/anaconda3/lib/python3.9/site-packages/sklearn/linear_model/_coordinate_descent.py:647: ConvergenceWarning: Objective did not converge. You might want to increase the number of iterations, check the scale of the features or consider increasing regularisation. Duality gap: 1.891e+11, tolerance: 2.871e+08\n",
      "  model = cd_fast.enet_coordinate_descent(\n",
      "/Users/silviaresende/opt/anaconda3/lib/python3.9/site-packages/sklearn/linear_model/_coordinate_descent.py:647: ConvergenceWarning: Objective did not converge. You might want to increase the number of iterations, check the scale of the features or consider increasing regularisation. Duality gap: 5.623e+10, tolerance: 2.902e+08\n",
      "  model = cd_fast.enet_coordinate_descent(\n",
      "/Users/silviaresende/opt/anaconda3/lib/python3.9/site-packages/sklearn/linear_model/_coordinate_descent.py:647: ConvergenceWarning: Objective did not converge. You might want to increase the number of iterations, check the scale of the features or consider increasing regularisation. Duality gap: 1.941e+11, tolerance: 2.856e+08\n",
      "  model = cd_fast.enet_coordinate_descent(\n",
      "/Users/silviaresende/opt/anaconda3/lib/python3.9/site-packages/sklearn/linear_model/_coordinate_descent.py:647: ConvergenceWarning: Objective did not converge. You might want to increase the number of iterations, check the scale of the features or consider increasing regularisation. Duality gap: 5.363e+10, tolerance: 2.791e+08\n",
      "  model = cd_fast.enet_coordinate_descent(\n",
      "/Users/silviaresende/opt/anaconda3/lib/python3.9/site-packages/sklearn/linear_model/_coordinate_descent.py:647: ConvergenceWarning: Objective did not converge. You might want to increase the number of iterations, check the scale of the features or consider increasing regularisation. Duality gap: 5.367e+10, tolerance: 2.887e+08\n",
      "  model = cd_fast.enet_coordinate_descent(\n",
      "/Users/silviaresende/opt/anaconda3/lib/python3.9/site-packages/sklearn/linear_model/_coordinate_descent.py:647: ConvergenceWarning: Objective did not converge. You might want to increase the number of iterations, check the scale of the features or consider increasing regularisation. Duality gap: 1.890e+11, tolerance: 2.871e+08\n",
      "  model = cd_fast.enet_coordinate_descent(\n",
      "/Users/silviaresende/opt/anaconda3/lib/python3.9/site-packages/sklearn/linear_model/_coordinate_descent.py:647: ConvergenceWarning: Objective did not converge. You might want to increase the number of iterations, check the scale of the features or consider increasing regularisation. Duality gap: 5.634e+10, tolerance: 2.902e+08\n",
      "  model = cd_fast.enet_coordinate_descent(\n",
      "/Users/silviaresende/opt/anaconda3/lib/python3.9/site-packages/sklearn/linear_model/_coordinate_descent.py:647: ConvergenceWarning: Objective did not converge. You might want to increase the number of iterations, check the scale of the features or consider increasing regularisation. Duality gap: 1.939e+11, tolerance: 2.856e+08\n",
      "  model = cd_fast.enet_coordinate_descent(\n",
      "/Users/silviaresende/opt/anaconda3/lib/python3.9/site-packages/sklearn/linear_model/_coordinate_descent.py:647: ConvergenceWarning: Objective did not converge. You might want to increase the number of iterations, check the scale of the features or consider increasing regularisation. Duality gap: 5.375e+10, tolerance: 2.791e+08\n",
      "  model = cd_fast.enet_coordinate_descent(\n",
      "/Users/silviaresende/opt/anaconda3/lib/python3.9/site-packages/sklearn/linear_model/_coordinate_descent.py:647: ConvergenceWarning: Objective did not converge. You might want to increase the number of iterations, check the scale of the features or consider increasing regularisation. Duality gap: 5.372e+10, tolerance: 2.887e+08\n",
      "  model = cd_fast.enet_coordinate_descent(\n",
      "/Users/silviaresende/opt/anaconda3/lib/python3.9/site-packages/sklearn/linear_model/_coordinate_descent.py:647: ConvergenceWarning: Objective did not converge. You might want to increase the number of iterations, check the scale of the features or consider increasing regularisation. Duality gap: 1.888e+11, tolerance: 2.871e+08\n",
      "  model = cd_fast.enet_coordinate_descent(\n",
      "/Users/silviaresende/opt/anaconda3/lib/python3.9/site-packages/sklearn/linear_model/_coordinate_descent.py:647: ConvergenceWarning: Objective did not converge. You might want to increase the number of iterations, check the scale of the features or consider increasing regularisation. Duality gap: 5.644e+10, tolerance: 2.902e+08\n",
      "  model = cd_fast.enet_coordinate_descent(\n",
      "/Users/silviaresende/opt/anaconda3/lib/python3.9/site-packages/sklearn/linear_model/_coordinate_descent.py:647: ConvergenceWarning: Objective did not converge. You might want to increase the number of iterations, check the scale of the features or consider increasing regularisation. Duality gap: 1.936e+11, tolerance: 2.856e+08\n",
      "  model = cd_fast.enet_coordinate_descent(\n",
      "/Users/silviaresende/opt/anaconda3/lib/python3.9/site-packages/sklearn/linear_model/_coordinate_descent.py:647: ConvergenceWarning: Objective did not converge. You might want to increase the number of iterations, check the scale of the features or consider increasing regularisation. Duality gap: 5.385e+10, tolerance: 2.791e+08\n",
      "  model = cd_fast.enet_coordinate_descent(\n",
      "/Users/silviaresende/opt/anaconda3/lib/python3.9/site-packages/sklearn/linear_model/_coordinate_descent.py:647: ConvergenceWarning: Objective did not converge. You might want to increase the number of iterations, check the scale of the features or consider increasing regularisation. Duality gap: 5.377e+10, tolerance: 2.887e+08\n",
      "  model = cd_fast.enet_coordinate_descent(\n",
      "/Users/silviaresende/opt/anaconda3/lib/python3.9/site-packages/sklearn/linear_model/_coordinate_descent.py:647: ConvergenceWarning: Objective did not converge. You might want to increase the number of iterations, check the scale of the features or consider increasing regularisation. Duality gap: 1.887e+11, tolerance: 2.871e+08\n",
      "  model = cd_fast.enet_coordinate_descent(\n",
      "/Users/silviaresende/opt/anaconda3/lib/python3.9/site-packages/sklearn/linear_model/_coordinate_descent.py:647: ConvergenceWarning: Objective did not converge. You might want to increase the number of iterations, check the scale of the features or consider increasing regularisation. Duality gap: 5.652e+10, tolerance: 2.902e+08\n",
      "  model = cd_fast.enet_coordinate_descent(\n",
      "/Users/silviaresende/opt/anaconda3/lib/python3.9/site-packages/sklearn/linear_model/_coordinate_descent.py:647: ConvergenceWarning: Objective did not converge. You might want to increase the number of iterations, check the scale of the features or consider increasing regularisation. Duality gap: 1.933e+11, tolerance: 2.856e+08\n",
      "  model = cd_fast.enet_coordinate_descent(\n",
      "/Users/silviaresende/opt/anaconda3/lib/python3.9/site-packages/sklearn/linear_model/_coordinate_descent.py:647: ConvergenceWarning: Objective did not converge. You might want to increase the number of iterations, check the scale of the features or consider increasing regularisation. Duality gap: 5.394e+10, tolerance: 2.791e+08\n",
      "  model = cd_fast.enet_coordinate_descent(\n",
      "/Users/silviaresende/opt/anaconda3/lib/python3.9/site-packages/sklearn/linear_model/_coordinate_descent.py:647: ConvergenceWarning: Objective did not converge. You might want to increase the number of iterations, check the scale of the features or consider increasing regularisation. Duality gap: 5.381e+10, tolerance: 2.887e+08\n",
      "  model = cd_fast.enet_coordinate_descent(\n",
      "/Users/silviaresende/opt/anaconda3/lib/python3.9/site-packages/sklearn/linear_model/_coordinate_descent.py:647: ConvergenceWarning: Objective did not converge. You might want to increase the number of iterations, check the scale of the features or consider increasing regularisation. Duality gap: 1.885e+11, tolerance: 2.871e+08\n",
      "  model = cd_fast.enet_coordinate_descent(\n",
      "/Users/silviaresende/opt/anaconda3/lib/python3.9/site-packages/sklearn/linear_model/_coordinate_descent.py:647: ConvergenceWarning: Objective did not converge. You might want to increase the number of iterations, check the scale of the features or consider increasing regularisation. Duality gap: 5.660e+10, tolerance: 2.902e+08\n",
      "  model = cd_fast.enet_coordinate_descent(\n",
      "/Users/silviaresende/opt/anaconda3/lib/python3.9/site-packages/sklearn/linear_model/_coordinate_descent.py:647: ConvergenceWarning: Objective did not converge. You might want to increase the number of iterations, check the scale of the features or consider increasing regularisation. Duality gap: 1.930e+11, tolerance: 2.856e+08\n",
      "  model = cd_fast.enet_coordinate_descent(\n",
      "/Users/silviaresende/opt/anaconda3/lib/python3.9/site-packages/sklearn/linear_model/_coordinate_descent.py:647: ConvergenceWarning: Objective did not converge. You might want to increase the number of iterations, check the scale of the features or consider increasing regularisation. Duality gap: 5.401e+10, tolerance: 2.791e+08\n",
      "  model = cd_fast.enet_coordinate_descent(\n",
      "/Users/silviaresende/opt/anaconda3/lib/python3.9/site-packages/sklearn/linear_model/_coordinate_descent.py:647: ConvergenceWarning: Objective did not converge. You might want to increase the number of iterations, check the scale of the features or consider increasing regularisation. Duality gap: 5.385e+10, tolerance: 2.887e+08\n",
      "  model = cd_fast.enet_coordinate_descent(\n",
      "/Users/silviaresende/opt/anaconda3/lib/python3.9/site-packages/sklearn/linear_model/_coordinate_descent.py:647: ConvergenceWarning: Objective did not converge. You might want to increase the number of iterations, check the scale of the features or consider increasing regularisation. Duality gap: 1.883e+11, tolerance: 2.871e+08\n",
      "  model = cd_fast.enet_coordinate_descent(\n",
      "/Users/silviaresende/opt/anaconda3/lib/python3.9/site-packages/sklearn/linear_model/_coordinate_descent.py:647: ConvergenceWarning: Objective did not converge. You might want to increase the number of iterations, check the scale of the features or consider increasing regularisation. Duality gap: 5.667e+10, tolerance: 2.902e+08\n",
      "  model = cd_fast.enet_coordinate_descent(\n",
      "/Users/silviaresende/opt/anaconda3/lib/python3.9/site-packages/sklearn/linear_model/_coordinate_descent.py:647: ConvergenceWarning: Objective did not converge. You might want to increase the number of iterations, check the scale of the features or consider increasing regularisation. Duality gap: 1.926e+11, tolerance: 2.856e+08\n",
      "  model = cd_fast.enet_coordinate_descent(\n",
      "/Users/silviaresende/opt/anaconda3/lib/python3.9/site-packages/sklearn/linear_model/_coordinate_descent.py:647: ConvergenceWarning: Objective did not converge. You might want to increase the number of iterations, check the scale of the features or consider increasing regularisation. Duality gap: 5.408e+10, tolerance: 2.791e+08\n",
      "  model = cd_fast.enet_coordinate_descent(\n",
      "/Users/silviaresende/opt/anaconda3/lib/python3.9/site-packages/sklearn/linear_model/_coordinate_descent.py:647: ConvergenceWarning: Objective did not converge. You might want to increase the number of iterations, check the scale of the features or consider increasing regularisation. Duality gap: 5.389e+10, tolerance: 2.887e+08\n",
      "  model = cd_fast.enet_coordinate_descent(\n",
      "/Users/silviaresende/opt/anaconda3/lib/python3.9/site-packages/sklearn/linear_model/_coordinate_descent.py:647: ConvergenceWarning: Objective did not converge. You might want to increase the number of iterations, check the scale of the features or consider increasing regularisation. Duality gap: 1.880e+11, tolerance: 2.871e+08\n",
      "  model = cd_fast.enet_coordinate_descent(\n",
      "/Users/silviaresende/opt/anaconda3/lib/python3.9/site-packages/sklearn/linear_model/_coordinate_descent.py:647: ConvergenceWarning: Objective did not converge. You might want to increase the number of iterations, check the scale of the features or consider increasing regularisation. Duality gap: 5.673e+10, tolerance: 2.902e+08\n",
      "  model = cd_fast.enet_coordinate_descent(\n",
      "/Users/silviaresende/opt/anaconda3/lib/python3.9/site-packages/sklearn/linear_model/_coordinate_descent.py:647: ConvergenceWarning: Objective did not converge. You might want to increase the number of iterations, check the scale of the features or consider increasing regularisation. Duality gap: 1.922e+11, tolerance: 2.856e+08\n",
      "  model = cd_fast.enet_coordinate_descent(\n",
      "/Users/silviaresende/opt/anaconda3/lib/python3.9/site-packages/sklearn/linear_model/_coordinate_descent.py:647: ConvergenceWarning: Objective did not converge. You might want to increase the number of iterations, check the scale of the features or consider increasing regularisation. Duality gap: 5.415e+10, tolerance: 2.791e+08\n",
      "  model = cd_fast.enet_coordinate_descent(\n",
      "/Users/silviaresende/opt/anaconda3/lib/python3.9/site-packages/sklearn/linear_model/_coordinate_descent.py:647: ConvergenceWarning: Objective did not converge. You might want to increase the number of iterations, check the scale of the features or consider increasing regularisation. Duality gap: 5.392e+10, tolerance: 2.887e+08\n",
      "  model = cd_fast.enet_coordinate_descent(\n",
      "/Users/silviaresende/opt/anaconda3/lib/python3.9/site-packages/sklearn/linear_model/_coordinate_descent.py:647: ConvergenceWarning: Objective did not converge. You might want to increase the number of iterations, check the scale of the features or consider increasing regularisation. Duality gap: 1.878e+11, tolerance: 2.871e+08\n",
      "  model = cd_fast.enet_coordinate_descent(\n",
      "/Users/silviaresende/opt/anaconda3/lib/python3.9/site-packages/sklearn/linear_model/_coordinate_descent.py:647: ConvergenceWarning: Objective did not converge. You might want to increase the number of iterations, check the scale of the features or consider increasing regularisation. Duality gap: 5.678e+10, tolerance: 2.902e+08\n",
      "  model = cd_fast.enet_coordinate_descent(\n",
      "/Users/silviaresende/opt/anaconda3/lib/python3.9/site-packages/sklearn/linear_model/_coordinate_descent.py:647: ConvergenceWarning: Objective did not converge. You might want to increase the number of iterations, check the scale of the features or consider increasing regularisation. Duality gap: 1.917e+11, tolerance: 2.856e+08\n",
      "  model = cd_fast.enet_coordinate_descent(\n",
      "/Users/silviaresende/opt/anaconda3/lib/python3.9/site-packages/sklearn/linear_model/_coordinate_descent.py:647: ConvergenceWarning: Objective did not converge. You might want to increase the number of iterations, check the scale of the features or consider increasing regularisation. Duality gap: 5.420e+10, tolerance: 2.791e+08\n",
      "  model = cd_fast.enet_coordinate_descent(\n",
      "/Users/silviaresende/opt/anaconda3/lib/python3.9/site-packages/sklearn/linear_model/_coordinate_descent.py:647: ConvergenceWarning: Objective did not converge. You might want to increase the number of iterations, check the scale of the features or consider increasing regularisation. Duality gap: 5.394e+10, tolerance: 2.887e+08\n",
      "  model = cd_fast.enet_coordinate_descent(\n",
      "/Users/silviaresende/opt/anaconda3/lib/python3.9/site-packages/sklearn/linear_model/_coordinate_descent.py:647: ConvergenceWarning: Objective did not converge. You might want to increase the number of iterations, check the scale of the features or consider increasing regularisation. Duality gap: 1.875e+11, tolerance: 2.871e+08\n",
      "  model = cd_fast.enet_coordinate_descent(\n",
      "/Users/silviaresende/opt/anaconda3/lib/python3.9/site-packages/sklearn/linear_model/_coordinate_descent.py:647: ConvergenceWarning: Objective did not converge. You might want to increase the number of iterations, check the scale of the features or consider increasing regularisation. Duality gap: 5.683e+10, tolerance: 2.902e+08\n",
      "  model = cd_fast.enet_coordinate_descent(\n",
      "/Users/silviaresende/opt/anaconda3/lib/python3.9/site-packages/sklearn/linear_model/_coordinate_descent.py:647: ConvergenceWarning: Objective did not converge. You might want to increase the number of iterations, check the scale of the features or consider increasing regularisation. Duality gap: 1.912e+11, tolerance: 2.856e+08\n",
      "  model = cd_fast.enet_coordinate_descent(\n",
      "/Users/silviaresende/opt/anaconda3/lib/python3.9/site-packages/sklearn/linear_model/_coordinate_descent.py:647: ConvergenceWarning: Objective did not converge. You might want to increase the number of iterations, check the scale of the features or consider increasing regularisation. Duality gap: 5.425e+10, tolerance: 2.791e+08\n",
      "  model = cd_fast.enet_coordinate_descent(\n",
      "/Users/silviaresende/opt/anaconda3/lib/python3.9/site-packages/sklearn/linear_model/_coordinate_descent.py:647: ConvergenceWarning: Objective did not converge. You might want to increase the number of iterations, check the scale of the features or consider increasing regularisation. Duality gap: 5.397e+10, tolerance: 2.887e+08\n",
      "  model = cd_fast.enet_coordinate_descent(\n",
      "/Users/silviaresende/opt/anaconda3/lib/python3.9/site-packages/sklearn/linear_model/_coordinate_descent.py:647: ConvergenceWarning: Objective did not converge. You might want to increase the number of iterations, check the scale of the features or consider increasing regularisation. Duality gap: 1.871e+11, tolerance: 2.871e+08\n",
      "  model = cd_fast.enet_coordinate_descent(\n",
      "/Users/silviaresende/opt/anaconda3/lib/python3.9/site-packages/sklearn/linear_model/_coordinate_descent.py:647: ConvergenceWarning: Objective did not converge. You might want to increase the number of iterations, check the scale of the features or consider increasing regularisation. Duality gap: 5.687e+10, tolerance: 2.902e+08\n",
      "  model = cd_fast.enet_coordinate_descent(\n",
      "/Users/silviaresende/opt/anaconda3/lib/python3.9/site-packages/sklearn/linear_model/_coordinate_descent.py:647: ConvergenceWarning: Objective did not converge. You might want to increase the number of iterations, check the scale of the features or consider increasing regularisation. Duality gap: 1.906e+11, tolerance: 2.856e+08\n",
      "  model = cd_fast.enet_coordinate_descent(\n",
      "/Users/silviaresende/opt/anaconda3/lib/python3.9/site-packages/sklearn/linear_model/_coordinate_descent.py:647: ConvergenceWarning: Objective did not converge. You might want to increase the number of iterations, check the scale of the features or consider increasing regularisation. Duality gap: 5.430e+10, tolerance: 2.791e+08\n",
      "  model = cd_fast.enet_coordinate_descent(\n",
      "/Users/silviaresende/opt/anaconda3/lib/python3.9/site-packages/sklearn/linear_model/_coordinate_descent.py:647: ConvergenceWarning: Objective did not converge. You might want to increase the number of iterations, check the scale of the features or consider increasing regularisation. Duality gap: 5.399e+10, tolerance: 2.887e+08\n",
      "  model = cd_fast.enet_coordinate_descent(\n",
      "/Users/silviaresende/opt/anaconda3/lib/python3.9/site-packages/sklearn/linear_model/_coordinate_descent.py:647: ConvergenceWarning: Objective did not converge. You might want to increase the number of iterations, check the scale of the features or consider increasing regularisation. Duality gap: 1.868e+11, tolerance: 2.871e+08\n",
      "  model = cd_fast.enet_coordinate_descent(\n",
      "/Users/silviaresende/opt/anaconda3/lib/python3.9/site-packages/sklearn/linear_model/_coordinate_descent.py:647: ConvergenceWarning: Objective did not converge. You might want to increase the number of iterations, check the scale of the features or consider increasing regularisation. Duality gap: 5.691e+10, tolerance: 2.902e+08\n",
      "  model = cd_fast.enet_coordinate_descent(\n",
      "/Users/silviaresende/opt/anaconda3/lib/python3.9/site-packages/sklearn/linear_model/_coordinate_descent.py:647: ConvergenceWarning: Objective did not converge. You might want to increase the number of iterations, check the scale of the features or consider increasing regularisation. Duality gap: 1.899e+11, tolerance: 2.856e+08\n",
      "  model = cd_fast.enet_coordinate_descent(\n",
      "/Users/silviaresende/opt/anaconda3/lib/python3.9/site-packages/sklearn/linear_model/_coordinate_descent.py:647: ConvergenceWarning: Objective did not converge. You might want to increase the number of iterations, check the scale of the features or consider increasing regularisation. Duality gap: 5.434e+10, tolerance: 2.791e+08\n",
      "  model = cd_fast.enet_coordinate_descent(\n",
      "/Users/silviaresende/opt/anaconda3/lib/python3.9/site-packages/sklearn/linear_model/_coordinate_descent.py:647: ConvergenceWarning: Objective did not converge. You might want to increase the number of iterations, check the scale of the features or consider increasing regularisation. Duality gap: 5.401e+10, tolerance: 2.887e+08\n",
      "  model = cd_fast.enet_coordinate_descent(\n",
      "/Users/silviaresende/opt/anaconda3/lib/python3.9/site-packages/sklearn/linear_model/_coordinate_descent.py:647: ConvergenceWarning: Objective did not converge. You might want to increase the number of iterations, check the scale of the features or consider increasing regularisation. Duality gap: 1.863e+11, tolerance: 2.871e+08\n",
      "  model = cd_fast.enet_coordinate_descent(\n",
      "/Users/silviaresende/opt/anaconda3/lib/python3.9/site-packages/sklearn/linear_model/_coordinate_descent.py:647: ConvergenceWarning: Objective did not converge. You might want to increase the number of iterations, check the scale of the features or consider increasing regularisation. Duality gap: 5.694e+10, tolerance: 2.902e+08\n",
      "  model = cd_fast.enet_coordinate_descent(\n",
      "/Users/silviaresende/opt/anaconda3/lib/python3.9/site-packages/sklearn/linear_model/_coordinate_descent.py:647: ConvergenceWarning: Objective did not converge. You might want to increase the number of iterations, check the scale of the features or consider increasing regularisation. Duality gap: 1.892e+11, tolerance: 2.856e+08\n",
      "  model = cd_fast.enet_coordinate_descent(\n",
      "/Users/silviaresende/opt/anaconda3/lib/python3.9/site-packages/sklearn/linear_model/_coordinate_descent.py:647: ConvergenceWarning: Objective did not converge. You might want to increase the number of iterations, check the scale of the features or consider increasing regularisation. Duality gap: 5.437e+10, tolerance: 2.791e+08\n",
      "  model = cd_fast.enet_coordinate_descent(\n",
      "/Users/silviaresende/opt/anaconda3/lib/python3.9/site-packages/sklearn/linear_model/_coordinate_descent.py:647: ConvergenceWarning: Objective did not converge. You might want to increase the number of iterations, check the scale of the features or consider increasing regularisation. Duality gap: 5.403e+10, tolerance: 2.887e+08\n",
      "  model = cd_fast.enet_coordinate_descent(\n",
      "/Users/silviaresende/opt/anaconda3/lib/python3.9/site-packages/sklearn/linear_model/_coordinate_descent.py:647: ConvergenceWarning: Objective did not converge. You might want to increase the number of iterations, check the scale of the features or consider increasing regularisation. Duality gap: 1.859e+11, tolerance: 2.871e+08\n",
      "  model = cd_fast.enet_coordinate_descent(\n",
      "/Users/silviaresende/opt/anaconda3/lib/python3.9/site-packages/sklearn/linear_model/_coordinate_descent.py:647: ConvergenceWarning: Objective did not converge. You might want to increase the number of iterations, check the scale of the features or consider increasing regularisation. Duality gap: 5.697e+10, tolerance: 2.902e+08\n",
      "  model = cd_fast.enet_coordinate_descent(\n",
      "/Users/silviaresende/opt/anaconda3/lib/python3.9/site-packages/sklearn/linear_model/_coordinate_descent.py:647: ConvergenceWarning: Objective did not converge. You might want to increase the number of iterations, check the scale of the features or consider increasing regularisation. Duality gap: 1.883e+11, tolerance: 2.856e+08\n",
      "  model = cd_fast.enet_coordinate_descent(\n",
      "/Users/silviaresende/opt/anaconda3/lib/python3.9/site-packages/sklearn/linear_model/_coordinate_descent.py:647: ConvergenceWarning: Objective did not converge. You might want to increase the number of iterations, check the scale of the features or consider increasing regularisation. Duality gap: 5.440e+10, tolerance: 2.791e+08\n",
      "  model = cd_fast.enet_coordinate_descent(\n",
      "/Users/silviaresende/opt/anaconda3/lib/python3.9/site-packages/sklearn/linear_model/_coordinate_descent.py:647: ConvergenceWarning: Objective did not converge. You might want to increase the number of iterations, check the scale of the features or consider increasing regularisation. Duality gap: 5.404e+10, tolerance: 2.887e+08\n",
      "  model = cd_fast.enet_coordinate_descent(\n",
      "/Users/silviaresende/opt/anaconda3/lib/python3.9/site-packages/sklearn/linear_model/_coordinate_descent.py:647: ConvergenceWarning: Objective did not converge. You might want to increase the number of iterations, check the scale of the features or consider increasing regularisation. Duality gap: 1.853e+11, tolerance: 2.871e+08\n",
      "  model = cd_fast.enet_coordinate_descent(\n",
      "/Users/silviaresende/opt/anaconda3/lib/python3.9/site-packages/sklearn/linear_model/_coordinate_descent.py:647: ConvergenceWarning: Objective did not converge. You might want to increase the number of iterations, check the scale of the features or consider increasing regularisation. Duality gap: 5.700e+10, tolerance: 2.902e+08\n",
      "  model = cd_fast.enet_coordinate_descent(\n",
      "/Users/silviaresende/opt/anaconda3/lib/python3.9/site-packages/sklearn/linear_model/_coordinate_descent.py:647: ConvergenceWarning: Objective did not converge. You might want to increase the number of iterations, check the scale of the features or consider increasing regularisation. Duality gap: 1.874e+11, tolerance: 2.856e+08\n",
      "  model = cd_fast.enet_coordinate_descent(\n",
      "/Users/silviaresende/opt/anaconda3/lib/python3.9/site-packages/sklearn/linear_model/_coordinate_descent.py:647: ConvergenceWarning: Objective did not converge. You might want to increase the number of iterations, check the scale of the features or consider increasing regularisation. Duality gap: 5.443e+10, tolerance: 2.791e+08\n",
      "  model = cd_fast.enet_coordinate_descent(\n",
      "/Users/silviaresende/opt/anaconda3/lib/python3.9/site-packages/sklearn/linear_model/_coordinate_descent.py:647: ConvergenceWarning: Objective did not converge. You might want to increase the number of iterations, check the scale of the features or consider increasing regularisation. Duality gap: 5.406e+10, tolerance: 2.887e+08\n",
      "  model = cd_fast.enet_coordinate_descent(\n",
      "/Users/silviaresende/opt/anaconda3/lib/python3.9/site-packages/sklearn/linear_model/_coordinate_descent.py:647: ConvergenceWarning: Objective did not converge. You might want to increase the number of iterations, check the scale of the features or consider increasing regularisation. Duality gap: 1.848e+11, tolerance: 2.871e+08\n",
      "  model = cd_fast.enet_coordinate_descent(\n",
      "/Users/silviaresende/opt/anaconda3/lib/python3.9/site-packages/sklearn/linear_model/_coordinate_descent.py:647: ConvergenceWarning: Objective did not converge. You might want to increase the number of iterations, check the scale of the features or consider increasing regularisation. Duality gap: 5.702e+10, tolerance: 2.902e+08\n",
      "  model = cd_fast.enet_coordinate_descent(\n",
      "/Users/silviaresende/opt/anaconda3/lib/python3.9/site-packages/sklearn/linear_model/_coordinate_descent.py:647: ConvergenceWarning: Objective did not converge. You might want to increase the number of iterations, check the scale of the features or consider increasing regularisation. Duality gap: 1.864e+11, tolerance: 2.856e+08\n",
      "  model = cd_fast.enet_coordinate_descent(\n",
      "/Users/silviaresende/opt/anaconda3/lib/python3.9/site-packages/sklearn/linear_model/_coordinate_descent.py:647: ConvergenceWarning: Objective did not converge. You might want to increase the number of iterations, check the scale of the features or consider increasing regularisation. Duality gap: 5.445e+10, tolerance: 2.791e+08\n",
      "  model = cd_fast.enet_coordinate_descent(\n",
      "/Users/silviaresende/opt/anaconda3/lib/python3.9/site-packages/sklearn/linear_model/_coordinate_descent.py:647: ConvergenceWarning: Objective did not converge. You might want to increase the number of iterations, check the scale of the features or consider increasing regularisation. Duality gap: 5.407e+10, tolerance: 2.887e+08\n",
      "  model = cd_fast.enet_coordinate_descent(\n",
      "/Users/silviaresende/opt/anaconda3/lib/python3.9/site-packages/sklearn/linear_model/_coordinate_descent.py:647: ConvergenceWarning: Objective did not converge. You might want to increase the number of iterations, check the scale of the features or consider increasing regularisation. Duality gap: 1.841e+11, tolerance: 2.871e+08\n",
      "  model = cd_fast.enet_coordinate_descent(\n",
      "/Users/silviaresende/opt/anaconda3/lib/python3.9/site-packages/sklearn/linear_model/_coordinate_descent.py:647: ConvergenceWarning: Objective did not converge. You might want to increase the number of iterations, check the scale of the features or consider increasing regularisation. Duality gap: 5.704e+10, tolerance: 2.902e+08\n",
      "  model = cd_fast.enet_coordinate_descent(\n",
      "/Users/silviaresende/opt/anaconda3/lib/python3.9/site-packages/sklearn/linear_model/_coordinate_descent.py:647: ConvergenceWarning: Objective did not converge. You might want to increase the number of iterations, check the scale of the features or consider increasing regularisation. Duality gap: 1.852e+11, tolerance: 2.856e+08\n",
      "  model = cd_fast.enet_coordinate_descent(\n",
      "/Users/silviaresende/opt/anaconda3/lib/python3.9/site-packages/sklearn/linear_model/_coordinate_descent.py:647: ConvergenceWarning: Objective did not converge. You might want to increase the number of iterations, check the scale of the features or consider increasing regularisation. Duality gap: 5.447e+10, tolerance: 2.791e+08\n",
      "  model = cd_fast.enet_coordinate_descent(\n",
      "/Users/silviaresende/opt/anaconda3/lib/python3.9/site-packages/sklearn/linear_model/_coordinate_descent.py:647: ConvergenceWarning: Objective did not converge. You might want to increase the number of iterations, check the scale of the features or consider increasing regularisation. Duality gap: 5.408e+10, tolerance: 2.887e+08\n",
      "  model = cd_fast.enet_coordinate_descent(\n",
      "/Users/silviaresende/opt/anaconda3/lib/python3.9/site-packages/sklearn/linear_model/_coordinate_descent.py:647: ConvergenceWarning: Objective did not converge. You might want to increase the number of iterations, check the scale of the features or consider increasing regularisation. Duality gap: 1.834e+11, tolerance: 2.871e+08\n",
      "  model = cd_fast.enet_coordinate_descent(\n",
      "/Users/silviaresende/opt/anaconda3/lib/python3.9/site-packages/sklearn/linear_model/_coordinate_descent.py:647: ConvergenceWarning: Objective did not converge. You might want to increase the number of iterations, check the scale of the features or consider increasing regularisation. Duality gap: 5.706e+10, tolerance: 2.902e+08\n",
      "  model = cd_fast.enet_coordinate_descent(\n",
      "/Users/silviaresende/opt/anaconda3/lib/python3.9/site-packages/sklearn/linear_model/_coordinate_descent.py:647: ConvergenceWarning: Objective did not converge. You might want to increase the number of iterations, check the scale of the features or consider increasing regularisation. Duality gap: 1.840e+11, tolerance: 2.856e+08\n",
      "  model = cd_fast.enet_coordinate_descent(\n",
      "/Users/silviaresende/opt/anaconda3/lib/python3.9/site-packages/sklearn/linear_model/_coordinate_descent.py:647: ConvergenceWarning: Objective did not converge. You might want to increase the number of iterations, check the scale of the features or consider increasing regularisation. Duality gap: 5.449e+10, tolerance: 2.791e+08\n",
      "  model = cd_fast.enet_coordinate_descent(\n",
      "/Users/silviaresende/opt/anaconda3/lib/python3.9/site-packages/sklearn/linear_model/_coordinate_descent.py:647: ConvergenceWarning: Objective did not converge. You might want to increase the number of iterations, check the scale of the features or consider increasing regularisation. Duality gap: 5.409e+10, tolerance: 2.887e+08\n",
      "  model = cd_fast.enet_coordinate_descent(\n",
      "/Users/silviaresende/opt/anaconda3/lib/python3.9/site-packages/sklearn/linear_model/_coordinate_descent.py:647: ConvergenceWarning: Objective did not converge. You might want to increase the number of iterations, check the scale of the features or consider increasing regularisation. Duality gap: 1.826e+11, tolerance: 2.871e+08\n",
      "  model = cd_fast.enet_coordinate_descent(\n",
      "/Users/silviaresende/opt/anaconda3/lib/python3.9/site-packages/sklearn/linear_model/_coordinate_descent.py:647: ConvergenceWarning: Objective did not converge. You might want to increase the number of iterations, check the scale of the features or consider increasing regularisation. Duality gap: 5.708e+10, tolerance: 2.902e+08\n",
      "  model = cd_fast.enet_coordinate_descent(\n",
      "/Users/silviaresende/opt/anaconda3/lib/python3.9/site-packages/sklearn/linear_model/_coordinate_descent.py:647: ConvergenceWarning: Objective did not converge. You might want to increase the number of iterations, check the scale of the features or consider increasing regularisation. Duality gap: 1.826e+11, tolerance: 2.856e+08\n",
      "  model = cd_fast.enet_coordinate_descent(\n",
      "/Users/silviaresende/opt/anaconda3/lib/python3.9/site-packages/sklearn/linear_model/_coordinate_descent.py:647: ConvergenceWarning: Objective did not converge. You might want to increase the number of iterations, check the scale of the features or consider increasing regularisation. Duality gap: 5.451e+10, tolerance: 2.791e+08\n",
      "  model = cd_fast.enet_coordinate_descent(\n",
      "/Users/silviaresende/opt/anaconda3/lib/python3.9/site-packages/sklearn/linear_model/_coordinate_descent.py:647: ConvergenceWarning: Objective did not converge. You might want to increase the number of iterations, check the scale of the features or consider increasing regularisation. Duality gap: 5.410e+10, tolerance: 2.887e+08\n",
      "  model = cd_fast.enet_coordinate_descent(\n",
      "/Users/silviaresende/opt/anaconda3/lib/python3.9/site-packages/sklearn/linear_model/_coordinate_descent.py:647: ConvergenceWarning: Objective did not converge. You might want to increase the number of iterations, check the scale of the features or consider increasing regularisation. Duality gap: 1.817e+11, tolerance: 2.871e+08\n",
      "  model = cd_fast.enet_coordinate_descent(\n",
      "/Users/silviaresende/opt/anaconda3/lib/python3.9/site-packages/sklearn/linear_model/_coordinate_descent.py:647: ConvergenceWarning: Objective did not converge. You might want to increase the number of iterations, check the scale of the features or consider increasing regularisation. Duality gap: 5.709e+10, tolerance: 2.902e+08\n",
      "  model = cd_fast.enet_coordinate_descent(\n",
      "/Users/silviaresende/opt/anaconda3/lib/python3.9/site-packages/sklearn/linear_model/_coordinate_descent.py:647: ConvergenceWarning: Objective did not converge. You might want to increase the number of iterations, check the scale of the features or consider increasing regularisation. Duality gap: 1.810e+11, tolerance: 2.856e+08\n",
      "  model = cd_fast.enet_coordinate_descent(\n",
      "/Users/silviaresende/opt/anaconda3/lib/python3.9/site-packages/sklearn/linear_model/_coordinate_descent.py:647: ConvergenceWarning: Objective did not converge. You might want to increase the number of iterations, check the scale of the features or consider increasing regularisation. Duality gap: 5.453e+10, tolerance: 2.791e+08\n",
      "  model = cd_fast.enet_coordinate_descent(\n",
      "/Users/silviaresende/opt/anaconda3/lib/python3.9/site-packages/sklearn/linear_model/_coordinate_descent.py:647: ConvergenceWarning: Objective did not converge. You might want to increase the number of iterations, check the scale of the features or consider increasing regularisation. Duality gap: 5.410e+10, tolerance: 2.887e+08\n",
      "  model = cd_fast.enet_coordinate_descent(\n",
      "/Users/silviaresende/opt/anaconda3/lib/python3.9/site-packages/sklearn/linear_model/_coordinate_descent.py:647: ConvergenceWarning: Objective did not converge. You might want to increase the number of iterations, check the scale of the features or consider increasing regularisation. Duality gap: 1.806e+11, tolerance: 2.871e+08\n",
      "  model = cd_fast.enet_coordinate_descent(\n",
      "/Users/silviaresende/opt/anaconda3/lib/python3.9/site-packages/sklearn/linear_model/_coordinate_descent.py:647: ConvergenceWarning: Objective did not converge. You might want to increase the number of iterations, check the scale of the features or consider increasing regularisation. Duality gap: 5.711e+10, tolerance: 2.902e+08\n",
      "  model = cd_fast.enet_coordinate_descent(\n",
      "/Users/silviaresende/opt/anaconda3/lib/python3.9/site-packages/sklearn/linear_model/_coordinate_descent.py:647: ConvergenceWarning: Objective did not converge. You might want to increase the number of iterations, check the scale of the features or consider increasing regularisation. Duality gap: 1.793e+11, tolerance: 2.856e+08\n",
      "  model = cd_fast.enet_coordinate_descent(\n",
      "/Users/silviaresende/opt/anaconda3/lib/python3.9/site-packages/sklearn/linear_model/_coordinate_descent.py:647: ConvergenceWarning: Objective did not converge. You might want to increase the number of iterations, check the scale of the features or consider increasing regularisation. Duality gap: 5.454e+10, tolerance: 2.791e+08\n",
      "  model = cd_fast.enet_coordinate_descent(\n",
      "/Users/silviaresende/opt/anaconda3/lib/python3.9/site-packages/sklearn/linear_model/_coordinate_descent.py:647: ConvergenceWarning: Objective did not converge. You might want to increase the number of iterations, check the scale of the features or consider increasing regularisation. Duality gap: 5.411e+10, tolerance: 2.887e+08\n",
      "  model = cd_fast.enet_coordinate_descent(\n",
      "/Users/silviaresende/opt/anaconda3/lib/python3.9/site-packages/sklearn/linear_model/_coordinate_descent.py:647: ConvergenceWarning: Objective did not converge. You might want to increase the number of iterations, check the scale of the features or consider increasing regularisation. Duality gap: 1.795e+11, tolerance: 2.871e+08\n",
      "  model = cd_fast.enet_coordinate_descent(\n",
      "/Users/silviaresende/opt/anaconda3/lib/python3.9/site-packages/sklearn/linear_model/_coordinate_descent.py:647: ConvergenceWarning: Objective did not converge. You might want to increase the number of iterations, check the scale of the features or consider increasing regularisation. Duality gap: 5.712e+10, tolerance: 2.902e+08\n",
      "  model = cd_fast.enet_coordinate_descent(\n",
      "/Users/silviaresende/opt/anaconda3/lib/python3.9/site-packages/sklearn/linear_model/_coordinate_descent.py:647: ConvergenceWarning: Objective did not converge. You might want to increase the number of iterations, check the scale of the features or consider increasing regularisation. Duality gap: 1.773e+11, tolerance: 2.856e+08\n",
      "  model = cd_fast.enet_coordinate_descent(\n",
      "/Users/silviaresende/opt/anaconda3/lib/python3.9/site-packages/sklearn/linear_model/_coordinate_descent.py:647: ConvergenceWarning: Objective did not converge. You might want to increase the number of iterations, check the scale of the features or consider increasing regularisation. Duality gap: 5.455e+10, tolerance: 2.791e+08\n",
      "  model = cd_fast.enet_coordinate_descent(\n",
      "/Users/silviaresende/opt/anaconda3/lib/python3.9/site-packages/sklearn/linear_model/_coordinate_descent.py:647: ConvergenceWarning: Objective did not converge. You might want to increase the number of iterations, check the scale of the features or consider increasing regularisation. Duality gap: 5.412e+10, tolerance: 2.887e+08\n",
      "  model = cd_fast.enet_coordinate_descent(\n",
      "/Users/silviaresende/opt/anaconda3/lib/python3.9/site-packages/sklearn/linear_model/_coordinate_descent.py:647: ConvergenceWarning: Objective did not converge. You might want to increase the number of iterations, check the scale of the features or consider increasing regularisation. Duality gap: 1.783e+11, tolerance: 2.871e+08\n",
      "  model = cd_fast.enet_coordinate_descent(\n",
      "/Users/silviaresende/opt/anaconda3/lib/python3.9/site-packages/sklearn/linear_model/_coordinate_descent.py:647: ConvergenceWarning: Objective did not converge. You might want to increase the number of iterations, check the scale of the features or consider increasing regularisation. Duality gap: 5.713e+10, tolerance: 2.902e+08\n",
      "  model = cd_fast.enet_coordinate_descent(\n",
      "/Users/silviaresende/opt/anaconda3/lib/python3.9/site-packages/sklearn/linear_model/_coordinate_descent.py:647: ConvergenceWarning: Objective did not converge. You might want to increase the number of iterations, check the scale of the features or consider increasing regularisation. Duality gap: 1.752e+11, tolerance: 2.856e+08\n",
      "  model = cd_fast.enet_coordinate_descent(\n",
      "/Users/silviaresende/opt/anaconda3/lib/python3.9/site-packages/sklearn/linear_model/_coordinate_descent.py:647: ConvergenceWarning: Objective did not converge. You might want to increase the number of iterations, check the scale of the features or consider increasing regularisation. Duality gap: 5.456e+10, tolerance: 2.791e+08\n",
      "  model = cd_fast.enet_coordinate_descent(\n",
      "/Users/silviaresende/opt/anaconda3/lib/python3.9/site-packages/sklearn/linear_model/_coordinate_descent.py:647: ConvergenceWarning: Objective did not converge. You might want to increase the number of iterations, check the scale of the features or consider increasing regularisation. Duality gap: 5.412e+10, tolerance: 2.887e+08\n",
      "  model = cd_fast.enet_coordinate_descent(\n",
      "/Users/silviaresende/opt/anaconda3/lib/python3.9/site-packages/sklearn/linear_model/_coordinate_descent.py:647: ConvergenceWarning: Objective did not converge. You might want to increase the number of iterations, check the scale of the features or consider increasing regularisation. Duality gap: 1.769e+11, tolerance: 2.871e+08\n",
      "  model = cd_fast.enet_coordinate_descent(\n",
      "/Users/silviaresende/opt/anaconda3/lib/python3.9/site-packages/sklearn/linear_model/_coordinate_descent.py:647: ConvergenceWarning: Objective did not converge. You might want to increase the number of iterations, check the scale of the features or consider increasing regularisation. Duality gap: 5.714e+10, tolerance: 2.902e+08\n",
      "  model = cd_fast.enet_coordinate_descent(\n",
      "/Users/silviaresende/opt/anaconda3/lib/python3.9/site-packages/sklearn/linear_model/_coordinate_descent.py:647: ConvergenceWarning: Objective did not converge. You might want to increase the number of iterations, check the scale of the features or consider increasing regularisation. Duality gap: 1.729e+11, tolerance: 2.856e+08\n",
      "  model = cd_fast.enet_coordinate_descent(\n",
      "/Users/silviaresende/opt/anaconda3/lib/python3.9/site-packages/sklearn/linear_model/_coordinate_descent.py:647: ConvergenceWarning: Objective did not converge. You might want to increase the number of iterations, check the scale of the features or consider increasing regularisation. Duality gap: 5.457e+10, tolerance: 2.791e+08\n",
      "  model = cd_fast.enet_coordinate_descent(\n",
      "/Users/silviaresende/opt/anaconda3/lib/python3.9/site-packages/sklearn/linear_model/_coordinate_descent.py:647: ConvergenceWarning: Objective did not converge. You might want to increase the number of iterations, check the scale of the features or consider increasing regularisation. Duality gap: 5.413e+10, tolerance: 2.887e+08\n",
      "  model = cd_fast.enet_coordinate_descent(\n",
      "/Users/silviaresende/opt/anaconda3/lib/python3.9/site-packages/sklearn/linear_model/_coordinate_descent.py:647: ConvergenceWarning: Objective did not converge. You might want to increase the number of iterations, check the scale of the features or consider increasing regularisation. Duality gap: 1.753e+11, tolerance: 2.871e+08\n",
      "  model = cd_fast.enet_coordinate_descent(\n",
      "/Users/silviaresende/opt/anaconda3/lib/python3.9/site-packages/sklearn/linear_model/_coordinate_descent.py:647: ConvergenceWarning: Objective did not converge. You might want to increase the number of iterations, check the scale of the features or consider increasing regularisation. Duality gap: 5.715e+10, tolerance: 2.902e+08\n",
      "  model = cd_fast.enet_coordinate_descent(\n",
      "/Users/silviaresende/opt/anaconda3/lib/python3.9/site-packages/sklearn/linear_model/_coordinate_descent.py:647: ConvergenceWarning: Objective did not converge. You might want to increase the number of iterations, check the scale of the features or consider increasing regularisation. Duality gap: 1.703e+11, tolerance: 2.856e+08\n",
      "  model = cd_fast.enet_coordinate_descent(\n",
      "/Users/silviaresende/opt/anaconda3/lib/python3.9/site-packages/sklearn/linear_model/_coordinate_descent.py:647: ConvergenceWarning: Objective did not converge. You might want to increase the number of iterations, check the scale of the features or consider increasing regularisation. Duality gap: 5.458e+10, tolerance: 2.791e+08\n",
      "  model = cd_fast.enet_coordinate_descent(\n",
      "/Users/silviaresende/opt/anaconda3/lib/python3.9/site-packages/sklearn/linear_model/_coordinate_descent.py:647: ConvergenceWarning: Objective did not converge. You might want to increase the number of iterations, check the scale of the features or consider increasing regularisation. Duality gap: 5.413e+10, tolerance: 2.887e+08\n",
      "  model = cd_fast.enet_coordinate_descent(\n",
      "/Users/silviaresende/opt/anaconda3/lib/python3.9/site-packages/sklearn/linear_model/_coordinate_descent.py:647: ConvergenceWarning: Objective did not converge. You might want to increase the number of iterations, check the scale of the features or consider increasing regularisation. Duality gap: 1.736e+11, tolerance: 2.871e+08\n",
      "  model = cd_fast.enet_coordinate_descent(\n",
      "/Users/silviaresende/opt/anaconda3/lib/python3.9/site-packages/sklearn/linear_model/_coordinate_descent.py:647: ConvergenceWarning: Objective did not converge. You might want to increase the number of iterations, check the scale of the features or consider increasing regularisation. Duality gap: 5.715e+10, tolerance: 2.902e+08\n",
      "  model = cd_fast.enet_coordinate_descent(\n",
      "/Users/silviaresende/opt/anaconda3/lib/python3.9/site-packages/sklearn/linear_model/_coordinate_descent.py:647: ConvergenceWarning: Objective did not converge. You might want to increase the number of iterations, check the scale of the features or consider increasing regularisation. Duality gap: 1.675e+11, tolerance: 2.856e+08\n",
      "  model = cd_fast.enet_coordinate_descent(\n",
      "/Users/silviaresende/opt/anaconda3/lib/python3.9/site-packages/sklearn/linear_model/_coordinate_descent.py:647: ConvergenceWarning: Objective did not converge. You might want to increase the number of iterations, check the scale of the features or consider increasing regularisation. Duality gap: 5.459e+10, tolerance: 2.791e+08\n",
      "  model = cd_fast.enet_coordinate_descent(\n",
      "/Users/silviaresende/opt/anaconda3/lib/python3.9/site-packages/sklearn/linear_model/_coordinate_descent.py:647: ConvergenceWarning: Objective did not converge. You might want to increase the number of iterations, check the scale of the features or consider increasing regularisation. Duality gap: 5.414e+10, tolerance: 2.887e+08\n",
      "  model = cd_fast.enet_coordinate_descent(\n",
      "/Users/silviaresende/opt/anaconda3/lib/python3.9/site-packages/sklearn/linear_model/_coordinate_descent.py:647: ConvergenceWarning: Objective did not converge. You might want to increase the number of iterations, check the scale of the features or consider increasing regularisation. Duality gap: 1.718e+11, tolerance: 2.871e+08\n",
      "  model = cd_fast.enet_coordinate_descent(\n",
      "/Users/silviaresende/opt/anaconda3/lib/python3.9/site-packages/sklearn/linear_model/_coordinate_descent.py:647: ConvergenceWarning: Objective did not converge. You might want to increase the number of iterations, check the scale of the features or consider increasing regularisation. Duality gap: 5.716e+10, tolerance: 2.902e+08\n",
      "  model = cd_fast.enet_coordinate_descent(\n",
      "/Users/silviaresende/opt/anaconda3/lib/python3.9/site-packages/sklearn/linear_model/_coordinate_descent.py:647: ConvergenceWarning: Objective did not converge. You might want to increase the number of iterations, check the scale of the features or consider increasing regularisation. Duality gap: 1.645e+11, tolerance: 2.856e+08\n",
      "  model = cd_fast.enet_coordinate_descent(\n",
      "/Users/silviaresende/opt/anaconda3/lib/python3.9/site-packages/sklearn/linear_model/_coordinate_descent.py:647: ConvergenceWarning: Objective did not converge. You might want to increase the number of iterations, check the scale of the features or consider increasing regularisation. Duality gap: 5.460e+10, tolerance: 2.791e+08\n",
      "  model = cd_fast.enet_coordinate_descent(\n",
      "/Users/silviaresende/opt/anaconda3/lib/python3.9/site-packages/sklearn/linear_model/_coordinate_descent.py:647: ConvergenceWarning: Objective did not converge. You might want to increase the number of iterations, check the scale of the features or consider increasing regularisation. Duality gap: 5.414e+10, tolerance: 2.887e+08\n",
      "  model = cd_fast.enet_coordinate_descent(\n",
      "/Users/silviaresende/opt/anaconda3/lib/python3.9/site-packages/sklearn/linear_model/_coordinate_descent.py:647: ConvergenceWarning: Objective did not converge. You might want to increase the number of iterations, check the scale of the features or consider increasing regularisation. Duality gap: 1.697e+11, tolerance: 2.871e+08\n",
      "  model = cd_fast.enet_coordinate_descent(\n",
      "/Users/silviaresende/opt/anaconda3/lib/python3.9/site-packages/sklearn/linear_model/_coordinate_descent.py:647: ConvergenceWarning: Objective did not converge. You might want to increase the number of iterations, check the scale of the features or consider increasing regularisation. Duality gap: 5.717e+10, tolerance: 2.902e+08\n",
      "  model = cd_fast.enet_coordinate_descent(\n",
      "/Users/silviaresende/opt/anaconda3/lib/python3.9/site-packages/sklearn/linear_model/_coordinate_descent.py:647: ConvergenceWarning: Objective did not converge. You might want to increase the number of iterations, check the scale of the features or consider increasing regularisation. Duality gap: 1.612e+11, tolerance: 2.856e+08\n",
      "  model = cd_fast.enet_coordinate_descent(\n",
      "/Users/silviaresende/opt/anaconda3/lib/python3.9/site-packages/sklearn/linear_model/_coordinate_descent.py:647: ConvergenceWarning: Objective did not converge. You might want to increase the number of iterations, check the scale of the features or consider increasing regularisation. Duality gap: 5.460e+10, tolerance: 2.791e+08\n",
      "  model = cd_fast.enet_coordinate_descent(\n",
      "/Users/silviaresende/opt/anaconda3/lib/python3.9/site-packages/sklearn/linear_model/_coordinate_descent.py:647: ConvergenceWarning: Objective did not converge. You might want to increase the number of iterations, check the scale of the features or consider increasing regularisation. Duality gap: 5.414e+10, tolerance: 2.887e+08\n",
      "  model = cd_fast.enet_coordinate_descent(\n",
      "/Users/silviaresende/opt/anaconda3/lib/python3.9/site-packages/sklearn/linear_model/_coordinate_descent.py:647: ConvergenceWarning: Objective did not converge. You might want to increase the number of iterations, check the scale of the features or consider increasing regularisation. Duality gap: 1.674e+11, tolerance: 2.871e+08\n",
      "  model = cd_fast.enet_coordinate_descent(\n",
      "/Users/silviaresende/opt/anaconda3/lib/python3.9/site-packages/sklearn/linear_model/_coordinate_descent.py:647: ConvergenceWarning: Objective did not converge. You might want to increase the number of iterations, check the scale of the features or consider increasing regularisation. Duality gap: 5.717e+10, tolerance: 2.902e+08\n",
      "  model = cd_fast.enet_coordinate_descent(\n",
      "/Users/silviaresende/opt/anaconda3/lib/python3.9/site-packages/sklearn/linear_model/_coordinate_descent.py:647: ConvergenceWarning: Objective did not converge. You might want to increase the number of iterations, check the scale of the features or consider increasing regularisation. Duality gap: 1.575e+11, tolerance: 2.856e+08\n",
      "  model = cd_fast.enet_coordinate_descent(\n",
      "/Users/silviaresende/opt/anaconda3/lib/python3.9/site-packages/sklearn/linear_model/_coordinate_descent.py:647: ConvergenceWarning: Objective did not converge. You might want to increase the number of iterations, check the scale of the features or consider increasing regularisation. Duality gap: 5.461e+10, tolerance: 2.791e+08\n",
      "  model = cd_fast.enet_coordinate_descent(\n",
      "/Users/silviaresende/opt/anaconda3/lib/python3.9/site-packages/sklearn/linear_model/_coordinate_descent.py:647: ConvergenceWarning: Objective did not converge. You might want to increase the number of iterations, check the scale of the features or consider increasing regularisation. Duality gap: 5.414e+10, tolerance: 2.887e+08\n",
      "  model = cd_fast.enet_coordinate_descent(\n",
      "/Users/silviaresende/opt/anaconda3/lib/python3.9/site-packages/sklearn/linear_model/_coordinate_descent.py:647: ConvergenceWarning: Objective did not converge. You might want to increase the number of iterations, check the scale of the features or consider increasing regularisation. Duality gap: 1.649e+11, tolerance: 2.871e+08\n",
      "  model = cd_fast.enet_coordinate_descent(\n",
      "/Users/silviaresende/opt/anaconda3/lib/python3.9/site-packages/sklearn/linear_model/_coordinate_descent.py:647: ConvergenceWarning: Objective did not converge. You might want to increase the number of iterations, check the scale of the features or consider increasing regularisation. Duality gap: 5.718e+10, tolerance: 2.902e+08\n",
      "  model = cd_fast.enet_coordinate_descent(\n",
      "/Users/silviaresende/opt/anaconda3/lib/python3.9/site-packages/sklearn/linear_model/_coordinate_descent.py:647: ConvergenceWarning: Objective did not converge. You might want to increase the number of iterations, check the scale of the features or consider increasing regularisation. Duality gap: 1.536e+11, tolerance: 2.856e+08\n",
      "  model = cd_fast.enet_coordinate_descent(\n",
      "/Users/silviaresende/opt/anaconda3/lib/python3.9/site-packages/sklearn/linear_model/_coordinate_descent.py:647: ConvergenceWarning: Objective did not converge. You might want to increase the number of iterations, check the scale of the features or consider increasing regularisation. Duality gap: 5.461e+10, tolerance: 2.791e+08\n",
      "  model = cd_fast.enet_coordinate_descent(\n",
      "/Users/silviaresende/opt/anaconda3/lib/python3.9/site-packages/sklearn/linear_model/_coordinate_descent.py:647: ConvergenceWarning: Objective did not converge. You might want to increase the number of iterations, check the scale of the features or consider increasing regularisation. Duality gap: 5.415e+10, tolerance: 2.887e+08\n",
      "  model = cd_fast.enet_coordinate_descent(\n",
      "/Users/silviaresende/opt/anaconda3/lib/python3.9/site-packages/sklearn/linear_model/_coordinate_descent.py:647: ConvergenceWarning: Objective did not converge. You might want to increase the number of iterations, check the scale of the features or consider increasing regularisation. Duality gap: 1.621e+11, tolerance: 2.871e+08\n",
      "  model = cd_fast.enet_coordinate_descent(\n",
      "/Users/silviaresende/opt/anaconda3/lib/python3.9/site-packages/sklearn/linear_model/_coordinate_descent.py:647: ConvergenceWarning: Objective did not converge. You might want to increase the number of iterations, check the scale of the features or consider increasing regularisation. Duality gap: 5.718e+10, tolerance: 2.902e+08\n",
      "  model = cd_fast.enet_coordinate_descent(\n",
      "/Users/silviaresende/opt/anaconda3/lib/python3.9/site-packages/sklearn/linear_model/_coordinate_descent.py:647: ConvergenceWarning: Objective did not converge. You might want to increase the number of iterations, check the scale of the features or consider increasing regularisation. Duality gap: 1.494e+11, tolerance: 2.856e+08\n",
      "  model = cd_fast.enet_coordinate_descent(\n",
      "/Users/silviaresende/opt/anaconda3/lib/python3.9/site-packages/sklearn/linear_model/_coordinate_descent.py:647: ConvergenceWarning: Objective did not converge. You might want to increase the number of iterations, check the scale of the features or consider increasing regularisation. Duality gap: 5.462e+10, tolerance: 2.791e+08\n",
      "  model = cd_fast.enet_coordinate_descent(\n",
      "/Users/silviaresende/opt/anaconda3/lib/python3.9/site-packages/sklearn/linear_model/_coordinate_descent.py:647: ConvergenceWarning: Objective did not converge. You might want to increase the number of iterations, check the scale of the features or consider increasing regularisation. Duality gap: 5.415e+10, tolerance: 2.887e+08\n",
      "  model = cd_fast.enet_coordinate_descent(\n",
      "/Users/silviaresende/opt/anaconda3/lib/python3.9/site-packages/sklearn/linear_model/_coordinate_descent.py:647: ConvergenceWarning: Objective did not converge. You might want to increase the number of iterations, check the scale of the features or consider increasing regularisation. Duality gap: 1.591e+11, tolerance: 2.871e+08\n",
      "  model = cd_fast.enet_coordinate_descent(\n",
      "/Users/silviaresende/opt/anaconda3/lib/python3.9/site-packages/sklearn/linear_model/_coordinate_descent.py:647: ConvergenceWarning: Objective did not converge. You might want to increase the number of iterations, check the scale of the features or consider increasing regularisation. Duality gap: 5.718e+10, tolerance: 2.902e+08\n",
      "  model = cd_fast.enet_coordinate_descent(\n",
      "/Users/silviaresende/opt/anaconda3/lib/python3.9/site-packages/sklearn/linear_model/_coordinate_descent.py:647: ConvergenceWarning: Objective did not converge. You might want to increase the number of iterations, check the scale of the features or consider increasing regularisation. Duality gap: 1.449e+11, tolerance: 2.856e+08\n",
      "  model = cd_fast.enet_coordinate_descent(\n",
      "/Users/silviaresende/opt/anaconda3/lib/python3.9/site-packages/sklearn/linear_model/_coordinate_descent.py:647: ConvergenceWarning: Objective did not converge. You might want to increase the number of iterations, check the scale of the features or consider increasing regularisation. Duality gap: 5.462e+10, tolerance: 2.791e+08\n",
      "  model = cd_fast.enet_coordinate_descent(\n",
      "/Users/silviaresende/opt/anaconda3/lib/python3.9/site-packages/sklearn/linear_model/_coordinate_descent.py:647: ConvergenceWarning: Objective did not converge. You might want to increase the number of iterations, check the scale of the features or consider increasing regularisation. Duality gap: 5.415e+10, tolerance: 2.887e+08\n",
      "  model = cd_fast.enet_coordinate_descent(\n",
      "/Users/silviaresende/opt/anaconda3/lib/python3.9/site-packages/sklearn/linear_model/_coordinate_descent.py:647: ConvergenceWarning: Objective did not converge. You might want to increase the number of iterations, check the scale of the features or consider increasing regularisation. Duality gap: 1.559e+11, tolerance: 2.871e+08\n",
      "  model = cd_fast.enet_coordinate_descent(\n",
      "/Users/silviaresende/opt/anaconda3/lib/python3.9/site-packages/sklearn/linear_model/_coordinate_descent.py:647: ConvergenceWarning: Objective did not converge. You might want to increase the number of iterations, check the scale of the features or consider increasing regularisation. Duality gap: 5.719e+10, tolerance: 2.902e+08\n",
      "  model = cd_fast.enet_coordinate_descent(\n",
      "/Users/silviaresende/opt/anaconda3/lib/python3.9/site-packages/sklearn/linear_model/_coordinate_descent.py:647: ConvergenceWarning: Objective did not converge. You might want to increase the number of iterations, check the scale of the features or consider increasing regularisation. Duality gap: 1.401e+11, tolerance: 2.856e+08\n",
      "  model = cd_fast.enet_coordinate_descent(\n",
      "/Users/silviaresende/opt/anaconda3/lib/python3.9/site-packages/sklearn/linear_model/_coordinate_descent.py:647: ConvergenceWarning: Objective did not converge. You might want to increase the number of iterations, check the scale of the features or consider increasing regularisation. Duality gap: 5.462e+10, tolerance: 2.791e+08\n",
      "  model = cd_fast.enet_coordinate_descent(\n",
      "/Users/silviaresende/opt/anaconda3/lib/python3.9/site-packages/sklearn/linear_model/_coordinate_descent.py:647: ConvergenceWarning: Objective did not converge. You might want to increase the number of iterations, check the scale of the features or consider increasing regularisation. Duality gap: 5.415e+10, tolerance: 2.887e+08\n",
      "  model = cd_fast.enet_coordinate_descent(\n",
      "/Users/silviaresende/opt/anaconda3/lib/python3.9/site-packages/sklearn/linear_model/_coordinate_descent.py:647: ConvergenceWarning: Objective did not converge. You might want to increase the number of iterations, check the scale of the features or consider increasing regularisation. Duality gap: 1.523e+11, tolerance: 2.871e+08\n",
      "  model = cd_fast.enet_coordinate_descent(\n",
      "/Users/silviaresende/opt/anaconda3/lib/python3.9/site-packages/sklearn/linear_model/_coordinate_descent.py:647: ConvergenceWarning: Objective did not converge. You might want to increase the number of iterations, check the scale of the features or consider increasing regularisation. Duality gap: 5.719e+10, tolerance: 2.902e+08\n",
      "  model = cd_fast.enet_coordinate_descent(\n",
      "/Users/silviaresende/opt/anaconda3/lib/python3.9/site-packages/sklearn/linear_model/_coordinate_descent.py:647: ConvergenceWarning: Objective did not converge. You might want to increase the number of iterations, check the scale of the features or consider increasing regularisation. Duality gap: 1.350e+11, tolerance: 2.856e+08\n",
      "  model = cd_fast.enet_coordinate_descent(\n",
      "/Users/silviaresende/opt/anaconda3/lib/python3.9/site-packages/sklearn/linear_model/_coordinate_descent.py:647: ConvergenceWarning: Objective did not converge. You might want to increase the number of iterations, check the scale of the features or consider increasing regularisation. Duality gap: 5.463e+10, tolerance: 2.791e+08\n",
      "  model = cd_fast.enet_coordinate_descent(\n",
      "/Users/silviaresende/opt/anaconda3/lib/python3.9/site-packages/sklearn/linear_model/_coordinate_descent.py:647: ConvergenceWarning: Objective did not converge. You might want to increase the number of iterations, check the scale of the features or consider increasing regularisation. Duality gap: 5.415e+10, tolerance: 2.887e+08\n",
      "  model = cd_fast.enet_coordinate_descent(\n",
      "/Users/silviaresende/opt/anaconda3/lib/python3.9/site-packages/sklearn/linear_model/_coordinate_descent.py:647: ConvergenceWarning: Objective did not converge. You might want to increase the number of iterations, check the scale of the features or consider increasing regularisation. Duality gap: 1.485e+11, tolerance: 2.871e+08\n",
      "  model = cd_fast.enet_coordinate_descent(\n",
      "/Users/silviaresende/opt/anaconda3/lib/python3.9/site-packages/sklearn/linear_model/_coordinate_descent.py:647: ConvergenceWarning: Objective did not converge. You might want to increase the number of iterations, check the scale of the features or consider increasing regularisation. Duality gap: 5.719e+10, tolerance: 2.902e+08\n",
      "  model = cd_fast.enet_coordinate_descent(\n",
      "/Users/silviaresende/opt/anaconda3/lib/python3.9/site-packages/sklearn/linear_model/_coordinate_descent.py:647: ConvergenceWarning: Objective did not converge. You might want to increase the number of iterations, check the scale of the features or consider increasing regularisation. Duality gap: 1.296e+11, tolerance: 2.856e+08\n",
      "  model = cd_fast.enet_coordinate_descent(\n",
      "/Users/silviaresende/opt/anaconda3/lib/python3.9/site-packages/sklearn/linear_model/_coordinate_descent.py:647: ConvergenceWarning: Objective did not converge. You might want to increase the number of iterations, check the scale of the features or consider increasing regularisation. Duality gap: 5.463e+10, tolerance: 2.791e+08\n",
      "  model = cd_fast.enet_coordinate_descent(\n",
      "/Users/silviaresende/opt/anaconda3/lib/python3.9/site-packages/sklearn/linear_model/_coordinate_descent.py:647: ConvergenceWarning: Objective did not converge. You might want to increase the number of iterations, check the scale of the features or consider increasing regularisation. Duality gap: 5.416e+10, tolerance: 2.887e+08\n",
      "  model = cd_fast.enet_coordinate_descent(\n",
      "/Users/silviaresende/opt/anaconda3/lib/python3.9/site-packages/sklearn/linear_model/_coordinate_descent.py:647: ConvergenceWarning: Objective did not converge. You might want to increase the number of iterations, check the scale of the features or consider increasing regularisation. Duality gap: 1.444e+11, tolerance: 2.871e+08\n",
      "  model = cd_fast.enet_coordinate_descent(\n",
      "/Users/silviaresende/opt/anaconda3/lib/python3.9/site-packages/sklearn/linear_model/_coordinate_descent.py:647: ConvergenceWarning: Objective did not converge. You might want to increase the number of iterations, check the scale of the features or consider increasing regularisation. Duality gap: 5.719e+10, tolerance: 2.902e+08\n",
      "  model = cd_fast.enet_coordinate_descent(\n",
      "/Users/silviaresende/opt/anaconda3/lib/python3.9/site-packages/sklearn/linear_model/_coordinate_descent.py:647: ConvergenceWarning: Objective did not converge. You might want to increase the number of iterations, check the scale of the features or consider increasing regularisation. Duality gap: 1.240e+11, tolerance: 2.856e+08\n",
      "  model = cd_fast.enet_coordinate_descent(\n",
      "/Users/silviaresende/opt/anaconda3/lib/python3.9/site-packages/sklearn/linear_model/_coordinate_descent.py:647: ConvergenceWarning: Objective did not converge. You might want to increase the number of iterations, check the scale of the features or consider increasing regularisation. Duality gap: 5.463e+10, tolerance: 2.791e+08\n",
      "  model = cd_fast.enet_coordinate_descent(\n",
      "/Users/silviaresende/opt/anaconda3/lib/python3.9/site-packages/sklearn/linear_model/_coordinate_descent.py:647: ConvergenceWarning: Objective did not converge. You might want to increase the number of iterations, check the scale of the features or consider increasing regularisation. Duality gap: 5.416e+10, tolerance: 2.887e+08\n",
      "  model = cd_fast.enet_coordinate_descent(\n",
      "/Users/silviaresende/opt/anaconda3/lib/python3.9/site-packages/sklearn/linear_model/_coordinate_descent.py:647: ConvergenceWarning: Objective did not converge. You might want to increase the number of iterations, check the scale of the features or consider increasing regularisation. Duality gap: 1.400e+11, tolerance: 2.871e+08\n",
      "  model = cd_fast.enet_coordinate_descent(\n",
      "/Users/silviaresende/opt/anaconda3/lib/python3.9/site-packages/sklearn/linear_model/_coordinate_descent.py:647: ConvergenceWarning: Objective did not converge. You might want to increase the number of iterations, check the scale of the features or consider increasing regularisation. Duality gap: 5.720e+10, tolerance: 2.902e+08\n",
      "  model = cd_fast.enet_coordinate_descent(\n",
      "/Users/silviaresende/opt/anaconda3/lib/python3.9/site-packages/sklearn/linear_model/_coordinate_descent.py:647: ConvergenceWarning: Objective did not converge. You might want to increase the number of iterations, check the scale of the features or consider increasing regularisation. Duality gap: 1.181e+11, tolerance: 2.856e+08\n",
      "  model = cd_fast.enet_coordinate_descent(\n",
      "/Users/silviaresende/opt/anaconda3/lib/python3.9/site-packages/sklearn/linear_model/_coordinate_descent.py:647: ConvergenceWarning: Objective did not converge. You might want to increase the number of iterations, check the scale of the features or consider increasing regularisation. Duality gap: 5.463e+10, tolerance: 2.791e+08\n",
      "  model = cd_fast.enet_coordinate_descent(\n",
      "/Users/silviaresende/opt/anaconda3/lib/python3.9/site-packages/sklearn/linear_model/_coordinate_descent.py:647: ConvergenceWarning: Objective did not converge. You might want to increase the number of iterations, check the scale of the features or consider increasing regularisation. Duality gap: 5.416e+10, tolerance: 2.887e+08\n",
      "  model = cd_fast.enet_coordinate_descent(\n",
      "/Users/silviaresende/opt/anaconda3/lib/python3.9/site-packages/sklearn/linear_model/_coordinate_descent.py:647: ConvergenceWarning: Objective did not converge. You might want to increase the number of iterations, check the scale of the features or consider increasing regularisation. Duality gap: 1.352e+11, tolerance: 2.871e+08\n",
      "  model = cd_fast.enet_coordinate_descent(\n",
      "/Users/silviaresende/opt/anaconda3/lib/python3.9/site-packages/sklearn/linear_model/_coordinate_descent.py:647: ConvergenceWarning: Objective did not converge. You might want to increase the number of iterations, check the scale of the features or consider increasing regularisation. Duality gap: 5.720e+10, tolerance: 2.902e+08\n",
      "  model = cd_fast.enet_coordinate_descent(\n",
      "/Users/silviaresende/opt/anaconda3/lib/python3.9/site-packages/sklearn/linear_model/_coordinate_descent.py:647: ConvergenceWarning: Objective did not converge. You might want to increase the number of iterations, check the scale of the features or consider increasing regularisation. Duality gap: 1.120e+11, tolerance: 2.856e+08\n",
      "  model = cd_fast.enet_coordinate_descent(\n",
      "/Users/silviaresende/opt/anaconda3/lib/python3.9/site-packages/sklearn/linear_model/_coordinate_descent.py:647: ConvergenceWarning: Objective did not converge. You might want to increase the number of iterations, check the scale of the features or consider increasing regularisation. Duality gap: 5.464e+10, tolerance: 2.791e+08\n",
      "  model = cd_fast.enet_coordinate_descent(\n",
      "/Users/silviaresende/opt/anaconda3/lib/python3.9/site-packages/sklearn/linear_model/_coordinate_descent.py:647: ConvergenceWarning: Objective did not converge. You might want to increase the number of iterations, check the scale of the features or consider increasing regularisation. Duality gap: 5.416e+10, tolerance: 2.887e+08\n",
      "  model = cd_fast.enet_coordinate_descent(\n",
      "/Users/silviaresende/opt/anaconda3/lib/python3.9/site-packages/sklearn/linear_model/_coordinate_descent.py:647: ConvergenceWarning: Objective did not converge. You might want to increase the number of iterations, check the scale of the features or consider increasing regularisation. Duality gap: 1.303e+11, tolerance: 2.871e+08\n",
      "  model = cd_fast.enet_coordinate_descent(\n",
      "/Users/silviaresende/opt/anaconda3/lib/python3.9/site-packages/sklearn/linear_model/_coordinate_descent.py:647: ConvergenceWarning: Objective did not converge. You might want to increase the number of iterations, check the scale of the features or consider increasing regularisation. Duality gap: 5.720e+10, tolerance: 2.902e+08\n",
      "  model = cd_fast.enet_coordinate_descent(\n",
      "/Users/silviaresende/opt/anaconda3/lib/python3.9/site-packages/sklearn/linear_model/_coordinate_descent.py:647: ConvergenceWarning: Objective did not converge. You might want to increase the number of iterations, check the scale of the features or consider increasing regularisation. Duality gap: 1.058e+11, tolerance: 2.856e+08\n",
      "  model = cd_fast.enet_coordinate_descent(\n",
      "/Users/silviaresende/opt/anaconda3/lib/python3.9/site-packages/sklearn/linear_model/_coordinate_descent.py:647: ConvergenceWarning: Objective did not converge. You might want to increase the number of iterations, check the scale of the features or consider increasing regularisation. Duality gap: 5.464e+10, tolerance: 2.791e+08\n",
      "  model = cd_fast.enet_coordinate_descent(\n",
      "/Users/silviaresende/opt/anaconda3/lib/python3.9/site-packages/sklearn/linear_model/_coordinate_descent.py:647: ConvergenceWarning: Objective did not converge. You might want to increase the number of iterations, check the scale of the features or consider increasing regularisation. Duality gap: 5.416e+10, tolerance: 2.887e+08\n",
      "  model = cd_fast.enet_coordinate_descent(\n",
      "/Users/silviaresende/opt/anaconda3/lib/python3.9/site-packages/sklearn/linear_model/_coordinate_descent.py:647: ConvergenceWarning: Objective did not converge. You might want to increase the number of iterations, check the scale of the features or consider increasing regularisation. Duality gap: 1.250e+11, tolerance: 2.871e+08\n",
      "  model = cd_fast.enet_coordinate_descent(\n",
      "/Users/silviaresende/opt/anaconda3/lib/python3.9/site-packages/sklearn/linear_model/_coordinate_descent.py:647: ConvergenceWarning: Objective did not converge. You might want to increase the number of iterations, check the scale of the features or consider increasing regularisation. Duality gap: 5.720e+10, tolerance: 2.902e+08\n",
      "  model = cd_fast.enet_coordinate_descent(\n",
      "/Users/silviaresende/opt/anaconda3/lib/python3.9/site-packages/sklearn/linear_model/_coordinate_descent.py:647: ConvergenceWarning: Objective did not converge. You might want to increase the number of iterations, check the scale of the features or consider increasing regularisation. Duality gap: 9.938e+10, tolerance: 2.856e+08\n",
      "  model = cd_fast.enet_coordinate_descent(\n",
      "/Users/silviaresende/opt/anaconda3/lib/python3.9/site-packages/sklearn/linear_model/_coordinate_descent.py:647: ConvergenceWarning: Objective did not converge. You might want to increase the number of iterations, check the scale of the features or consider increasing regularisation. Duality gap: 5.464e+10, tolerance: 2.791e+08\n",
      "  model = cd_fast.enet_coordinate_descent(\n",
      "/Users/silviaresende/opt/anaconda3/lib/python3.9/site-packages/sklearn/linear_model/_coordinate_descent.py:647: ConvergenceWarning: Objective did not converge. You might want to increase the number of iterations, check the scale of the features or consider increasing regularisation. Duality gap: 5.416e+10, tolerance: 2.887e+08\n",
      "  model = cd_fast.enet_coordinate_descent(\n",
      "/Users/silviaresende/opt/anaconda3/lib/python3.9/site-packages/sklearn/linear_model/_coordinate_descent.py:647: ConvergenceWarning: Objective did not converge. You might want to increase the number of iterations, check the scale of the features or consider increasing regularisation. Duality gap: 1.195e+11, tolerance: 2.871e+08\n",
      "  model = cd_fast.enet_coordinate_descent(\n",
      "/Users/silviaresende/opt/anaconda3/lib/python3.9/site-packages/sklearn/linear_model/_coordinate_descent.py:647: ConvergenceWarning: Objective did not converge. You might want to increase the number of iterations, check the scale of the features or consider increasing regularisation. Duality gap: 5.720e+10, tolerance: 2.902e+08\n",
      "  model = cd_fast.enet_coordinate_descent(\n",
      "/Users/silviaresende/opt/anaconda3/lib/python3.9/site-packages/sklearn/linear_model/_coordinate_descent.py:647: ConvergenceWarning: Objective did not converge. You might want to increase the number of iterations, check the scale of the features or consider increasing regularisation. Duality gap: 9.294e+10, tolerance: 2.856e+08\n",
      "  model = cd_fast.enet_coordinate_descent(\n",
      "/Users/silviaresende/opt/anaconda3/lib/python3.9/site-packages/sklearn/linear_model/_coordinate_descent.py:647: ConvergenceWarning: Objective did not converge. You might want to increase the number of iterations, check the scale of the features or consider increasing regularisation. Duality gap: 5.464e+10, tolerance: 2.791e+08\n",
      "  model = cd_fast.enet_coordinate_descent(\n",
      "/Users/silviaresende/opt/anaconda3/lib/python3.9/site-packages/sklearn/linear_model/_coordinate_descent.py:647: ConvergenceWarning: Objective did not converge. You might want to increase the number of iterations, check the scale of the features or consider increasing regularisation. Duality gap: 5.416e+10, tolerance: 2.887e+08\n",
      "  model = cd_fast.enet_coordinate_descent(\n",
      "/Users/silviaresende/opt/anaconda3/lib/python3.9/site-packages/sklearn/linear_model/_coordinate_descent.py:647: ConvergenceWarning: Objective did not converge. You might want to increase the number of iterations, check the scale of the features or consider increasing regularisation. Duality gap: 1.137e+11, tolerance: 2.871e+08\n",
      "  model = cd_fast.enet_coordinate_descent(\n",
      "/Users/silviaresende/opt/anaconda3/lib/python3.9/site-packages/sklearn/linear_model/_coordinate_descent.py:647: ConvergenceWarning: Objective did not converge. You might want to increase the number of iterations, check the scale of the features or consider increasing regularisation. Duality gap: 5.720e+10, tolerance: 2.902e+08\n",
      "  model = cd_fast.enet_coordinate_descent(\n",
      "/Users/silviaresende/opt/anaconda3/lib/python3.9/site-packages/sklearn/linear_model/_coordinate_descent.py:647: ConvergenceWarning: Objective did not converge. You might want to increase the number of iterations, check the scale of the features or consider increasing regularisation. Duality gap: 8.648e+10, tolerance: 2.856e+08\n",
      "  model = cd_fast.enet_coordinate_descent(\n",
      "/Users/silviaresende/opt/anaconda3/lib/python3.9/site-packages/sklearn/linear_model/_coordinate_descent.py:647: ConvergenceWarning: Objective did not converge. You might want to increase the number of iterations, check the scale of the features or consider increasing regularisation. Duality gap: 5.464e+10, tolerance: 2.791e+08\n",
      "  model = cd_fast.enet_coordinate_descent(\n",
      "/Users/silviaresende/opt/anaconda3/lib/python3.9/site-packages/sklearn/linear_model/_coordinate_descent.py:647: ConvergenceWarning: Objective did not converge. You might want to increase the number of iterations, check the scale of the features or consider increasing regularisation. Duality gap: 5.416e+10, tolerance: 2.887e+08\n",
      "  model = cd_fast.enet_coordinate_descent(\n",
      "/Users/silviaresende/opt/anaconda3/lib/python3.9/site-packages/sklearn/linear_model/_coordinate_descent.py:647: ConvergenceWarning: Objective did not converge. You might want to increase the number of iterations, check the scale of the features or consider increasing regularisation. Duality gap: 1.078e+11, tolerance: 2.871e+08\n",
      "  model = cd_fast.enet_coordinate_descent(\n",
      "/Users/silviaresende/opt/anaconda3/lib/python3.9/site-packages/sklearn/linear_model/_coordinate_descent.py:647: ConvergenceWarning: Objective did not converge. You might want to increase the number of iterations, check the scale of the features or consider increasing regularisation. Duality gap: 5.721e+10, tolerance: 2.902e+08\n",
      "  model = cd_fast.enet_coordinate_descent(\n",
      "/Users/silviaresende/opt/anaconda3/lib/python3.9/site-packages/sklearn/linear_model/_coordinate_descent.py:647: ConvergenceWarning: Objective did not converge. You might want to increase the number of iterations, check the scale of the features or consider increasing regularisation. Duality gap: 8.007e+10, tolerance: 2.856e+08\n",
      "  model = cd_fast.enet_coordinate_descent(\n",
      "/Users/silviaresende/opt/anaconda3/lib/python3.9/site-packages/sklearn/linear_model/_coordinate_descent.py:647: ConvergenceWarning: Objective did not converge. You might want to increase the number of iterations, check the scale of the features or consider increasing regularisation. Duality gap: 5.464e+10, tolerance: 2.791e+08\n",
      "  model = cd_fast.enet_coordinate_descent(\n",
      "/Users/silviaresende/opt/anaconda3/lib/python3.9/site-packages/sklearn/linear_model/_coordinate_descent.py:647: ConvergenceWarning: Objective did not converge. You might want to increase the number of iterations, check the scale of the features or consider increasing regularisation. Duality gap: 5.416e+10, tolerance: 2.887e+08\n",
      "  model = cd_fast.enet_coordinate_descent(\n",
      "/Users/silviaresende/opt/anaconda3/lib/python3.9/site-packages/sklearn/linear_model/_coordinate_descent.py:647: ConvergenceWarning: Objective did not converge. You might want to increase the number of iterations, check the scale of the features or consider increasing regularisation. Duality gap: 1.017e+11, tolerance: 2.871e+08\n",
      "  model = cd_fast.enet_coordinate_descent(\n",
      "/Users/silviaresende/opt/anaconda3/lib/python3.9/site-packages/sklearn/linear_model/_coordinate_descent.py:647: ConvergenceWarning: Objective did not converge. You might want to increase the number of iterations, check the scale of the features or consider increasing regularisation. Duality gap: 5.721e+10, tolerance: 2.902e+08\n",
      "  model = cd_fast.enet_coordinate_descent(\n",
      "/Users/silviaresende/opt/anaconda3/lib/python3.9/site-packages/sklearn/linear_model/_coordinate_descent.py:647: ConvergenceWarning: Objective did not converge. You might want to increase the number of iterations, check the scale of the features or consider increasing regularisation. Duality gap: 7.375e+10, tolerance: 2.856e+08\n",
      "  model = cd_fast.enet_coordinate_descent(\n",
      "/Users/silviaresende/opt/anaconda3/lib/python3.9/site-packages/sklearn/linear_model/_coordinate_descent.py:647: ConvergenceWarning: Objective did not converge. You might want to increase the number of iterations, check the scale of the features or consider increasing regularisation. Duality gap: 5.464e+10, tolerance: 2.791e+08\n",
      "  model = cd_fast.enet_coordinate_descent(\n",
      "/Users/silviaresende/opt/anaconda3/lib/python3.9/site-packages/sklearn/linear_model/_coordinate_descent.py:647: ConvergenceWarning: Objective did not converge. You might want to increase the number of iterations, check the scale of the features or consider increasing regularisation. Duality gap: 5.416e+10, tolerance: 2.887e+08\n",
      "  model = cd_fast.enet_coordinate_descent(\n",
      "/Users/silviaresende/opt/anaconda3/lib/python3.9/site-packages/sklearn/linear_model/_coordinate_descent.py:647: ConvergenceWarning: Objective did not converge. You might want to increase the number of iterations, check the scale of the features or consider increasing regularisation. Duality gap: 9.550e+10, tolerance: 2.871e+08\n",
      "  model = cd_fast.enet_coordinate_descent(\n",
      "/Users/silviaresende/opt/anaconda3/lib/python3.9/site-packages/sklearn/linear_model/_coordinate_descent.py:647: ConvergenceWarning: Objective did not converge. You might want to increase the number of iterations, check the scale of the features or consider increasing regularisation. Duality gap: 5.721e+10, tolerance: 2.902e+08\n",
      "  model = cd_fast.enet_coordinate_descent(\n",
      "/Users/silviaresende/opt/anaconda3/lib/python3.9/site-packages/sklearn/linear_model/_coordinate_descent.py:647: ConvergenceWarning: Objective did not converge. You might want to increase the number of iterations, check the scale of the features or consider increasing regularisation. Duality gap: 6.758e+10, tolerance: 2.856e+08\n",
      "  model = cd_fast.enet_coordinate_descent(\n",
      "/Users/silviaresende/opt/anaconda3/lib/python3.9/site-packages/sklearn/linear_model/_coordinate_descent.py:647: ConvergenceWarning: Objective did not converge. You might want to increase the number of iterations, check the scale of the features or consider increasing regularisation. Duality gap: 5.465e+10, tolerance: 2.791e+08\n",
      "  model = cd_fast.enet_coordinate_descent(\n",
      "/Users/silviaresende/opt/anaconda3/lib/python3.9/site-packages/sklearn/linear_model/_coordinate_descent.py:647: ConvergenceWarning: Objective did not converge. You might want to increase the number of iterations, check the scale of the features or consider increasing regularisation. Duality gap: 5.416e+10, tolerance: 2.887e+08\n",
      "  model = cd_fast.enet_coordinate_descent(\n",
      "/Users/silviaresende/opt/anaconda3/lib/python3.9/site-packages/sklearn/linear_model/_coordinate_descent.py:647: ConvergenceWarning: Objective did not converge. You might want to increase the number of iterations, check the scale of the features or consider increasing regularisation. Duality gap: 8.924e+10, tolerance: 2.871e+08\n",
      "  model = cd_fast.enet_coordinate_descent(\n",
      "/Users/silviaresende/opt/anaconda3/lib/python3.9/site-packages/sklearn/linear_model/_coordinate_descent.py:647: ConvergenceWarning: Objective did not converge. You might want to increase the number of iterations, check the scale of the features or consider increasing regularisation. Duality gap: 5.721e+10, tolerance: 2.902e+08\n",
      "  model = cd_fast.enet_coordinate_descent(\n",
      "/Users/silviaresende/opt/anaconda3/lib/python3.9/site-packages/sklearn/linear_model/_coordinate_descent.py:647: ConvergenceWarning: Objective did not converge. You might want to increase the number of iterations, check the scale of the features or consider increasing regularisation. Duality gap: 6.161e+10, tolerance: 2.856e+08\n",
      "  model = cd_fast.enet_coordinate_descent(\n",
      "/Users/silviaresende/opt/anaconda3/lib/python3.9/site-packages/sklearn/linear_model/_coordinate_descent.py:647: ConvergenceWarning: Objective did not converge. You might want to increase the number of iterations, check the scale of the features or consider increasing regularisation. Duality gap: 5.465e+10, tolerance: 2.791e+08\n",
      "  model = cd_fast.enet_coordinate_descent(\n",
      "/Users/silviaresende/opt/anaconda3/lib/python3.9/site-packages/sklearn/linear_model/_coordinate_descent.py:647: ConvergenceWarning: Objective did not converge. You might want to increase the number of iterations, check the scale of the features or consider increasing regularisation. Duality gap: 5.416e+10, tolerance: 2.887e+08\n",
      "  model = cd_fast.enet_coordinate_descent(\n",
      "/Users/silviaresende/opt/anaconda3/lib/python3.9/site-packages/sklearn/linear_model/_coordinate_descent.py:647: ConvergenceWarning: Objective did not converge. You might want to increase the number of iterations, check the scale of the features or consider increasing regularisation. Duality gap: 8.296e+10, tolerance: 2.871e+08\n",
      "  model = cd_fast.enet_coordinate_descent(\n",
      "/Users/silviaresende/opt/anaconda3/lib/python3.9/site-packages/sklearn/linear_model/_coordinate_descent.py:647: ConvergenceWarning: Objective did not converge. You might want to increase the number of iterations, check the scale of the features or consider increasing regularisation. Duality gap: 5.721e+10, tolerance: 2.902e+08\n",
      "  model = cd_fast.enet_coordinate_descent(\n",
      "/Users/silviaresende/opt/anaconda3/lib/python3.9/site-packages/sklearn/linear_model/_coordinate_descent.py:647: ConvergenceWarning: Objective did not converge. You might want to increase the number of iterations, check the scale of the features or consider increasing regularisation. Duality gap: 5.590e+10, tolerance: 2.856e+08\n",
      "  model = cd_fast.enet_coordinate_descent(\n",
      "/Users/silviaresende/opt/anaconda3/lib/python3.9/site-packages/sklearn/linear_model/_coordinate_descent.py:647: ConvergenceWarning: Objective did not converge. You might want to increase the number of iterations, check the scale of the features or consider increasing regularisation. Duality gap: 5.465e+10, tolerance: 2.791e+08\n",
      "  model = cd_fast.enet_coordinate_descent(\n",
      "/Users/silviaresende/opt/anaconda3/lib/python3.9/site-packages/sklearn/linear_model/_coordinate_descent.py:647: ConvergenceWarning: Objective did not converge. You might want to increase the number of iterations, check the scale of the features or consider increasing regularisation. Duality gap: 5.416e+10, tolerance: 2.887e+08\n",
      "  model = cd_fast.enet_coordinate_descent(\n",
      "/Users/silviaresende/opt/anaconda3/lib/python3.9/site-packages/sklearn/linear_model/_coordinate_descent.py:647: ConvergenceWarning: Objective did not converge. You might want to increase the number of iterations, check the scale of the features or consider increasing regularisation. Duality gap: 7.673e+10, tolerance: 2.871e+08\n",
      "  model = cd_fast.enet_coordinate_descent(\n",
      "/Users/silviaresende/opt/anaconda3/lib/python3.9/site-packages/sklearn/linear_model/_coordinate_descent.py:647: ConvergenceWarning: Objective did not converge. You might want to increase the number of iterations, check the scale of the features or consider increasing regularisation. Duality gap: 5.721e+10, tolerance: 2.902e+08\n",
      "  model = cd_fast.enet_coordinate_descent(\n",
      "/Users/silviaresende/opt/anaconda3/lib/python3.9/site-packages/sklearn/linear_model/_coordinate_descent.py:647: ConvergenceWarning: Objective did not converge. You might want to increase the number of iterations, check the scale of the features or consider increasing regularisation. Duality gap: 5.146e+10, tolerance: 2.856e+08\n",
      "  model = cd_fast.enet_coordinate_descent(\n",
      "/Users/silviaresende/opt/anaconda3/lib/python3.9/site-packages/sklearn/linear_model/_coordinate_descent.py:647: ConvergenceWarning: Objective did not converge. You might want to increase the number of iterations, check the scale of the features or consider increasing regularisation. Duality gap: 5.465e+10, tolerance: 2.791e+08\n",
      "  model = cd_fast.enet_coordinate_descent(\n",
      "/Users/silviaresende/opt/anaconda3/lib/python3.9/site-packages/sklearn/linear_model/_coordinate_descent.py:647: ConvergenceWarning: Objective did not converge. You might want to increase the number of iterations, check the scale of the features or consider increasing regularisation. Duality gap: 5.417e+10, tolerance: 2.887e+08\n",
      "  model = cd_fast.enet_coordinate_descent(\n",
      "/Users/silviaresende/opt/anaconda3/lib/python3.9/site-packages/sklearn/linear_model/_coordinate_descent.py:647: ConvergenceWarning: Objective did not converge. You might want to increase the number of iterations, check the scale of the features or consider increasing regularisation. Duality gap: 7.060e+10, tolerance: 2.871e+08\n",
      "  model = cd_fast.enet_coordinate_descent(\n",
      "/Users/silviaresende/opt/anaconda3/lib/python3.9/site-packages/sklearn/linear_model/_coordinate_descent.py:647: ConvergenceWarning: Objective did not converge. You might want to increase the number of iterations, check the scale of the features or consider increasing regularisation. Duality gap: 5.721e+10, tolerance: 2.902e+08\n",
      "  model = cd_fast.enet_coordinate_descent(\n",
      "/Users/silviaresende/opt/anaconda3/lib/python3.9/site-packages/sklearn/linear_model/_coordinate_descent.py:647: ConvergenceWarning: Objective did not converge. You might want to increase the number of iterations, check the scale of the features or consider increasing regularisation. Duality gap: 5.168e+10, tolerance: 2.856e+08\n",
      "  model = cd_fast.enet_coordinate_descent(\n",
      "/Users/silviaresende/opt/anaconda3/lib/python3.9/site-packages/sklearn/linear_model/_coordinate_descent.py:647: ConvergenceWarning: Objective did not converge. You might want to increase the number of iterations, check the scale of the features or consider increasing regularisation. Duality gap: 5.465e+10, tolerance: 2.791e+08\n",
      "  model = cd_fast.enet_coordinate_descent(\n",
      "/Users/silviaresende/opt/anaconda3/lib/python3.9/site-packages/sklearn/linear_model/_coordinate_descent.py:647: ConvergenceWarning: Objective did not converge. You might want to increase the number of iterations, check the scale of the features or consider increasing regularisation. Duality gap: 5.417e+10, tolerance: 2.887e+08\n",
      "  model = cd_fast.enet_coordinate_descent(\n",
      "/Users/silviaresende/opt/anaconda3/lib/python3.9/site-packages/sklearn/linear_model/_coordinate_descent.py:647: ConvergenceWarning: Objective did not converge. You might want to increase the number of iterations, check the scale of the features or consider increasing regularisation. Duality gap: 6.463e+10, tolerance: 2.871e+08\n",
      "  model = cd_fast.enet_coordinate_descent(\n",
      "/Users/silviaresende/opt/anaconda3/lib/python3.9/site-packages/sklearn/linear_model/_coordinate_descent.py:647: ConvergenceWarning: Objective did not converge. You might want to increase the number of iterations, check the scale of the features or consider increasing regularisation. Duality gap: 5.721e+10, tolerance: 2.902e+08\n",
      "  model = cd_fast.enet_coordinate_descent(\n",
      "/Users/silviaresende/opt/anaconda3/lib/python3.9/site-packages/sklearn/linear_model/_coordinate_descent.py:647: ConvergenceWarning: Objective did not converge. You might want to increase the number of iterations, check the scale of the features or consider increasing regularisation. Duality gap: 5.187e+10, tolerance: 2.856e+08\n",
      "  model = cd_fast.enet_coordinate_descent(\n",
      "/Users/silviaresende/opt/anaconda3/lib/python3.9/site-packages/sklearn/linear_model/_coordinate_descent.py:647: ConvergenceWarning: Objective did not converge. You might want to increase the number of iterations, check the scale of the features or consider increasing regularisation. Duality gap: 5.465e+10, tolerance: 2.791e+08\n",
      "  model = cd_fast.enet_coordinate_descent(\n",
      "/Users/silviaresende/opt/anaconda3/lib/python3.9/site-packages/sklearn/linear_model/_coordinate_descent.py:647: ConvergenceWarning: Objective did not converge. You might want to increase the number of iterations, check the scale of the features or consider increasing regularisation. Duality gap: 5.417e+10, tolerance: 2.887e+08\n",
      "  model = cd_fast.enet_coordinate_descent(\n",
      "/Users/silviaresende/opt/anaconda3/lib/python3.9/site-packages/sklearn/linear_model/_coordinate_descent.py:647: ConvergenceWarning: Objective did not converge. You might want to increase the number of iterations, check the scale of the features or consider increasing regularisation. Duality gap: 5.885e+10, tolerance: 2.871e+08\n",
      "  model = cd_fast.enet_coordinate_descent(\n",
      "/Users/silviaresende/opt/anaconda3/lib/python3.9/site-packages/sklearn/linear_model/_coordinate_descent.py:647: ConvergenceWarning: Objective did not converge. You might want to increase the number of iterations, check the scale of the features or consider increasing regularisation. Duality gap: 5.721e+10, tolerance: 2.902e+08\n",
      "  model = cd_fast.enet_coordinate_descent(\n",
      "/Users/silviaresende/opt/anaconda3/lib/python3.9/site-packages/sklearn/linear_model/_coordinate_descent.py:647: ConvergenceWarning: Objective did not converge. You might want to increase the number of iterations, check the scale of the features or consider increasing regularisation. Duality gap: 5.204e+10, tolerance: 2.856e+08\n",
      "  model = cd_fast.enet_coordinate_descent(\n",
      "/Users/silviaresende/opt/anaconda3/lib/python3.9/site-packages/sklearn/linear_model/_coordinate_descent.py:647: ConvergenceWarning: Objective did not converge. You might want to increase the number of iterations, check the scale of the features or consider increasing regularisation. Duality gap: 5.465e+10, tolerance: 2.791e+08\n",
      "  model = cd_fast.enet_coordinate_descent(\n",
      "/Users/silviaresende/opt/anaconda3/lib/python3.9/site-packages/sklearn/linear_model/_coordinate_descent.py:647: ConvergenceWarning: Objective did not converge. You might want to increase the number of iterations, check the scale of the features or consider increasing regularisation. Duality gap: 5.417e+10, tolerance: 2.887e+08\n",
      "  model = cd_fast.enet_coordinate_descent(\n",
      "/Users/silviaresende/opt/anaconda3/lib/python3.9/site-packages/sklearn/linear_model/_coordinate_descent.py:647: ConvergenceWarning: Objective did not converge. You might want to increase the number of iterations, check the scale of the features or consider increasing regularisation. Duality gap: 5.333e+10, tolerance: 2.871e+08\n",
      "  model = cd_fast.enet_coordinate_descent(\n",
      "/Users/silviaresende/opt/anaconda3/lib/python3.9/site-packages/sklearn/linear_model/_coordinate_descent.py:647: ConvergenceWarning: Objective did not converge. You might want to increase the number of iterations, check the scale of the features or consider increasing regularisation. Duality gap: 4.986e+09, tolerance: 2.902e+08\n",
      "  model = cd_fast.enet_coordinate_descent(\n",
      "/Users/silviaresende/opt/anaconda3/lib/python3.9/site-packages/sklearn/linear_model/_coordinate_descent.py:647: ConvergenceWarning: Objective did not converge. You might want to increase the number of iterations, check the scale of the features or consider increasing regularisation. Duality gap: 3.253e+10, tolerance: 2.856e+08\n",
      "  model = cd_fast.enet_coordinate_descent(\n",
      "/Users/silviaresende/opt/anaconda3/lib/python3.9/site-packages/sklearn/linear_model/_coordinate_descent.py:647: ConvergenceWarning: Objective did not converge. You might want to increase the number of iterations, check the scale of the features or consider increasing regularisation. Duality gap: 5.465e+10, tolerance: 2.791e+08\n",
      "  model = cd_fast.enet_coordinate_descent(\n",
      "/Users/silviaresende/opt/anaconda3/lib/python3.9/site-packages/sklearn/linear_model/_coordinate_descent.py:647: ConvergenceWarning: Objective did not converge. You might want to increase the number of iterations, check the scale of the features or consider increasing regularisation. Duality gap: 5.417e+10, tolerance: 2.887e+08\n",
      "  model = cd_fast.enet_coordinate_descent(\n",
      "/Users/silviaresende/opt/anaconda3/lib/python3.9/site-packages/sklearn/linear_model/_coordinate_descent.py:647: ConvergenceWarning: Objective did not converge. You might want to increase the number of iterations, check the scale of the features or consider increasing regularisation. Duality gap: 5.070e+10, tolerance: 2.871e+08\n",
      "  model = cd_fast.enet_coordinate_descent(\n",
      "/Users/silviaresende/opt/anaconda3/lib/python3.9/site-packages/sklearn/linear_model/_coordinate_descent.py:647: ConvergenceWarning: Objective did not converge. You might want to increase the number of iterations, check the scale of the features or consider increasing regularisation. Duality gap: 1.870e+09, tolerance: 2.902e+08\n",
      "  model = cd_fast.enet_coordinate_descent(\n",
      "/Users/silviaresende/opt/anaconda3/lib/python3.9/site-packages/sklearn/linear_model/_coordinate_descent.py:647: ConvergenceWarning: Objective did not converge. You might want to increase the number of iterations, check the scale of the features or consider increasing regularisation. Duality gap: 2.864e+10, tolerance: 2.856e+08\n",
      "  model = cd_fast.enet_coordinate_descent(\n",
      "/Users/silviaresende/opt/anaconda3/lib/python3.9/site-packages/sklearn/linear_model/_coordinate_descent.py:647: ConvergenceWarning: Objective did not converge. You might want to increase the number of iterations, check the scale of the features or consider increasing regularisation. Duality gap: 5.465e+10, tolerance: 2.791e+08\n",
      "  model = cd_fast.enet_coordinate_descent(\n",
      "/Users/silviaresende/opt/anaconda3/lib/python3.9/site-packages/sklearn/linear_model/_coordinate_descent.py:647: ConvergenceWarning: Objective did not converge. You might want to increase the number of iterations, check the scale of the features or consider increasing regularisation. Duality gap: 6.920e+08, tolerance: 2.887e+08\n",
      "  model = cd_fast.enet_coordinate_descent(\n",
      "/Users/silviaresende/opt/anaconda3/lib/python3.9/site-packages/sklearn/linear_model/_coordinate_descent.py:647: ConvergenceWarning: Objective did not converge. You might want to increase the number of iterations, check the scale of the features or consider increasing regularisation. Duality gap: 5.088e+10, tolerance: 2.871e+08\n",
      "  model = cd_fast.enet_coordinate_descent(\n",
      "/Users/silviaresende/opt/anaconda3/lib/python3.9/site-packages/sklearn/linear_model/_coordinate_descent.py:647: ConvergenceWarning: Objective did not converge. You might want to increase the number of iterations, check the scale of the features or consider increasing regularisation. Duality gap: 1.785e+09, tolerance: 2.902e+08\n",
      "  model = cd_fast.enet_coordinate_descent(\n",
      "/Users/silviaresende/opt/anaconda3/lib/python3.9/site-packages/sklearn/linear_model/_coordinate_descent.py:647: ConvergenceWarning: Objective did not converge. You might want to increase the number of iterations, check the scale of the features or consider increasing regularisation. Duality gap: 2.524e+10, tolerance: 2.856e+08\n",
      "  model = cd_fast.enet_coordinate_descent(\n",
      "/Users/silviaresende/opt/anaconda3/lib/python3.9/site-packages/sklearn/linear_model/_coordinate_descent.py:647: ConvergenceWarning: Objective did not converge. You might want to increase the number of iterations, check the scale of the features or consider increasing regularisation. Duality gap: 5.465e+10, tolerance: 2.791e+08\n",
      "  model = cd_fast.enet_coordinate_descent(\n",
      "/Users/silviaresende/opt/anaconda3/lib/python3.9/site-packages/sklearn/linear_model/_coordinate_descent.py:647: ConvergenceWarning: Objective did not converge. You might want to increase the number of iterations, check the scale of the features or consider increasing regularisation. Duality gap: 7.096e+08, tolerance: 2.887e+08\n",
      "  model = cd_fast.enet_coordinate_descent(\n",
      "/Users/silviaresende/opt/anaconda3/lib/python3.9/site-packages/sklearn/linear_model/_coordinate_descent.py:647: ConvergenceWarning: Objective did not converge. You might want to increase the number of iterations, check the scale of the features or consider increasing regularisation. Duality gap: 5.105e+10, tolerance: 2.871e+08\n",
      "  model = cd_fast.enet_coordinate_descent(\n",
      "/Users/silviaresende/opt/anaconda3/lib/python3.9/site-packages/sklearn/linear_model/_coordinate_descent.py:647: ConvergenceWarning: Objective did not converge. You might want to increase the number of iterations, check the scale of the features or consider increasing regularisation. Duality gap: 1.788e+09, tolerance: 2.902e+08\n",
      "  model = cd_fast.enet_coordinate_descent(\n",
      "/Users/silviaresende/opt/anaconda3/lib/python3.9/site-packages/sklearn/linear_model/_coordinate_descent.py:647: ConvergenceWarning: Objective did not converge. You might want to increase the number of iterations, check the scale of the features or consider increasing regularisation. Duality gap: 2.223e+10, tolerance: 2.856e+08\n",
      "  model = cd_fast.enet_coordinate_descent(\n",
      "/Users/silviaresende/opt/anaconda3/lib/python3.9/site-packages/sklearn/linear_model/_coordinate_descent.py:647: ConvergenceWarning: Objective did not converge. You might want to increase the number of iterations, check the scale of the features or consider increasing regularisation. Duality gap: 5.465e+10, tolerance: 2.791e+08\n",
      "  model = cd_fast.enet_coordinate_descent(\n",
      "/Users/silviaresende/opt/anaconda3/lib/python3.9/site-packages/sklearn/linear_model/_coordinate_descent.py:647: ConvergenceWarning: Objective did not converge. You might want to increase the number of iterations, check the scale of the features or consider increasing regularisation. Duality gap: 7.118e+08, tolerance: 2.887e+08\n",
      "  model = cd_fast.enet_coordinate_descent(\n",
      "/Users/silviaresende/opt/anaconda3/lib/python3.9/site-packages/sklearn/linear_model/_coordinate_descent.py:647: ConvergenceWarning: Objective did not converge. You might want to increase the number of iterations, check the scale of the features or consider increasing regularisation. Duality gap: 5.119e+10, tolerance: 2.871e+08\n",
      "  model = cd_fast.enet_coordinate_descent(\n",
      "/Users/silviaresende/opt/anaconda3/lib/python3.9/site-packages/sklearn/linear_model/_coordinate_descent.py:647: ConvergenceWarning: Objective did not converge. You might want to increase the number of iterations, check the scale of the features or consider increasing regularisation. Duality gap: 1.789e+09, tolerance: 2.902e+08\n",
      "  model = cd_fast.enet_coordinate_descent(\n",
      "/Users/silviaresende/opt/anaconda3/lib/python3.9/site-packages/sklearn/linear_model/_coordinate_descent.py:647: ConvergenceWarning: Objective did not converge. You might want to increase the number of iterations, check the scale of the features or consider increasing regularisation. Duality gap: 1.956e+10, tolerance: 2.856e+08\n",
      "  model = cd_fast.enet_coordinate_descent(\n",
      "/Users/silviaresende/opt/anaconda3/lib/python3.9/site-packages/sklearn/linear_model/_coordinate_descent.py:647: ConvergenceWarning: Objective did not converge. You might want to increase the number of iterations, check the scale of the features or consider increasing regularisation. Duality gap: 5.465e+10, tolerance: 2.791e+08\n",
      "  model = cd_fast.enet_coordinate_descent(\n",
      "/Users/silviaresende/opt/anaconda3/lib/python3.9/site-packages/sklearn/linear_model/_coordinate_descent.py:647: ConvergenceWarning: Objective did not converge. You might want to increase the number of iterations, check the scale of the features or consider increasing regularisation. Duality gap: 7.123e+08, tolerance: 2.887e+08\n",
      "  model = cd_fast.enet_coordinate_descent(\n",
      "/Users/silviaresende/opt/anaconda3/lib/python3.9/site-packages/sklearn/linear_model/_coordinate_descent.py:647: ConvergenceWarning: Objective did not converge. You might want to increase the number of iterations, check the scale of the features or consider increasing regularisation. Duality gap: 5.132e+10, tolerance: 2.871e+08\n",
      "  model = cd_fast.enet_coordinate_descent(\n",
      "/Users/silviaresende/opt/anaconda3/lib/python3.9/site-packages/sklearn/linear_model/_coordinate_descent.py:647: ConvergenceWarning: Objective did not converge. You might want to increase the number of iterations, check the scale of the features or consider increasing regularisation. Duality gap: 1.789e+09, tolerance: 2.902e+08\n",
      "  model = cd_fast.enet_coordinate_descent(\n",
      "/Users/silviaresende/opt/anaconda3/lib/python3.9/site-packages/sklearn/linear_model/_coordinate_descent.py:647: ConvergenceWarning: Objective did not converge. You might want to increase the number of iterations, check the scale of the features or consider increasing regularisation. Duality gap: 1.720e+10, tolerance: 2.856e+08\n",
      "  model = cd_fast.enet_coordinate_descent(\n",
      "/Users/silviaresende/opt/anaconda3/lib/python3.9/site-packages/sklearn/linear_model/_coordinate_descent.py:647: ConvergenceWarning: Objective did not converge. You might want to increase the number of iterations, check the scale of the features or consider increasing regularisation. Duality gap: 5.458e+10, tolerance: 2.791e+08\n",
      "  model = cd_fast.enet_coordinate_descent(\n",
      "/Users/silviaresende/opt/anaconda3/lib/python3.9/site-packages/sklearn/linear_model/_coordinate_descent.py:647: ConvergenceWarning: Objective did not converge. You might want to increase the number of iterations, check the scale of the features or consider increasing regularisation. Duality gap: 7.126e+08, tolerance: 2.887e+08\n",
      "  model = cd_fast.enet_coordinate_descent(\n",
      "/Users/silviaresende/opt/anaconda3/lib/python3.9/site-packages/sklearn/linear_model/_coordinate_descent.py:647: ConvergenceWarning: Objective did not converge. You might want to increase the number of iterations, check the scale of the features or consider increasing regularisation. Duality gap: 5.144e+10, tolerance: 2.871e+08\n",
      "  model = cd_fast.enet_coordinate_descent(\n",
      "/Users/silviaresende/opt/anaconda3/lib/python3.9/site-packages/sklearn/linear_model/_coordinate_descent.py:647: ConvergenceWarning: Objective did not converge. You might want to increase the number of iterations, check the scale of the features or consider increasing regularisation. Duality gap: 1.790e+09, tolerance: 2.902e+08\n",
      "  model = cd_fast.enet_coordinate_descent(\n",
      "/Users/silviaresende/opt/anaconda3/lib/python3.9/site-packages/sklearn/linear_model/_coordinate_descent.py:647: ConvergenceWarning: Objective did not converge. You might want to increase the number of iterations, check the scale of the features or consider increasing regularisation. Duality gap: 1.513e+10, tolerance: 2.856e+08\n",
      "  model = cd_fast.enet_coordinate_descent(\n",
      "/Users/silviaresende/opt/anaconda3/lib/python3.9/site-packages/sklearn/linear_model/_coordinate_descent.py:647: ConvergenceWarning: Objective did not converge. You might want to increase the number of iterations, check the scale of the features or consider increasing regularisation. Duality gap: 5.463e+10, tolerance: 2.791e+08\n",
      "  model = cd_fast.enet_coordinate_descent(\n",
      "/Users/silviaresende/opt/anaconda3/lib/python3.9/site-packages/sklearn/linear_model/_coordinate_descent.py:647: ConvergenceWarning: Objective did not converge. You might want to increase the number of iterations, check the scale of the features or consider increasing regularisation. Duality gap: 7.129e+08, tolerance: 2.887e+08\n",
      "  model = cd_fast.enet_coordinate_descent(\n",
      "/Users/silviaresende/opt/anaconda3/lib/python3.9/site-packages/sklearn/linear_model/_coordinate_descent.py:647: ConvergenceWarning: Objective did not converge. You might want to increase the number of iterations, check the scale of the features or consider increasing regularisation. Duality gap: 5.154e+10, tolerance: 2.871e+08\n",
      "  model = cd_fast.enet_coordinate_descent(\n",
      "/Users/silviaresende/opt/anaconda3/lib/python3.9/site-packages/sklearn/linear_model/_coordinate_descent.py:647: ConvergenceWarning: Objective did not converge. You might want to increase the number of iterations, check the scale of the features or consider increasing regularisation. Duality gap: 1.790e+09, tolerance: 2.902e+08\n",
      "  model = cd_fast.enet_coordinate_descent(\n",
      "/Users/silviaresende/opt/anaconda3/lib/python3.9/site-packages/sklearn/linear_model/_coordinate_descent.py:647: ConvergenceWarning: Objective did not converge. You might want to increase the number of iterations, check the scale of the features or consider increasing regularisation. Duality gap: 1.331e+10, tolerance: 2.856e+08\n",
      "  model = cd_fast.enet_coordinate_descent(\n",
      "/Users/silviaresende/opt/anaconda3/lib/python3.9/site-packages/sklearn/linear_model/_coordinate_descent.py:647: ConvergenceWarning: Objective did not converge. You might want to increase the number of iterations, check the scale of the features or consider increasing regularisation. Duality gap: 5.465e+10, tolerance: 2.791e+08\n",
      "  model = cd_fast.enet_coordinate_descent(\n",
      "/Users/silviaresende/opt/anaconda3/lib/python3.9/site-packages/sklearn/linear_model/_coordinate_descent.py:647: ConvergenceWarning: Objective did not converge. You might want to increase the number of iterations, check the scale of the features or consider increasing regularisation. Duality gap: 7.132e+08, tolerance: 2.887e+08\n",
      "  model = cd_fast.enet_coordinate_descent(\n",
      "/Users/silviaresende/opt/anaconda3/lib/python3.9/site-packages/sklearn/linear_model/_coordinate_descent.py:647: ConvergenceWarning: Objective did not converge. You might want to increase the number of iterations, check the scale of the features or consider increasing regularisation. Duality gap: 5.163e+10, tolerance: 2.871e+08\n",
      "  model = cd_fast.enet_coordinate_descent(\n",
      "/Users/silviaresende/opt/anaconda3/lib/python3.9/site-packages/sklearn/linear_model/_coordinate_descent.py:647: ConvergenceWarning: Objective did not converge. You might want to increase the number of iterations, check the scale of the features or consider increasing regularisation. Duality gap: 1.790e+09, tolerance: 2.902e+08\n",
      "  model = cd_fast.enet_coordinate_descent(\n",
      "/Users/silviaresende/opt/anaconda3/lib/python3.9/site-packages/sklearn/linear_model/_coordinate_descent.py:647: ConvergenceWarning: Objective did not converge. You might want to increase the number of iterations, check the scale of the features or consider increasing regularisation. Duality gap: 1.172e+10, tolerance: 2.856e+08\n",
      "  model = cd_fast.enet_coordinate_descent(\n",
      "/Users/silviaresende/opt/anaconda3/lib/python3.9/site-packages/sklearn/linear_model/_coordinate_descent.py:647: ConvergenceWarning: Objective did not converge. You might want to increase the number of iterations, check the scale of the features or consider increasing regularisation. Duality gap: 7.136e+08, tolerance: 2.887e+08\n",
      "  model = cd_fast.enet_coordinate_descent(\n",
      "/Users/silviaresende/opt/anaconda3/lib/python3.9/site-packages/sklearn/linear_model/_coordinate_descent.py:647: ConvergenceWarning: Objective did not converge. You might want to increase the number of iterations, check the scale of the features or consider increasing regularisation. Duality gap: 5.171e+10, tolerance: 2.871e+08\n",
      "  model = cd_fast.enet_coordinate_descent(\n",
      "/Users/silviaresende/opt/anaconda3/lib/python3.9/site-packages/sklearn/linear_model/_coordinate_descent.py:647: ConvergenceWarning: Objective did not converge. You might want to increase the number of iterations, check the scale of the features or consider increasing regularisation. Duality gap: 1.791e+09, tolerance: 2.902e+08\n",
      "  model = cd_fast.enet_coordinate_descent(\n",
      "/Users/silviaresende/opt/anaconda3/lib/python3.9/site-packages/sklearn/linear_model/_coordinate_descent.py:647: ConvergenceWarning: Objective did not converge. You might want to increase the number of iterations, check the scale of the features or consider increasing regularisation. Duality gap: 1.034e+10, tolerance: 2.856e+08\n",
      "  model = cd_fast.enet_coordinate_descent(\n",
      "/Users/silviaresende/opt/anaconda3/lib/python3.9/site-packages/sklearn/linear_model/_coordinate_descent.py:647: ConvergenceWarning: Objective did not converge. You might want to increase the number of iterations, check the scale of the features or consider increasing regularisation. Duality gap: 7.140e+08, tolerance: 2.887e+08\n",
      "  model = cd_fast.enet_coordinate_descent(\n",
      "/Users/silviaresende/opt/anaconda3/lib/python3.9/site-packages/sklearn/linear_model/_coordinate_descent.py:647: ConvergenceWarning: Objective did not converge. You might want to increase the number of iterations, check the scale of the features or consider increasing regularisation. Duality gap: 5.178e+10, tolerance: 2.871e+08\n",
      "  model = cd_fast.enet_coordinate_descent(\n",
      "/Users/silviaresende/opt/anaconda3/lib/python3.9/site-packages/sklearn/linear_model/_coordinate_descent.py:647: ConvergenceWarning: Objective did not converge. You might want to increase the number of iterations, check the scale of the features or consider increasing regularisation. Duality gap: 1.791e+09, tolerance: 2.902e+08\n",
      "  model = cd_fast.enet_coordinate_descent(\n",
      "/Users/silviaresende/opt/anaconda3/lib/python3.9/site-packages/sklearn/linear_model/_coordinate_descent.py:647: ConvergenceWarning: Objective did not converge. You might want to increase the number of iterations, check the scale of the features or consider increasing regularisation. Duality gap: 9.139e+09, tolerance: 2.856e+08\n",
      "  model = cd_fast.enet_coordinate_descent(\n",
      "/Users/silviaresende/opt/anaconda3/lib/python3.9/site-packages/sklearn/linear_model/_coordinate_descent.py:647: ConvergenceWarning: Objective did not converge. You might want to increase the number of iterations, check the scale of the features or consider increasing regularisation. Duality gap: 7.144e+08, tolerance: 2.887e+08\n",
      "  model = cd_fast.enet_coordinate_descent(\n",
      "/Users/silviaresende/opt/anaconda3/lib/python3.9/site-packages/sklearn/linear_model/_coordinate_descent.py:647: ConvergenceWarning: Objective did not converge. You might want to increase the number of iterations, check the scale of the features or consider increasing regularisation. Duality gap: 5.185e+10, tolerance: 2.871e+08\n",
      "  model = cd_fast.enet_coordinate_descent(\n",
      "/Users/silviaresende/opt/anaconda3/lib/python3.9/site-packages/sklearn/linear_model/_coordinate_descent.py:647: ConvergenceWarning: Objective did not converge. You might want to increase the number of iterations, check the scale of the features or consider increasing regularisation. Duality gap: 1.792e+09, tolerance: 2.902e+08\n",
      "  model = cd_fast.enet_coordinate_descent(\n",
      "/Users/silviaresende/opt/anaconda3/lib/python3.9/site-packages/sklearn/linear_model/_coordinate_descent.py:647: ConvergenceWarning: Objective did not converge. You might want to increase the number of iterations, check the scale of the features or consider increasing regularisation. Duality gap: 8.100e+09, tolerance: 2.856e+08\n",
      "  model = cd_fast.enet_coordinate_descent(\n",
      "/Users/silviaresende/opt/anaconda3/lib/python3.9/site-packages/sklearn/linear_model/_coordinate_descent.py:647: ConvergenceWarning: Objective did not converge. You might want to increase the number of iterations, check the scale of the features or consider increasing regularisation. Duality gap: 7.149e+08, tolerance: 2.887e+08\n",
      "  model = cd_fast.enet_coordinate_descent(\n",
      "/Users/silviaresende/opt/anaconda3/lib/python3.9/site-packages/sklearn/linear_model/_coordinate_descent.py:647: ConvergenceWarning: Objective did not converge. You might want to increase the number of iterations, check the scale of the features or consider increasing regularisation. Duality gap: 1.300e+10, tolerance: 2.871e+08\n",
      "  model = cd_fast.enet_coordinate_descent(\n",
      "/Users/silviaresende/opt/anaconda3/lib/python3.9/site-packages/sklearn/linear_model/_coordinate_descent.py:647: ConvergenceWarning: Objective did not converge. You might want to increase the number of iterations, check the scale of the features or consider increasing regularisation. Duality gap: 1.793e+09, tolerance: 2.902e+08\n",
      "  model = cd_fast.enet_coordinate_descent(\n",
      "/Users/silviaresende/opt/anaconda3/lib/python3.9/site-packages/sklearn/linear_model/_coordinate_descent.py:647: ConvergenceWarning: Objective did not converge. You might want to increase the number of iterations, check the scale of the features or consider increasing regularisation. Duality gap: 7.202e+09, tolerance: 2.856e+08\n",
      "  model = cd_fast.enet_coordinate_descent(\n",
      "/Users/silviaresende/opt/anaconda3/lib/python3.9/site-packages/sklearn/linear_model/_coordinate_descent.py:647: ConvergenceWarning: Objective did not converge. You might want to increase the number of iterations, check the scale of the features or consider increasing regularisation. Duality gap: 7.155e+08, tolerance: 2.887e+08\n",
      "  model = cd_fast.enet_coordinate_descent(\n",
      "/Users/silviaresende/opt/anaconda3/lib/python3.9/site-packages/sklearn/linear_model/_coordinate_descent.py:647: ConvergenceWarning: Objective did not converge. You might want to increase the number of iterations, check the scale of the features or consider increasing regularisation. Duality gap: 1.116e+10, tolerance: 2.871e+08\n",
      "  model = cd_fast.enet_coordinate_descent(\n",
      "/Users/silviaresende/opt/anaconda3/lib/python3.9/site-packages/sklearn/linear_model/_coordinate_descent.py:647: ConvergenceWarning: Objective did not converge. You might want to increase the number of iterations, check the scale of the features or consider increasing regularisation. Duality gap: 1.793e+09, tolerance: 2.902e+08\n",
      "  model = cd_fast.enet_coordinate_descent(\n",
      "/Users/silviaresende/opt/anaconda3/lib/python3.9/site-packages/sklearn/linear_model/_coordinate_descent.py:647: ConvergenceWarning: Objective did not converge. You might want to increase the number of iterations, check the scale of the features or consider increasing regularisation. Duality gap: 6.427e+09, tolerance: 2.856e+08\n",
      "  model = cd_fast.enet_coordinate_descent(\n",
      "/Users/silviaresende/opt/anaconda3/lib/python3.9/site-packages/sklearn/linear_model/_coordinate_descent.py:647: ConvergenceWarning: Objective did not converge. You might want to increase the number of iterations, check the scale of the features or consider increasing regularisation. Duality gap: 7.161e+08, tolerance: 2.887e+08\n",
      "  model = cd_fast.enet_coordinate_descent(\n",
      "/Users/silviaresende/opt/anaconda3/lib/python3.9/site-packages/sklearn/linear_model/_coordinate_descent.py:647: ConvergenceWarning: Objective did not converge. You might want to increase the number of iterations, check the scale of the features or consider increasing regularisation. Duality gap: 8.822e+09, tolerance: 2.871e+08\n",
      "  model = cd_fast.enet_coordinate_descent(\n",
      "/Users/silviaresende/opt/anaconda3/lib/python3.9/site-packages/sklearn/linear_model/_coordinate_descent.py:647: ConvergenceWarning: Objective did not converge. You might want to increase the number of iterations, check the scale of the features or consider increasing regularisation. Duality gap: 1.794e+09, tolerance: 2.902e+08\n",
      "  model = cd_fast.enet_coordinate_descent(\n",
      "/Users/silviaresende/opt/anaconda3/lib/python3.9/site-packages/sklearn/linear_model/_coordinate_descent.py:647: ConvergenceWarning: Objective did not converge. You might want to increase the number of iterations, check the scale of the features or consider increasing regularisation. Duality gap: 5.759e+09, tolerance: 2.856e+08\n",
      "  model = cd_fast.enet_coordinate_descent(\n",
      "/Users/silviaresende/opt/anaconda3/lib/python3.9/site-packages/sklearn/linear_model/_coordinate_descent.py:647: ConvergenceWarning: Objective did not converge. You might want to increase the number of iterations, check the scale of the features or consider increasing regularisation. Duality gap: 7.168e+08, tolerance: 2.887e+08\n",
      "  model = cd_fast.enet_coordinate_descent(\n",
      "/Users/silviaresende/opt/anaconda3/lib/python3.9/site-packages/sklearn/linear_model/_coordinate_descent.py:647: ConvergenceWarning: Objective did not converge. You might want to increase the number of iterations, check the scale of the features or consider increasing regularisation. Duality gap: 5.726e+09, tolerance: 2.871e+08\n",
      "  model = cd_fast.enet_coordinate_descent(\n",
      "/Users/silviaresende/opt/anaconda3/lib/python3.9/site-packages/sklearn/linear_model/_coordinate_descent.py:647: ConvergenceWarning: Objective did not converge. You might want to increase the number of iterations, check the scale of the features or consider increasing regularisation. Duality gap: 1.795e+09, tolerance: 2.902e+08\n",
      "  model = cd_fast.enet_coordinate_descent(\n",
      "/Users/silviaresende/opt/anaconda3/lib/python3.9/site-packages/sklearn/linear_model/_coordinate_descent.py:647: ConvergenceWarning: Objective did not converge. You might want to increase the number of iterations, check the scale of the features or consider increasing regularisation. Duality gap: 5.182e+09, tolerance: 2.856e+08\n",
      "  model = cd_fast.enet_coordinate_descent(\n",
      "/Users/silviaresende/opt/anaconda3/lib/python3.9/site-packages/sklearn/linear_model/_coordinate_descent.py:647: ConvergenceWarning: Objective did not converge. You might want to increase the number of iterations, check the scale of the features or consider increasing regularisation. Duality gap: 7.176e+08, tolerance: 2.887e+08\n",
      "  model = cd_fast.enet_coordinate_descent(\n",
      "/Users/silviaresende/opt/anaconda3/lib/python3.9/site-packages/sklearn/linear_model/_coordinate_descent.py:647: ConvergenceWarning: Objective did not converge. You might want to increase the number of iterations, check the scale of the features or consider increasing regularisation. Duality gap: 4.190e+09, tolerance: 2.871e+08\n",
      "  model = cd_fast.enet_coordinate_descent(\n",
      "/Users/silviaresende/opt/anaconda3/lib/python3.9/site-packages/sklearn/linear_model/_coordinate_descent.py:647: ConvergenceWarning: Objective did not converge. You might want to increase the number of iterations, check the scale of the features or consider increasing regularisation. Duality gap: 1.796e+09, tolerance: 2.902e+08\n",
      "  model = cd_fast.enet_coordinate_descent(\n",
      "/Users/silviaresende/opt/anaconda3/lib/python3.9/site-packages/sklearn/linear_model/_coordinate_descent.py:647: ConvergenceWarning: Objective did not converge. You might want to increase the number of iterations, check the scale of the features or consider increasing regularisation. Duality gap: 4.685e+09, tolerance: 2.856e+08\n",
      "  model = cd_fast.enet_coordinate_descent(\n",
      "/Users/silviaresende/opt/anaconda3/lib/python3.9/site-packages/sklearn/linear_model/_coordinate_descent.py:647: ConvergenceWarning: Objective did not converge. You might want to increase the number of iterations, check the scale of the features or consider increasing regularisation. Duality gap: 7.185e+08, tolerance: 2.887e+08\n",
      "  model = cd_fast.enet_coordinate_descent(\n",
      "/Users/silviaresende/opt/anaconda3/lib/python3.9/site-packages/sklearn/linear_model/_coordinate_descent.py:647: ConvergenceWarning: Objective did not converge. You might want to increase the number of iterations, check the scale of the features or consider increasing regularisation. Duality gap: 3.239e+09, tolerance: 2.871e+08\n",
      "  model = cd_fast.enet_coordinate_descent(\n",
      "/Users/silviaresende/opt/anaconda3/lib/python3.9/site-packages/sklearn/linear_model/_coordinate_descent.py:647: ConvergenceWarning: Objective did not converge. You might want to increase the number of iterations, check the scale of the features or consider increasing regularisation. Duality gap: 1.797e+09, tolerance: 2.902e+08\n",
      "  model = cd_fast.enet_coordinate_descent(\n",
      "/Users/silviaresende/opt/anaconda3/lib/python3.9/site-packages/sklearn/linear_model/_coordinate_descent.py:647: ConvergenceWarning: Objective did not converge. You might want to increase the number of iterations, check the scale of the features or consider increasing regularisation. Duality gap: 4.257e+09, tolerance: 2.856e+08\n",
      "  model = cd_fast.enet_coordinate_descent(\n",
      "/Users/silviaresende/opt/anaconda3/lib/python3.9/site-packages/sklearn/linear_model/_coordinate_descent.py:647: ConvergenceWarning: Objective did not converge. You might want to increase the number of iterations, check the scale of the features or consider increasing regularisation. Duality gap: 7.195e+08, tolerance: 2.887e+08\n",
      "  model = cd_fast.enet_coordinate_descent(\n",
      "/Users/silviaresende/opt/anaconda3/lib/python3.9/site-packages/sklearn/linear_model/_coordinate_descent.py:647: ConvergenceWarning: Objective did not converge. You might want to increase the number of iterations, check the scale of the features or consider increasing regularisation. Duality gap: 2.565e+09, tolerance: 2.871e+08\n",
      "  model = cd_fast.enet_coordinate_descent(\n",
      "/Users/silviaresende/opt/anaconda3/lib/python3.9/site-packages/sklearn/linear_model/_coordinate_descent.py:647: ConvergenceWarning: Objective did not converge. You might want to increase the number of iterations, check the scale of the features or consider increasing regularisation. Duality gap: 1.798e+09, tolerance: 2.902e+08\n",
      "  model = cd_fast.enet_coordinate_descent(\n",
      "/Users/silviaresende/opt/anaconda3/lib/python3.9/site-packages/sklearn/linear_model/_coordinate_descent.py:647: ConvergenceWarning: Objective did not converge. You might want to increase the number of iterations, check the scale of the features or consider increasing regularisation. Duality gap: 3.887e+09, tolerance: 2.856e+08\n",
      "  model = cd_fast.enet_coordinate_descent(\n",
      "/Users/silviaresende/opt/anaconda3/lib/python3.9/site-packages/sklearn/linear_model/_coordinate_descent.py:647: ConvergenceWarning: Objective did not converge. You might want to increase the number of iterations, check the scale of the features or consider increasing regularisation. Duality gap: 7.206e+08, tolerance: 2.887e+08\n",
      "  model = cd_fast.enet_coordinate_descent(\n",
      "/Users/silviaresende/opt/anaconda3/lib/python3.9/site-packages/sklearn/linear_model/_coordinate_descent.py:647: ConvergenceWarning: Objective did not converge. You might want to increase the number of iterations, check the scale of the features or consider increasing regularisation. Duality gap: 2.052e+09, tolerance: 2.871e+08\n",
      "  model = cd_fast.enet_coordinate_descent(\n",
      "/Users/silviaresende/opt/anaconda3/lib/python3.9/site-packages/sklearn/linear_model/_coordinate_descent.py:647: ConvergenceWarning: Objective did not converge. You might want to increase the number of iterations, check the scale of the features or consider increasing regularisation. Duality gap: 1.799e+09, tolerance: 2.902e+08\n",
      "  model = cd_fast.enet_coordinate_descent(\n",
      "/Users/silviaresende/opt/anaconda3/lib/python3.9/site-packages/sklearn/linear_model/_coordinate_descent.py:647: ConvergenceWarning: Objective did not converge. You might want to increase the number of iterations, check the scale of the features or consider increasing regularisation. Duality gap: 3.568e+09, tolerance: 2.856e+08\n",
      "  model = cd_fast.enet_coordinate_descent(\n",
      "/Users/silviaresende/opt/anaconda3/lib/python3.9/site-packages/sklearn/linear_model/_coordinate_descent.py:647: ConvergenceWarning: Objective did not converge. You might want to increase the number of iterations, check the scale of the features or consider increasing regularisation. Duality gap: 7.219e+08, tolerance: 2.887e+08\n",
      "  model = cd_fast.enet_coordinate_descent(\n",
      "/Users/silviaresende/opt/anaconda3/lib/python3.9/site-packages/sklearn/linear_model/_coordinate_descent.py:647: ConvergenceWarning: Objective did not converge. You might want to increase the number of iterations, check the scale of the features or consider increasing regularisation. Duality gap: 1.650e+09, tolerance: 2.871e+08\n",
      "  model = cd_fast.enet_coordinate_descent(\n",
      "/Users/silviaresende/opt/anaconda3/lib/python3.9/site-packages/sklearn/linear_model/_coordinate_descent.py:647: ConvergenceWarning: Objective did not converge. You might want to increase the number of iterations, check the scale of the features or consider increasing regularisation. Duality gap: 3.293e+09, tolerance: 2.856e+08\n",
      "  model = cd_fast.enet_coordinate_descent(\n",
      "/Users/silviaresende/opt/anaconda3/lib/python3.9/site-packages/sklearn/linear_model/_coordinate_descent.py:647: ConvergenceWarning: Objective did not converge. You might want to increase the number of iterations, check the scale of the features or consider increasing regularisation. Duality gap: 7.233e+08, tolerance: 2.887e+08\n",
      "  model = cd_fast.enet_coordinate_descent(\n",
      "/Users/silviaresende/opt/anaconda3/lib/python3.9/site-packages/sklearn/linear_model/_coordinate_descent.py:647: ConvergenceWarning: Objective did not converge. You might want to increase the number of iterations, check the scale of the features or consider increasing regularisation. Duality gap: 1.492e+09, tolerance: 2.871e+08\n",
      "  model = cd_fast.enet_coordinate_descent(\n",
      "/Users/silviaresende/opt/anaconda3/lib/python3.9/site-packages/sklearn/linear_model/_coordinate_descent.py:647: ConvergenceWarning: Objective did not converge. You might want to increase the number of iterations, check the scale of the features or consider increasing regularisation. Duality gap: 3.054e+09, tolerance: 2.856e+08\n",
      "  model = cd_fast.enet_coordinate_descent(\n",
      "/Users/silviaresende/opt/anaconda3/lib/python3.9/site-packages/sklearn/linear_model/_coordinate_descent.py:647: ConvergenceWarning: Objective did not converge. You might want to increase the number of iterations, check the scale of the features or consider increasing regularisation. Duality gap: 7.249e+08, tolerance: 2.887e+08\n",
      "  model = cd_fast.enet_coordinate_descent(\n",
      "/Users/silviaresende/opt/anaconda3/lib/python3.9/site-packages/sklearn/linear_model/_coordinate_descent.py:647: ConvergenceWarning: Objective did not converge. You might want to increase the number of iterations, check the scale of the features or consider increasing regularisation. Duality gap: 1.492e+09, tolerance: 2.871e+08\n",
      "  model = cd_fast.enet_coordinate_descent(\n",
      "/Users/silviaresende/opt/anaconda3/lib/python3.9/site-packages/sklearn/linear_model/_coordinate_descent.py:647: ConvergenceWarning: Objective did not converge. You might want to increase the number of iterations, check the scale of the features or consider increasing regularisation. Duality gap: 2.848e+09, tolerance: 2.856e+08\n",
      "  model = cd_fast.enet_coordinate_descent(\n",
      "/Users/silviaresende/opt/anaconda3/lib/python3.9/site-packages/sklearn/linear_model/_coordinate_descent.py:647: ConvergenceWarning: Objective did not converge. You might want to increase the number of iterations, check the scale of the features or consider increasing regularisation. Duality gap: 7.267e+08, tolerance: 2.887e+08\n",
      "  model = cd_fast.enet_coordinate_descent(\n",
      "/Users/silviaresende/opt/anaconda3/lib/python3.9/site-packages/sklearn/linear_model/_coordinate_descent.py:647: ConvergenceWarning: Objective did not converge. You might want to increase the number of iterations, check the scale of the features or consider increasing regularisation. Duality gap: 1.492e+09, tolerance: 2.871e+08\n",
      "  model = cd_fast.enet_coordinate_descent(\n",
      "/Users/silviaresende/opt/anaconda3/lib/python3.9/site-packages/sklearn/linear_model/_coordinate_descent.py:647: ConvergenceWarning: Objective did not converge. You might want to increase the number of iterations, check the scale of the features or consider increasing regularisation. Duality gap: 2.670e+09, tolerance: 2.856e+08\n",
      "  model = cd_fast.enet_coordinate_descent(\n",
      "/Users/silviaresende/opt/anaconda3/lib/python3.9/site-packages/sklearn/linear_model/_coordinate_descent.py:647: ConvergenceWarning: Objective did not converge. You might want to increase the number of iterations, check the scale of the features or consider increasing regularisation. Duality gap: 7.287e+08, tolerance: 2.887e+08\n",
      "  model = cd_fast.enet_coordinate_descent(\n",
      "/Users/silviaresende/opt/anaconda3/lib/python3.9/site-packages/sklearn/linear_model/_coordinate_descent.py:647: ConvergenceWarning: Objective did not converge. You might want to increase the number of iterations, check the scale of the features or consider increasing regularisation. Duality gap: 1.492e+09, tolerance: 2.871e+08\n",
      "  model = cd_fast.enet_coordinate_descent(\n",
      "/Users/silviaresende/opt/anaconda3/lib/python3.9/site-packages/sklearn/linear_model/_coordinate_descent.py:647: ConvergenceWarning: Objective did not converge. You might want to increase the number of iterations, check the scale of the features or consider increasing regularisation. Duality gap: 2.515e+09, tolerance: 2.856e+08\n",
      "  model = cd_fast.enet_coordinate_descent(\n",
      "/Users/silviaresende/opt/anaconda3/lib/python3.9/site-packages/sklearn/linear_model/_coordinate_descent.py:647: ConvergenceWarning: Objective did not converge. You might want to increase the number of iterations, check the scale of the features or consider increasing regularisation. Duality gap: 7.309e+08, tolerance: 2.887e+08\n",
      "  model = cd_fast.enet_coordinate_descent(\n",
      "/Users/silviaresende/opt/anaconda3/lib/python3.9/site-packages/sklearn/linear_model/_coordinate_descent.py:647: ConvergenceWarning: Objective did not converge. You might want to increase the number of iterations, check the scale of the features or consider increasing regularisation. Duality gap: 1.493e+09, tolerance: 2.871e+08\n",
      "  model = cd_fast.enet_coordinate_descent(\n",
      "/Users/silviaresende/opt/anaconda3/lib/python3.9/site-packages/sklearn/linear_model/_coordinate_descent.py:647: ConvergenceWarning: Objective did not converge. You might want to increase the number of iterations, check the scale of the features or consider increasing regularisation. Duality gap: 2.380e+09, tolerance: 2.856e+08\n",
      "  model = cd_fast.enet_coordinate_descent(\n",
      "/Users/silviaresende/opt/anaconda3/lib/python3.9/site-packages/sklearn/linear_model/_coordinate_descent.py:647: ConvergenceWarning: Objective did not converge. You might want to increase the number of iterations, check the scale of the features or consider increasing regularisation. Duality gap: 7.334e+08, tolerance: 2.887e+08\n",
      "  model = cd_fast.enet_coordinate_descent(\n",
      "/Users/silviaresende/opt/anaconda3/lib/python3.9/site-packages/sklearn/linear_model/_coordinate_descent.py:647: ConvergenceWarning: Objective did not converge. You might want to increase the number of iterations, check the scale of the features or consider increasing regularisation. Duality gap: 1.494e+09, tolerance: 2.871e+08\n",
      "  model = cd_fast.enet_coordinate_descent(\n",
      "/Users/silviaresende/opt/anaconda3/lib/python3.9/site-packages/sklearn/linear_model/_coordinate_descent.py:647: ConvergenceWarning: Objective did not converge. You might want to increase the number of iterations, check the scale of the features or consider increasing regularisation. Duality gap: 2.264e+09, tolerance: 2.856e+08\n",
      "  model = cd_fast.enet_coordinate_descent(\n",
      "/Users/silviaresende/opt/anaconda3/lib/python3.9/site-packages/sklearn/linear_model/_coordinate_descent.py:647: ConvergenceWarning: Objective did not converge. You might want to increase the number of iterations, check the scale of the features or consider increasing regularisation. Duality gap: 7.363e+08, tolerance: 2.887e+08\n",
      "  model = cd_fast.enet_coordinate_descent(\n",
      "/Users/silviaresende/opt/anaconda3/lib/python3.9/site-packages/sklearn/linear_model/_coordinate_descent.py:647: ConvergenceWarning: Objective did not converge. You might want to increase the number of iterations, check the scale of the features or consider increasing regularisation. Duality gap: 1.496e+09, tolerance: 2.871e+08\n",
      "  model = cd_fast.enet_coordinate_descent(\n",
      "/Users/silviaresende/opt/anaconda3/lib/python3.9/site-packages/sklearn/linear_model/_coordinate_descent.py:647: ConvergenceWarning: Objective did not converge. You might want to increase the number of iterations, check the scale of the features or consider increasing regularisation. Duality gap: 2.163e+09, tolerance: 2.856e+08\n",
      "  model = cd_fast.enet_coordinate_descent(\n",
      "/Users/silviaresende/opt/anaconda3/lib/python3.9/site-packages/sklearn/linear_model/_coordinate_descent.py:647: ConvergenceWarning: Objective did not converge. You might want to increase the number of iterations, check the scale of the features or consider increasing regularisation. Duality gap: 7.395e+08, tolerance: 2.887e+08\n",
      "  model = cd_fast.enet_coordinate_descent(\n",
      "/Users/silviaresende/opt/anaconda3/lib/python3.9/site-packages/sklearn/linear_model/_coordinate_descent.py:647: ConvergenceWarning: Objective did not converge. You might want to increase the number of iterations, check the scale of the features or consider increasing regularisation. Duality gap: 1.498e+09, tolerance: 2.871e+08\n",
      "  model = cd_fast.enet_coordinate_descent(\n",
      "/Users/silviaresende/opt/anaconda3/lib/python3.9/site-packages/sklearn/linear_model/_coordinate_descent.py:647: ConvergenceWarning: Objective did not converge. You might want to increase the number of iterations, check the scale of the features or consider increasing regularisation. Duality gap: 8.091e+08, tolerance: 2.856e+08\n",
      "  model = cd_fast.enet_coordinate_descent(\n",
      "/Users/silviaresende/opt/anaconda3/lib/python3.9/site-packages/sklearn/linear_model/_coordinate_descent.py:647: ConvergenceWarning: Objective did not converge. You might want to increase the number of iterations, check the scale of the features or consider increasing regularisation. Duality gap: 7.430e+08, tolerance: 2.887e+08\n",
      "  model = cd_fast.enet_coordinate_descent(\n",
      "/Users/silviaresende/opt/anaconda3/lib/python3.9/site-packages/sklearn/linear_model/_coordinate_descent.py:647: ConvergenceWarning: Objective did not converge. You might want to increase the number of iterations, check the scale of the features or consider increasing regularisation. Duality gap: 1.501e+09, tolerance: 2.871e+08\n",
      "  model = cd_fast.enet_coordinate_descent(\n",
      "/Users/silviaresende/opt/anaconda3/lib/python3.9/site-packages/sklearn/linear_model/_coordinate_descent.py:647: ConvergenceWarning: Objective did not converge. You might want to increase the number of iterations, check the scale of the features or consider increasing regularisation. Duality gap: 7.046e+08, tolerance: 2.856e+08\n",
      "  model = cd_fast.enet_coordinate_descent(\n",
      "/Users/silviaresende/opt/anaconda3/lib/python3.9/site-packages/sklearn/linear_model/_coordinate_descent.py:647: ConvergenceWarning: Objective did not converge. You might want to increase the number of iterations, check the scale of the features or consider increasing regularisation. Duality gap: 7.470e+08, tolerance: 2.887e+08\n",
      "  model = cd_fast.enet_coordinate_descent(\n",
      "/Users/silviaresende/opt/anaconda3/lib/python3.9/site-packages/sklearn/linear_model/_coordinate_descent.py:647: ConvergenceWarning: Objective did not converge. You might want to increase the number of iterations, check the scale of the features or consider increasing regularisation. Duality gap: 1.504e+09, tolerance: 2.871e+08\n",
      "  model = cd_fast.enet_coordinate_descent(\n",
      "/Users/silviaresende/opt/anaconda3/lib/python3.9/site-packages/sklearn/linear_model/_coordinate_descent.py:647: ConvergenceWarning: Objective did not converge. You might want to increase the number of iterations, check the scale of the features or consider increasing regularisation. Duality gap: 7.076e+08, tolerance: 2.856e+08\n",
      "  model = cd_fast.enet_coordinate_descent(\n",
      "/Users/silviaresende/opt/anaconda3/lib/python3.9/site-packages/sklearn/linear_model/_coordinate_descent.py:647: ConvergenceWarning: Objective did not converge. You might want to increase the number of iterations, check the scale of the features or consider increasing regularisation. Duality gap: 7.515e+08, tolerance: 2.887e+08\n",
      "  model = cd_fast.enet_coordinate_descent(\n",
      "/Users/silviaresende/opt/anaconda3/lib/python3.9/site-packages/sklearn/linear_model/_coordinate_descent.py:647: ConvergenceWarning: Objective did not converge. You might want to increase the number of iterations, check the scale of the features or consider increasing regularisation. Duality gap: 1.507e+09, tolerance: 2.871e+08\n",
      "  model = cd_fast.enet_coordinate_descent(\n",
      "/Users/silviaresende/opt/anaconda3/lib/python3.9/site-packages/sklearn/linear_model/_coordinate_descent.py:647: ConvergenceWarning: Objective did not converge. You might want to increase the number of iterations, check the scale of the features or consider increasing regularisation. Duality gap: 7.116e+08, tolerance: 2.856e+08\n",
      "  model = cd_fast.enet_coordinate_descent(\n",
      "/Users/silviaresende/opt/anaconda3/lib/python3.9/site-packages/sklearn/linear_model/_coordinate_descent.py:647: ConvergenceWarning: Objective did not converge. You might want to increase the number of iterations, check the scale of the features or consider increasing regularisation. Duality gap: 7.565e+08, tolerance: 2.887e+08\n",
      "  model = cd_fast.enet_coordinate_descent(\n",
      "/Users/silviaresende/opt/anaconda3/lib/python3.9/site-packages/sklearn/linear_model/_coordinate_descent.py:647: ConvergenceWarning: Objective did not converge. You might want to increase the number of iterations, check the scale of the features or consider increasing regularisation. Duality gap: 1.512e+09, tolerance: 2.871e+08\n",
      "  model = cd_fast.enet_coordinate_descent(\n",
      "/Users/silviaresende/opt/anaconda3/lib/python3.9/site-packages/sklearn/linear_model/_coordinate_descent.py:647: ConvergenceWarning: Objective did not converge. You might want to increase the number of iterations, check the scale of the features or consider increasing regularisation. Duality gap: 7.164e+08, tolerance: 2.856e+08\n",
      "  model = cd_fast.enet_coordinate_descent(\n",
      "/Users/silviaresende/opt/anaconda3/lib/python3.9/site-packages/sklearn/linear_model/_coordinate_descent.py:647: ConvergenceWarning: Objective did not converge. You might want to increase the number of iterations, check the scale of the features or consider increasing regularisation. Duality gap: 7.621e+08, tolerance: 2.887e+08\n",
      "  model = cd_fast.enet_coordinate_descent(\n",
      "/Users/silviaresende/opt/anaconda3/lib/python3.9/site-packages/sklearn/linear_model/_coordinate_descent.py:647: ConvergenceWarning: Objective did not converge. You might want to increase the number of iterations, check the scale of the features or consider increasing regularisation. Duality gap: 1.517e+09, tolerance: 2.871e+08\n",
      "  model = cd_fast.enet_coordinate_descent(\n",
      "/Users/silviaresende/opt/anaconda3/lib/python3.9/site-packages/sklearn/linear_model/_coordinate_descent.py:647: ConvergenceWarning: Objective did not converge. You might want to increase the number of iterations, check the scale of the features or consider increasing regularisation. Duality gap: 7.220e+08, tolerance: 2.856e+08\n",
      "  model = cd_fast.enet_coordinate_descent(\n",
      "/Users/silviaresende/opt/anaconda3/lib/python3.9/site-packages/sklearn/linear_model/_coordinate_descent.py:647: ConvergenceWarning: Objective did not converge. You might want to increase the number of iterations, check the scale of the features or consider increasing regularisation. Duality gap: 7.684e+08, tolerance: 2.887e+08\n",
      "  model = cd_fast.enet_coordinate_descent(\n",
      "/Users/silviaresende/opt/anaconda3/lib/python3.9/site-packages/sklearn/linear_model/_coordinate_descent.py:647: ConvergenceWarning: Objective did not converge. You might want to increase the number of iterations, check the scale of the features or consider increasing regularisation. Duality gap: 1.523e+09, tolerance: 2.871e+08\n",
      "  model = cd_fast.enet_coordinate_descent(\n",
      "/Users/silviaresende/opt/anaconda3/lib/python3.9/site-packages/sklearn/linear_model/_coordinate_descent.py:647: ConvergenceWarning: Objective did not converge. You might want to increase the number of iterations, check the scale of the features or consider increasing regularisation. Duality gap: 7.284e+08, tolerance: 2.856e+08\n",
      "  model = cd_fast.enet_coordinate_descent(\n",
      "/Users/silviaresende/opt/anaconda3/lib/python3.9/site-packages/sklearn/linear_model/_coordinate_descent.py:647: ConvergenceWarning: Objective did not converge. You might want to increase the number of iterations, check the scale of the features or consider increasing regularisation. Duality gap: 7.754e+08, tolerance: 2.887e+08\n",
      "  model = cd_fast.enet_coordinate_descent(\n",
      "/Users/silviaresende/opt/anaconda3/lib/python3.9/site-packages/sklearn/linear_model/_coordinate_descent.py:647: ConvergenceWarning: Objective did not converge. You might want to increase the number of iterations, check the scale of the features or consider increasing regularisation. Duality gap: 1.529e+09, tolerance: 2.871e+08\n",
      "  model = cd_fast.enet_coordinate_descent(\n",
      "/Users/silviaresende/opt/anaconda3/lib/python3.9/site-packages/sklearn/linear_model/_coordinate_descent.py:647: ConvergenceWarning: Objective did not converge. You might want to increase the number of iterations, check the scale of the features or consider increasing regularisation. Duality gap: 7.355e+08, tolerance: 2.856e+08\n",
      "  model = cd_fast.enet_coordinate_descent(\n",
      "/Users/silviaresende/opt/anaconda3/lib/python3.9/site-packages/sklearn/linear_model/_coordinate_descent.py:647: ConvergenceWarning: Objective did not converge. You might want to increase the number of iterations, check the scale of the features or consider increasing regularisation. Duality gap: 7.833e+08, tolerance: 2.887e+08\n",
      "  model = cd_fast.enet_coordinate_descent(\n",
      "/Users/silviaresende/opt/anaconda3/lib/python3.9/site-packages/sklearn/linear_model/_coordinate_descent.py:647: ConvergenceWarning: Objective did not converge. You might want to increase the number of iterations, check the scale of the features or consider increasing regularisation. Duality gap: 1.536e+09, tolerance: 2.871e+08\n",
      "  model = cd_fast.enet_coordinate_descent(\n",
      "/Users/silviaresende/opt/anaconda3/lib/python3.9/site-packages/sklearn/linear_model/_coordinate_descent.py:647: ConvergenceWarning: Objective did not converge. You might want to increase the number of iterations, check the scale of the features or consider increasing regularisation. Duality gap: 7.436e+08, tolerance: 2.856e+08\n",
      "  model = cd_fast.enet_coordinate_descent(\n",
      "/Users/silviaresende/opt/anaconda3/lib/python3.9/site-packages/sklearn/linear_model/_coordinate_descent.py:647: ConvergenceWarning: Objective did not converge. You might want to increase the number of iterations, check the scale of the features or consider increasing regularisation. Duality gap: 7.921e+08, tolerance: 2.887e+08\n",
      "  model = cd_fast.enet_coordinate_descent(\n",
      "/Users/silviaresende/opt/anaconda3/lib/python3.9/site-packages/sklearn/linear_model/_coordinate_descent.py:647: ConvergenceWarning: Objective did not converge. You might want to increase the number of iterations, check the scale of the features or consider increasing regularisation. Duality gap: 1.545e+09, tolerance: 2.871e+08\n",
      "  model = cd_fast.enet_coordinate_descent(\n",
      "/Users/silviaresende/opt/anaconda3/lib/python3.9/site-packages/sklearn/linear_model/_coordinate_descent.py:647: ConvergenceWarning: Objective did not converge. You might want to increase the number of iterations, check the scale of the features or consider increasing regularisation. Duality gap: 7.527e+08, tolerance: 2.856e+08\n",
      "  model = cd_fast.enet_coordinate_descent(\n",
      "/Users/silviaresende/opt/anaconda3/lib/python3.9/site-packages/sklearn/linear_model/_coordinate_descent.py:647: ConvergenceWarning: Objective did not converge. You might want to increase the number of iterations, check the scale of the features or consider increasing regularisation. Duality gap: 8.019e+08, tolerance: 2.887e+08\n",
      "  model = cd_fast.enet_coordinate_descent(\n",
      "/Users/silviaresende/opt/anaconda3/lib/python3.9/site-packages/sklearn/linear_model/_coordinate_descent.py:647: ConvergenceWarning: Objective did not converge. You might want to increase the number of iterations, check the scale of the features or consider increasing regularisation. Duality gap: 1.554e+09, tolerance: 2.871e+08\n",
      "  model = cd_fast.enet_coordinate_descent(\n",
      "/Users/silviaresende/opt/anaconda3/lib/python3.9/site-packages/sklearn/linear_model/_coordinate_descent.py:647: ConvergenceWarning: Objective did not converge. You might want to increase the number of iterations, check the scale of the features or consider increasing regularisation. Duality gap: 7.628e+08, tolerance: 2.856e+08\n",
      "  model = cd_fast.enet_coordinate_descent(\n",
      "/Users/silviaresende/opt/anaconda3/lib/python3.9/site-packages/sklearn/linear_model/_coordinate_descent.py:647: ConvergenceWarning: Objective did not converge. You might want to increase the number of iterations, check the scale of the features or consider increasing regularisation. Duality gap: 8.128e+08, tolerance: 2.887e+08\n",
      "  model = cd_fast.enet_coordinate_descent(\n",
      "/Users/silviaresende/opt/anaconda3/lib/python3.9/site-packages/sklearn/linear_model/_coordinate_descent.py:647: ConvergenceWarning: Objective did not converge. You might want to increase the number of iterations, check the scale of the features or consider increasing regularisation. Duality gap: 1.565e+09, tolerance: 2.871e+08\n",
      "  model = cd_fast.enet_coordinate_descent(\n",
      "/Users/silviaresende/opt/anaconda3/lib/python3.9/site-packages/sklearn/linear_model/_coordinate_descent.py:647: ConvergenceWarning: Objective did not converge. You might want to increase the number of iterations, check the scale of the features or consider increasing regularisation. Duality gap: 7.742e+08, tolerance: 2.856e+08\n",
      "  model = cd_fast.enet_coordinate_descent(\n",
      "/Users/silviaresende/opt/anaconda3/lib/python3.9/site-packages/sklearn/linear_model/_coordinate_descent.py:647: ConvergenceWarning: Objective did not converge. You might want to increase the number of iterations, check the scale of the features or consider increasing regularisation. Duality gap: 8.251e+08, tolerance: 2.887e+08\n",
      "  model = cd_fast.enet_coordinate_descent(\n",
      "/Users/silviaresende/opt/anaconda3/lib/python3.9/site-packages/sklearn/linear_model/_coordinate_descent.py:647: ConvergenceWarning: Objective did not converge. You might want to increase the number of iterations, check the scale of the features or consider increasing regularisation. Duality gap: 1.577e+09, tolerance: 2.871e+08\n",
      "  model = cd_fast.enet_coordinate_descent(\n",
      "/Users/silviaresende/opt/anaconda3/lib/python3.9/site-packages/sklearn/linear_model/_coordinate_descent.py:647: ConvergenceWarning: Objective did not converge. You might want to increase the number of iterations, check the scale of the features or consider increasing regularisation. Duality gap: 7.869e+08, tolerance: 2.856e+08\n",
      "  model = cd_fast.enet_coordinate_descent(\n",
      "/Users/silviaresende/opt/anaconda3/lib/python3.9/site-packages/sklearn/linear_model/_coordinate_descent.py:647: ConvergenceWarning: Objective did not converge. You might want to increase the number of iterations, check the scale of the features or consider increasing regularisation. Duality gap: 4.659e+08, tolerance: 3.578e+08\n",
      "  model = cd_fast.enet_coordinate_descent(\n"
     ]
    }
   ],
   "source": [
    "lasso_grid.fit(Z_train, y_train);"
   ]
  },
  {
   "cell_type": "code",
   "execution_count": 140,
   "metadata": {},
   "outputs": [
    {
     "name": "stdout",
     "output_type": "stream",
     "text": [
      "== Tunned Lasso ==\n",
      "Trainning: 0.85982608010047\n",
      "Validation: 0.842332579124879\n",
      "Dif: 0.017493500975590992\n",
      "Best Alpha Estimator: Lasso()\n"
     ]
    }
   ],
   "source": [
    "print(\" Tunned Lasso \".center(18, \"=\"))\n",
    "print(\"Trainning:\",lasso_grid.score(Z_train, y_train))\n",
    "print(\"Validation:\",lasso_grid.score(Z_val, y_val))\n",
    "print(\"Dif:\",lasso_grid.score(Z_train, y_train) - lasso_grid.score(Z_val, y_val))\n",
    "print(\"Best Alpha Estimator:\", lasso_grid.best_estimator_)"
   ]
  },
  {
   "cell_type": "markdown",
   "metadata": {},
   "source": [
    "#### Setting Up Test Using Lasso  for Kaggle Submission\n",
    "___\n"
   ]
  },
  {
   "cell_type": "code",
   "execution_count": 141,
   "metadata": {},
   "outputs": [],
   "source": [
    "kag_lasso_preds =  lasso_cv.predict(Z_test)\n",
    "kag_lasso_sub = {'id': df_test['id'], 'saleprice':kag_lasso_preds}\n",
    "kag_lasso_sub = pd.DataFrame(kag_lasso_sub)\n",
    "\n",
    "kag_lasso_sub.to_csv('../data/submission_lasso.csv', index = False)"
   ]
  },
  {
   "cell_type": "markdown",
   "metadata": {},
   "source": [
    "### ElasticNet Regression\n",
    "____"
   ]
  },
  {
   "cell_type": "code",
   "execution_count": 142,
   "metadata": {},
   "outputs": [
    {
     "data": {
      "text/plain": [
       "array([0.1       , 0.10909091, 0.11818182, 0.12727273, 0.13636364,\n",
       "       0.14545455, 0.15454545, 0.16363636, 0.17272727, 0.18181818,\n",
       "       0.19090909, 0.2       , 0.20909091, 0.21818182, 0.22727273,\n",
       "       0.23636364, 0.24545455, 0.25454545, 0.26363636, 0.27272727,\n",
       "       0.28181818, 0.29090909, 0.3       , 0.30909091, 0.31818182,\n",
       "       0.32727273, 0.33636364, 0.34545455, 0.35454545, 0.36363636,\n",
       "       0.37272727, 0.38181818, 0.39090909, 0.4       , 0.40909091,\n",
       "       0.41818182, 0.42727273, 0.43636364, 0.44545455, 0.45454545,\n",
       "       0.46363636, 0.47272727, 0.48181818, 0.49090909, 0.5       ,\n",
       "       0.50909091, 0.51818182, 0.52727273, 0.53636364, 0.54545455,\n",
       "       0.55454545, 0.56363636, 0.57272727, 0.58181818, 0.59090909,\n",
       "       0.6       , 0.60909091, 0.61818182, 0.62727273, 0.63636364,\n",
       "       0.64545455, 0.65454545, 0.66363636, 0.67272727, 0.68181818,\n",
       "       0.69090909, 0.7       , 0.70909091, 0.71818182, 0.72727273,\n",
       "       0.73636364, 0.74545455, 0.75454545, 0.76363636, 0.77272727,\n",
       "       0.78181818, 0.79090909, 0.8       , 0.80909091, 0.81818182,\n",
       "       0.82727273, 0.83636364, 0.84545455, 0.85454545, 0.86363636,\n",
       "       0.87272727, 0.88181818, 0.89090909, 0.9       , 0.90909091,\n",
       "       0.91818182, 0.92727273, 0.93636364, 0.94545455, 0.95454545,\n",
       "       0.96363636, 0.97272727, 0.98181818, 0.99090909, 1.        ])"
      ]
     },
     "execution_count": 142,
     "metadata": {},
     "output_type": "execute_result"
    }
   ],
   "source": [
    "np.linspace(0.1, 1.0, 100)"
   ]
  },
  {
   "cell_type": "code",
   "execution_count": 143,
   "metadata": {},
   "outputs": [
    {
     "data": {
      "text/plain": [
       "0.34747474747474744"
      ]
     },
     "execution_count": 143,
     "metadata": {},
     "output_type": "execute_result"
    }
   ],
   "source": [
    "# Set up a list of alphas to check.\n",
    "enet_alphas = np.linspace(0.05, 1.0, 100)\n",
    "\n",
    "# Gets 0.8 ridge and 0.2 lasso regularization\n",
    "enet_l1 = 0.8\n",
    "# elastic model \n",
    "enet_cv = ElasticNetCV(alphas = enet_alphas, l1_ratio = enet_l1, cv = 5)\n",
    "# Fit model \n",
    "enet_cv = enet_cv.fit(Z_train, y_train)\n",
    "# Predicting\n",
    "enet_cv_preds_train = enet_cv.predict(Z_train)\n",
    "enet_cv_preds = enet_cv.predict(Z_val)\n",
    "# Here is the optimal value of alpha.\n",
    "enet_cv.alpha_"
   ]
  },
  {
   "cell_type": "code",
   "execution_count": 144,
   "metadata": {},
   "outputs": [
    {
     "name": "stdout",
     "output_type": "stream",
     "text": [
      "Trainning: 0.8580017641789197\n",
      "Validation: 0.8462152736973476\n",
      "Dif: 0.011786490481572098\n"
     ]
    }
   ],
   "source": [
    "# Evaluation\n",
    "print(\"Trainning:\", enet_cv.score(Z_train, y_train))\n",
    "print(\"Validation:\", enet_cv.score(Z_val, y_val))\n",
    "print(\"Dif:\", enet_cv.score(Z_train, y_train) - enet_cv.score(Z_val, y_val))"
   ]
  },
  {
   "cell_type": "markdown",
   "metadata": {},
   "source": [
    "### GriSearch for ElasticNet\n",
    "_____"
   ]
  },
  {
   "cell_type": "code",
   "execution_count": 145,
   "metadata": {},
   "outputs": [
    {
     "name": "stdout",
     "output_type": "stream",
     "text": [
      "Fitting 5 folds for each of 100 candidates, totalling 500 fits\n"
     ]
    },
    {
     "data": {
      "text/plain": [
       "({'alpha': 0.14595959595959596}, 0.8396798148917333)"
      ]
     },
     "execution_count": 145,
     "metadata": {},
     "output_type": "execute_result"
    }
   ],
   "source": [
    "param_el = {'alpha': np.linspace(0.05, 1.0, 100)}\n",
    "\n",
    "elast_grid = GridSearchCV(\n",
    "                        ElasticNet(), \n",
    "                        param_el,  \n",
    "                        cv=5,\n",
    "                        verbose = 1)\n",
    "\n",
    "elast_grid.fit(Z_train, y_train)  \n",
    "\n",
    "elast_grid.best_params_, elast_grid.best_score_  "
   ]
  },
  {
   "cell_type": "code",
   "execution_count": 146,
   "metadata": {},
   "outputs": [
    {
     "name": "stdout",
     "output_type": "stream",
     "text": [
      "=== Tunned ElasticNet ====\n",
      "Trainning: 0.8578792085362268\n",
      "Validation: 0.8462756581830637\n",
      "Dif: 0.011603550353163072\n",
      "Best Alpha Estimator: ElasticNet(alpha=0.14595959595959596)\n"
     ]
    }
   ],
   "source": [
    "print(\" Tunned ElasticNet \".center(26, \"=\"))\n",
    "print(\"Trainning:\",elast_grid.score(Z_train, y_train))\n",
    "print(\"Validation:\",elast_grid.score(Z_val, y_val))\n",
    "print(\"Dif:\",elast_grid.score(Z_train, y_train) - elast_grid.score(Z_val, y_val))\n",
    "print(\"Best Alpha Estimator:\", elast_grid.best_estimator_)"
   ]
  },
  {
   "cell_type": "markdown",
   "metadata": {},
   "source": [
    "### Summary Scores for OLS, Ridge and Lasso\n",
    "___"
   ]
  },
  {
   "cell_type": "code",
   "execution_count": 147,
   "metadata": {},
   "outputs": [
    {
     "name": "stdout",
     "output_type": "stream",
     "text": [
      "===============================\n",
      "Scores for OLS, Ridge and Lasso \n",
      "===============================\n",
      "\n",
      "====== OLS =======\n",
      "Trainning: 0.8598253241533164\n",
      "Validation: 0.8422733142022257\n",
      "Dif: 0.01755200995109063\n",
      "\n",
      "===== Ridge ======\n",
      "Trainning: 0.8582798688860932\n",
      "Validation: 0.846044555847994\n",
      "Dif: 0.012235313038099216\n",
      "\n",
      "== Tunned Ridge ==\n",
      "Trainning: 0.859098006840118\n",
      "Validation: 0.8451671749372274\n",
      "Dif: 0.013930831902890572\n",
      "Alpha: Ridge(alpha=41.32012400115337)\n",
      "\n",
      "===== Lasso ======\n",
      "Trainning: 0.85982608010047\n",
      "Validation: 0.842332579124879\n",
      "Dif: 0.017493500975590992\n",
      "\n",
      "== Tunned Lasso ==\n",
      "Trainning: 0.85982608010047\n",
      "Validation: 0.842332579124879\n",
      "Dif: 0.017493500975590992\n",
      "Best Alpha Estimator: Lasso()\n",
      "\n",
      "=== ElasticNet ===\n",
      "Trainning: 0.8580017641789197\n",
      "Validation: 0.8462152736973476\n",
      "Dif: 0.011786490481572098\n",
      "\n",
      "=== Tunned ElasticNet ====\n",
      "Trainning: 0.8578792085362268\n",
      "Validation: 0.8462756581830637\n",
      "Dif: 0.011603550353163072\n",
      "Best Alpha Estimator: ElasticNet(alpha=0.14595959595959596)\n"
     ]
    }
   ],
   "source": [
    "# List of Scores\n",
    "print(\"===============================\")\n",
    "print(\"Scores for OLS, Ridge and Lasso \")\n",
    "print(\"===============================\")\n",
    "print()\n",
    "print(\" OLS \".center(18, \"=\"))\n",
    "print(\"Trainning:\",lr.score(Z_train, y_train))\n",
    "print(\"Validation:\",lr.score(Z_val, y_val))\n",
    "print(\"Dif:\",lr.score(Z_train, y_train) - lr.score(Z_val, y_val))\n",
    "print()\n",
    "print(\" Ridge \".center(18, \"=\"))\n",
    "print(\"Trainning:\",ridge_cv.score(Z_train, y_train))\n",
    "print(\"Validation:\",ridge_cv.score(Z_val, y_val))\n",
    "print(\"Dif:\",ridge_cv.score(Z_train, y_train) - ridge_cv.score(Z_val, y_val))\n",
    "print()\n",
    "print(\" Tunned Ridge \".center(18, \"=\"))\n",
    "print(\"Trainning:\",ridge_grid.score(Z_train, y_train))\n",
    "print(\"Validation:\",ridge_grid.score(Z_val, y_val))\n",
    "print(\"Dif:\",ridge_grid.score(Z_train, y_train) - ridge_grid.score(Z_val, y_val))\n",
    "print(\"Alpha:\", ridge_grid.best_estimator_)\n",
    "print()\n",
    "print(\" Lasso \".center(18, \"=\"))\n",
    "print(\"Trainning:\",lasso_cv.score(Z_train, y_train))\n",
    "print(\"Validation:\",lasso_cv.score(Z_val, y_val))\n",
    "print(\"Dif:\",lasso_cv.score(Z_train, y_train) - lasso_cv.score(Z_val, y_val))\n",
    "print()\n",
    "print(\" Tunned Lasso \".center(18, \"=\"))\n",
    "print(\"Trainning:\",lasso_grid.score(Z_train, y_train))\n",
    "print(\"Validation:\",lasso_grid.score(Z_val, y_val))\n",
    "print(\"Dif:\",lasso_grid.score(Z_train, y_train) - lasso_grid.score(Z_val, y_val))\n",
    "print(\"Best Alpha Estimator:\", lasso_grid.best_estimator_)\n",
    "print()\n",
    "print(\" ElasticNet \".center(18, \"=\"))\n",
    "print(\"Trainning:\", enet_cv.score(Z_train, y_train))\n",
    "print(\"Validation:\", enet_cv.score(Z_val, y_val))\n",
    "print(\"Dif:\", enet_cv.score(Z_train, y_train) - enet_cv.score(Z_val, y_val))\n",
    "print()\n",
    "print(\" Tunned ElasticNet \".center(26, \"=\"))\n",
    "print(\"Trainning:\",elast_grid.score(Z_train, y_train))\n",
    "print(\"Validation:\",elast_grid.score(Z_val, y_val))\n",
    "print(\"Dif:\",elast_grid.score(Z_train, y_train) - elast_grid.score(Z_val, y_val))\n",
    "print(\"Best Alpha Estimator:\", elast_grid.best_estimator_)\n"
   ]
  }
 ],
 "metadata": {
  "anaconda-cloud": {},
  "kernelspec": {
   "display_name": "Python 3.8.9 64-bit",
   "language": "python",
   "name": "python3"
  },
  "language_info": {
   "codemirror_mode": {
    "name": "ipython",
    "version": 3
   },
   "file_extension": ".py",
   "mimetype": "text/x-python",
   "name": "python",
   "nbconvert_exporter": "python",
   "pygments_lexer": "ipython3",
   "version": "3.8.9"
  },
  "vscode": {
   "interpreter": {
    "hash": "31f2aee4e71d21fbe5cf8b01ff0e069b9275f58929596ceb00d14d90e3e16cd6"
   }
  }
 },
 "nbformat": 4,
 "nbformat_minor": 4
}
